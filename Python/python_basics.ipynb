{
 "cells": [
  {
   "cell_type": "code",
   "execution_count": 18,
   "metadata": {},
   "outputs": [
    {
     "name": "stdout",
     "output_type": "stream",
     "text": [
      "Hello  Sam, we are happy to have you!\n",
      "Hello  Obed, we are happy to have you!\n",
      "Hello  Steve, we are happy to have you!\n",
      "Hello  Kiarie, we are happy to have you!\n",
      "Hello  Martha, we are happy to have you!\n"
     ]
    }
   ],
   "source": [
    "names = [\"Sam\", \"Obed\", \"Steve\", \"Kiarie\", \"Martha\"]\n",
    "\n",
    "for name in names:\n",
    "    print(f\"Hello  {name}, we are happy to have you!\")"
   ]
  },
  {
   "cell_type": "markdown",
   "metadata": {},
   "source": [
    "### Lists"
   ]
  },
  {
   "cell_type": "code",
   "execution_count": 19,
   "metadata": {},
   "outputs": [
    {
     "name": "stdout",
     "output_type": "stream",
     "text": [
      "[]\n",
      "['Sam']\n"
     ]
    }
   ],
   "source": [
    "new_list = []\n",
    "names = list()\n",
    "print(names)\n",
    "names.append(\"Sam\")\n",
    "print(names)"
   ]
  },
  {
   "cell_type": "code",
   "execution_count": 20,
   "metadata": {},
   "outputs": [
    {
     "name": "stdout",
     "output_type": "stream",
     "text": [
      "False\n",
      "True\n",
      "['red', 'blue', 'purple', 'green', 'yellow']\n"
     ]
    }
   ],
   "source": [
    "colors = [\"red\", \"blue\", \"green\", \"yellow\"]\n",
    "print(\"White\" in colors)\n",
    "print(\"red\" in colors)\n",
    "colors.insert(2, \"purple\")\n",
    "print(colors)"
   ]
  },
  {
   "cell_type": "code",
   "execution_count": 21,
   "metadata": {},
   "outputs": [
    {
     "name": "stdout",
     "output_type": "stream",
     "text": [
      "red\n",
      "blue\n",
      "purple\n",
      "green\n",
      "yellow\n"
     ]
    }
   ],
   "source": [
    "for color in colors:\n",
    "    print(color)"
   ]
  },
  {
   "cell_type": "code",
   "execution_count": 22,
   "metadata": {},
   "outputs": [
    {
     "name": "stdout",
     "output_type": "stream",
     "text": [
      "['red']\n"
     ]
    }
   ],
   "source": [
    "print(colors[:1])"
   ]
  },
  {
   "cell_type": "code",
   "execution_count": 23,
   "metadata": {},
   "outputs": [
    {
     "name": "stdout",
     "output_type": "stream",
     "text": [
      "('apple', 'banana', 'cherry')\n",
      "banana\n"
     ]
    }
   ],
   "source": [
    "# Creating a tuple\n",
    "fruits = (\"apple\", \"banana\", \"cherry\")\n",
    "print(fruits)  # Output: ('apple', 'banana', 'cherry')\n",
    "\n",
    "# Accessing an item by index\n",
    "print(fruits[1])  # Output: 'banana'\n",
    "\n",
    "# Tuples are immutable, so you cannot add or remove items\n",
    "# fruits.append(\"orange\")  # This will raise an AttributeError"
   ]
  },
  {
   "cell_type": "code",
   "execution_count": 24,
   "metadata": {},
   "outputs": [
    {
     "name": "stdout",
     "output_type": "stream",
     "text": [
      "['apple', 'banana', 'cherry']\n",
      "['apple', 'banana', 'cherry', 'orange']\n",
      "banana\n",
      "['apple', 'cherry', 'orange']\n"
     ]
    }
   ],
   "source": [
    "# Creating a list\n",
    "fruits = [\"apple\", \"banana\", \"cherry\"]\n",
    "print(fruits)  # Output: ['apple', 'banana', 'cherry']\n",
    "\n",
    "# Adding an item to the list\n",
    "fruits.append(\"orange\")\n",
    "print(fruits)  # Output: ['apple', 'banana', 'cherry', 'orange']\n",
    "\n",
    "# Accessing an item by index\n",
    "print(fruits[1])  # Output: 'banana'\n",
    "\n",
    "# Removing an item from the list\n",
    "fruits.remove(\"banana\")\n",
    "print(fruits)  # Output: ['apple', 'cherry', 'orange']\n",
    "\n"
   ]
  },
  {
   "cell_type": "code",
   "execution_count": 25,
   "metadata": {},
   "outputs": [
    {
     "name": "stdout",
     "output_type": "stream",
     "text": [
      "{'apple': 'red', 'banana': 'yellow', 'cherry': 'red'}\n",
      "yellow\n",
      "{'apple': 'red', 'banana': 'yellow', 'cherry': 'red', 'orange': 'orange'}\n",
      "{'apple': 'red', 'cherry': 'red', 'orange': 'orange'}\n"
     ]
    }
   ],
   "source": [
    "# Creating a dictionary\n",
    "fruit_colors = {\"apple\": \"red\", \"banana\": \"yellow\", \"cherry\": \"red\"}\n",
    "print(fruit_colors)  # Output: {'apple': 'red', 'banana': 'yellow', 'cherry': 'red'}\n",
    "\n",
    "# Accessing a value by key\n",
    "print(fruit_colors[\"banana\"])  # Output: 'yellow'\n",
    "\n",
    "# Adding a new key-value pair\n",
    "fruit_colors[\"orange\"] = \"orange\"\n",
    "print(fruit_colors)  # Output: {'apple': 'red', 'banana': 'yellow', 'cherry': 'red', 'orange': 'orange'}\n",
    "\n",
    "# Removing a key-value pair\n",
    "del fruit_colors[\"banana\"]\n",
    "print(fruit_colors)  # Output: {'apple': 'red', 'cherry': 'red', 'orange': 'orange'}"
   ]
  },
  {
   "cell_type": "code",
   "execution_count": 26,
   "metadata": {},
   "outputs": [
    {
     "name": "stdout",
     "output_type": "stream",
     "text": [
      "Hello Alice\n",
      "Alice is 30 years old.\n",
      "Hello\n",
      "HELLO ALICE\n",
      "hello alice\n",
      "True\n",
      "Hello Bob\n"
     ]
    }
   ],
   "source": [
    "# String concatenation\n",
    "greeting = \"Hello\"\n",
    "name = \"Alice\"\n",
    "message = greeting + \" \" + name\n",
    "print(message)  # Output: Hello Alice\n",
    "\n",
    "# String formatting using f-strings\n",
    "age = 30\n",
    "formatted_message = f\"{name} is {age} years old.\"\n",
    "print(formatted_message)  # Output: Alice is 30 years old.\n",
    "\n",
    "# String slicing\n",
    "substring = message[0:5]\n",
    "print(substring)  # Output: Hello\n",
    "\n",
    "# String methods\n",
    "upper_case_message = message.upper()\n",
    "print(upper_case_message)  # Output: HELLO ALICE\n",
    "\n",
    "lower_case_message = message.lower()\n",
    "print(lower_case_message)  # Output: hello alice\n",
    "\n",
    "# Checking if a substring is in a string\n",
    "contains_hello = \"Hello\" in message\n",
    "print(contains_hello)  # Output: True\n",
    "\n",
    "# Replacing a substring\n",
    "new_message = message.replace(\"Alice\", \"Bob\")\n",
    "print(new_message)  # Output: Hello Bob"
   ]
  },
  {
   "cell_type": "markdown",
   "metadata": {},
   "source": [
    "### Sets, Tuples and Lists\n",
    "* Lists -> ordered mutable collection of items. Ex. marks = [1,2,2,3,4]\n",
    "* Tuple -> ordered immutable collection of items. Ex. marks =(1,2,2,3,4)\n",
    "* Sets -> Unordered mutable collection of unique items. Ex. marks = {1,2,3,4}"
   ]
  },
  {
   "cell_type": "code",
   "execution_count": 27,
   "metadata": {},
   "outputs": [
    {
     "name": "stdout",
     "output_type": "stream",
     "text": [
      "List: [1, 2, 3, 4, 5]\n",
      "List after append: [1, 2, 3, 4, 5, 6]\n",
      "Tuple: (1, 2, 3, 4, 5)\n",
      "Set: {1, 2, 3, 4, 5}\n",
      "Set after add: {1, 2, 3, 4, 5, 6}\n",
      "Set after adding duplicate: {1, 2, 3, 4, 5, 6}\n"
     ]
    }
   ],
   "source": [
    "# List example\n",
    "my_list = [1, 2, 3, 4, 5]\n",
    "print(\"List:\", my_list)  # Output: List: [1, 2, 3, 4, 5]\n",
    "\n",
    "# Lists are mutable, meaning you can change their content\n",
    "my_list.append(6)\n",
    "print(\"List after append:\", my_list)  # Output: List after append: [1, 2, 3, 4, 5, 6]\n",
    "\n",
    "# Tuple example\n",
    "my_tuple = (1, 2, 3, 4, 5)\n",
    "print(\"Tuple:\", my_tuple)  # Output: Tuple: (1, 2, 3, 4, 5)\n",
    "\n",
    "# Tuples are immutable, meaning you cannot change their content\n",
    "# my_tuple.append(6)  # This will raise an AttributeError\n",
    "\n",
    "# Set example\n",
    "my_set = {1, 2, 3, 4, 5}\n",
    "print(\"Set:\", my_set)  # Output: Set: {1, 2, 3, 4, 5}\n",
    "\n",
    "# Sets are mutable, but they do not allow duplicate elements\n",
    "my_set.add(6)\n",
    "print(\"Set after add:\", my_set)  # Output: Set after add: {1, 2, 3, 4, 5, 6}\n",
    "my_set.add(3)  # Adding a duplicate element has no effect\n",
    "print(\"Set after adding duplicate:\", my_set)  # Output: Set after adding duplicate: {1, 2, 3, 4, 5, 6}"
   ]
  },
  {
   "cell_type": "markdown",
   "metadata": {},
   "source": [
    "### Anonymous lamda"
   ]
  },
  {
   "cell_type": "code",
   "execution_count": 28,
   "metadata": {
    "vscode": {
     "languageId": "shellscript"
    }
   },
   "outputs": [
    {
     "name": "stdout",
     "output_type": "stream",
     "text": [
      "20\n",
      "9\n",
      "3\n"
     ]
    }
   ],
   "source": [
    "# function without a name\n",
    "multiply = lambda x, y: x * y\n",
    "print(multiply(4, 5))\n",
    "\n",
    "sum = lambda x, y: x + y\n",
    "print(sum(4, 5))\n",
    "\n",
    "remainder = lambda x, y: x % y\n",
    "print(remainder(23, 5))"
   ]
  },
  {
   "cell_type": "code",
   "execution_count": 29,
   "metadata": {},
   "outputs": [
    {
     "name": "stdout",
     "output_type": "stream",
     "text": [
      "2034568483\n"
     ]
    }
   ],
   "source": [
    "def test(n):\n",
    "    return lambda x: x * n\n",
    "\n",
    "test_1 = test(18797)\n",
    "print(test_1(108239))"
   ]
  },
  {
   "cell_type": "code",
   "execution_count": 30,
   "metadata": {},
   "outputs": [
    {
     "name": "stdout",
     "output_type": "stream",
     "text": [
      "There is no 'X' in the message\n"
     ]
    }
   ],
   "source": [
    "message = \"DeepSeek is taking on OpenAI\"\n",
    "for item in message:\n",
    "    if item == \"X\":\n",
    "        break\n",
    "\n",
    "else: \n",
    "    print(\"There is no 'X' in the message\")"
   ]
  },
  {
   "cell_type": "code",
   "execution_count": 31,
   "metadata": {},
   "outputs": [
    {
     "name": "stdout",
     "output_type": "stream",
     "text": [
      "Access granted\n"
     ]
    }
   ],
   "source": [
    "# password checking program\n",
    "attempts = 0\n",
    "while attempts < 3:\n",
    "    password = input(\"Enter your password: \")\n",
    "    if password == \"password\":\n",
    "        print(\"Access granted\")\n",
    "        break\n",
    "    else:\n",
    "        print(\"Access denied\")\n",
    "        attempts += 1\n",
    "if attempts == 3:\n",
    "    print(\"Access denied. You have exceeded the maximum number of attempts\")"
   ]
  },
  {
   "cell_type": "code",
   "execution_count": 32,
   "metadata": {},
   "outputs": [
    {
     "name": "stdout",
     "output_type": "stream",
     "text": [
      "red Toyota Corolla\n"
     ]
    }
   ],
   "source": [
    "class Car:\n",
    "    color = \"red\"\n",
    "    make = \"Toyota\"\n",
    "    model = \"Corolla\"\n",
    "model_1 = Car()\n",
    "print(model_1.color, model_1.make, model_1.model)\n",
    "\n"
   ]
  },
  {
   "cell_type": "markdown",
   "metadata": {},
   "source": [
    "#### Class"
   ]
  },
  {
   "cell_type": "code",
   "execution_count": 33,
   "metadata": {},
   "outputs": [
    {
     "name": "stdout",
     "output_type": "stream",
     "text": [
      "Color: red\n",
      "Make: Toyota\n",
      "Model: Corolla\n",
      "Color: blue\n",
      "Make: Toyota\n",
      "Model: Corolla\n",
      "Beep beep\n",
      "Color: red\n",
      "Make: Toyota\n",
      "Model: Corolla\n"
     ]
    }
   ],
   "source": [
    "class Vehicle:\n",
    "    def __init__(self, color, make, model):\n",
    "        self.color = color\n",
    "        self.make = make\n",
    "        self.model = model\n",
    "\n",
    "    def display_vehicle(self):\n",
    "        print(f\"Color: {self.color}\")\n",
    "        print(f\"Make: {self.make}\")\n",
    "        print(f\"Model: {self.model}\")\n",
    "    \n",
    "    def change_color(self, new_color):\n",
    "        self.color = new_color\n",
    "    \n",
    "    @staticmethod\n",
    "    def honk():\n",
    "        print(\"Beep beep\")\n",
    "    \n",
    "    @classmethod\n",
    "    def get_vehicle(cls):\n",
    "        return cls(\"red\", \"Toyota\", \"Corolla\")\n",
    "\n",
    "vehicle_1 = Vehicle(\"red\", \"Toyota\", \"Corolla\")\n",
    "vehicle_1.display_vehicle()\n",
    "\n",
    "vehicle_1.change_color(\"blue\")\n",
    "vehicle_1.display_vehicle()\n",
    "\n",
    "Vehicle.honk() # Output: Beep beep\n",
    "vehicle_2 = Vehicle.get_vehicle()\n",
    "\n",
    "vehicle_2.display_vehicle()\n",
    "vehicle_2.get_vehicle()\n",
    "\n",
    "del vehicle_2 \n"
   ]
  },
  {
   "cell_type": "markdown",
   "metadata": {},
   "source": [
    "### Inheritance"
   ]
  },
  {
   "cell_type": "code",
   "execution_count": 34,
   "metadata": {},
   "outputs": [
    {
     "name": "stdout",
     "output_type": "stream",
     "text": [
      "Mammal\n",
      "Roar\n",
      "Mammal\n",
      "Bark\n",
      "Bulldog\n"
     ]
    }
   ],
   "source": [
    "class Animal:\n",
    "    def __init__(self, species, sound):\n",
    "        self.species = species\n",
    "        self.sound = sound\n",
    "\n",
    "    def make_sound(self):\n",
    "        print(self.sound)\n",
    "\n",
    "    def display_species(self):\n",
    "        print(self.species)\n",
    "\n",
    "mammmal = Animal(\"Mammal\", \"Roar\")\n",
    "mammmal.display_species()\n",
    "mammmal.make_sound()\n",
    "\n",
    "class Dog(Animal):\n",
    "    def __init__(self, species, sound, breed):\n",
    "        super().__init__(species, sound) # Call the __init__ method of the parent class\n",
    "        self.breed = breed\n",
    "\n",
    "    def display_breed(self):\n",
    "        print(self.breed)\n",
    "\n",
    "dog = Dog(\"Mammal\", \"Bark\", \"Bulldog\")\n",
    "dog.display_species()\n",
    "dog.make_sound()\n",
    "dog.display_breed()"
   ]
  },
  {
   "cell_type": "markdown",
   "metadata": {},
   "source": [
    "### List comprehension"
   ]
  },
  {
   "cell_type": "code",
   "execution_count": 35,
   "metadata": {},
   "outputs": [
    {
     "name": "stdout",
     "output_type": "stream",
     "text": [
      "0\n",
      "2\n",
      "4\n",
      "6\n",
      "8\n"
     ]
    },
    {
     "data": {
      "text/plain": [
       "[None, None, None, None, None]"
      ]
     },
     "execution_count": 35,
     "metadata": {},
     "output_type": "execute_result"
    }
   ],
   "source": [
    "# [expression for item in iterable if condition]\n",
    "[print(i) for i in range(10) if i % 2 == 0]"
   ]
  },
  {
   "cell_type": "code",
   "execution_count": 36,
   "metadata": {},
   "outputs": [
    {
     "name": "stdout",
     "output_type": "stream",
     "text": [
      "Set comprehension: {0, 1, 64, 4, 36, 9, 16, 49, 81, 25}\n",
      "Tuple comprehension: (0, 1, 4, 9, 16, 25, 36, 49, 64, 81)\n"
     ]
    }
   ],
   "source": [
    "# Set comprehension\n",
    "set_comprehension = {x**2 for x in range(10)}\n",
    "print(\"Set comprehension:\", set_comprehension)\n",
    "\n",
    "# Tuple comprehension (Note: There is no direct tuple comprehension, but you can use a generator expression and convert it to a tuple)\n",
    "tuple_comprehension = tuple(x**2 for x in range(10))\n",
    "print(\"Tuple comprehension:\", tuple_comprehension)"
   ]
  },
  {
   "cell_type": "code",
   "execution_count": 37,
   "metadata": {},
   "outputs": [
    {
     "name": "stdout",
     "output_type": "stream",
     "text": [
      "Dictionary comprehension: {0: 0, 1: 1, 2: 4, 3: 9, 4: 16, 5: 25, 6: 36, 7: 49, 8: 64, 9: 81}\n"
     ]
    }
   ],
   "source": [
    "# Dictionary comprehension\n",
    "squares = {x: x**2 for x in range(10)}\n",
    "print(\"Dictionary comprehension:\", squares)"
   ]
  },
  {
   "cell_type": "markdown",
   "metadata": {},
   "source": [
    "### Built-in modules in Python"
   ]
  },
  {
   "cell_type": "code",
   "execution_count": 67,
   "metadata": {},
   "outputs": [
    {
     "name": "stdout",
     "output_type": "stream",
     "text": [
      "('_abc', '_ast', '_bisect', '_blake2', '_codecs', '_collections', '_csv', '_datetime', '_elementtree', '_functools', '_heapq', '_imp', '_io', '_locale', '_md5', '_operator', '_pickle', '_posixsubprocess', '_random', '_sha1', '_sha256', '_sha3', '_sha512', '_signal', '_socket', '_sre', '_stat', '_statistics', '_string', '_struct', '_symtable', '_thread', '_tracemalloc', '_warnings', '_weakref', 'array', 'atexit', 'binascii', 'builtins', 'cmath', 'errno', 'faulthandler', 'fcntl', 'gc', 'grp', 'itertools', 'marshal', 'math', 'posix', 'pwd', 'pyexpat', 'select', 'spwd', 'sys', 'syslog', 'time', 'unicodedata', 'xxsubtype', 'zlib')\n",
      "\n",
      "Please wait a moment while I gather a list of all available modules...\n",
      "\n"
     ]
    },
    {
     "name": "stderr",
     "output_type": "stream",
     "text": [
      "/usr/lib/python3.8/pkgutil.py:92: UserWarning: The numpy.array_api submodule is still experimental. See NEP 47.\n",
      "  __import__(info.name)\n"
     ]
    },
    {
     "name": "stdout",
     "output_type": "stream",
     "text": [
      "IPython             argparse            imghdr              retrying\n",
      "PIL                 array               imp                 rlcompleter\n",
      "__future__          ast                 importlib           runpy\n",
      "_abc                asttokens           importlib_metadata  sched\n",
      "_ast                asynchat            importlib_resources scipy\n",
      "_asyncio            asyncio             inspect             seaborn\n",
      "_bisect             asyncore            io                  secrets\n",
      "_blake2             atexit              ipaddress           select\n",
      "_bootlocale         audioop             ipykernel           selectors\n",
      "_bz2                backcall            ipykernel_launcher  setuptools\n",
      "_codecs             base64              itertools           shelve\n",
      "_codecs_cn          bdb                 jedi                shlex\n",
      "_codecs_hk          binascii            joblib              shutil\n",
      "_codecs_iso2022     binhex              json                signal\n",
      "_codecs_jp          bisect              jupyter             site\n",
      "_codecs_kr          builtins            jupyter_client      sitecustomize\n",
      "_codecs_tw          bz2                 jupyter_core        six\n",
      "_collections        cProfile            keyword             sklearn\n",
      "_collections_abc    cachecontrol        kiwisolver          smtpd\n",
      "_compat_pickle      calendar            lib2to3             smtplib\n",
      "_compression        certifi             linecache           sndhdr\n",
      "_contextvars        cgi                 locale              socket\n",
      "_crypt              cgitb               lockfile            socketserver\n",
      "_csv                chardet             logging             spwd\n",
      "_ctypes             chunk               lzma                sqlite3\n",
      "_ctypes_test        cmath               mailbox             sre_compile\n",
      "_curses             cmd                 mailcap             sre_constants\n",
      "_curses_panel       code                marshal             sre_parse\n",
      "_datetime           codecs              math                ssl\n",
      "_dbm                codeop              matplotlib          stack_data\n",
      "_decimal            collections         matplotlib_inline   stat\n",
      "_dummy_thread       colorama            mimetypes           statistics\n",
      "_elementtree        colorsys            mmap                string\n",
      "_functools          comm                modulefinder        stringprep\n",
      "_gdbm               compileall          multiprocessing     struct\n",
      "_hashlib            concurrent          nest_asyncio        subprocess\n",
      "_heapq              configparser        netrc               sunau\n",
      "_imp                contextlib          nis                 symbol\n",
      "_io                 contextlib2         nntplib             symtable\n",
      "_json               contextvars         ntpath              sys\n",
      "_locale             contourpy           nturl2path          sysconfig\n",
      "_lsprof             copy                numbers             syslog\n",
      "_lzma               copyreg             numpy               tabnanny\n",
      "_markupbase         crypt               opcode              tarfile\n",
      "_md5                csv                 operator            telnetlib\n",
      "_multibytecodec     ctypes              optparse            tempfile\n",
      "_multiprocessing    curses              os                  termios\n",
      "_opcode             cycler              ossaudiodev         test\n",
      "_operator           dataclasses         packaging           textwrap\n",
      "_osx_support        datetime            pandas              this\n",
      "_pickle             dateutil            parser              threading\n",
      "_posixshmem         dbm                 parso               threadpoolctl\n",
      "_posixsubprocess    debugpy             pathlib             time\n",
      "_py_abc             decimal             pdb                 timeit\n",
      "_pydecimal          decorator           pep517              token\n",
      "_pyio               difflib             pexpect             tokenize\n",
      "_queue              dis                 pickle              toml\n",
      "_random             distlib             pickleshare         tornado\n",
      "_sha1               distro              pickletools         trace\n",
      "_sha256             distutils           pip                 traceback\n",
      "_sha3               doctest             pipes               tracemalloc\n",
      "_sha512             dummy_threading     pkg_resources       traitlets\n",
      "_signal             easy_install        pkgutil             tty\n",
      "_sitebuiltins       email               platform            turtle\n",
      "_socket             encodings           platformdirs        types\n",
      "_sqlite3            ensurepip           plistlib            typing\n",
      "_sre                enum                poplib              typing_extensions\n",
      "_ssl                errno               posix               tzdata\n",
      "_stat               executing           posixpath           unicodedata\n",
      "_statistics         faulthandler        pprint              unittest\n",
      "_string             fcntl               profile             urllib\n",
      "_strptime           filecmp             progress            urllib3\n",
      "_struct             fileinput           prompt_toolkit      uu\n",
      "_symtable           fnmatch             pstats              uuid\n",
      "_sysconfigdata__linux_x86_64-linux-gnu fontTools           psutil              venv\n",
      "_sysconfigdata__x86_64-linux-gnu formatter           pty                 warnings\n",
      "_testbuffer         fractions           ptyprocess          wave\n",
      "_testcapi           ftplib              pure_eval           wcwidth\n",
      "_testimportmultiple functools           pwd                 weakref\n",
      "_testinternalcapi   gc                  py_compile          webbrowser\n",
      "_testmultiphase     genericpath         pyclbr              webencodings\n",
      "_thread             getopt              pydoc               wsgiref\n",
      "_threading_local    getpass             pydoc_data          xdrlib\n",
      "_tracemalloc        gettext             pyexpat             xml\n",
      "_uuid               glob                pygments            xmlrpc\n",
      "_warnings           grp                 pylab               xxlimited\n",
      "_weakref            gzip                pyparsing           xxsubtype\n",
      "_weakrefset         hashlib             pytz                zipapp\n",
      "_xxsubinterpreters  heapq               queue               zipfile\n",
      "_xxtestfuzz         hmac                quopri              zipimport\n",
      "abc                 html                random              zipp\n",
      "aifc                html5lib            re                  zlib\n",
      "antigravity         http                readline            zmq\n",
      "app                 idna                reprlib             \n",
      "appdirs             imaplib             resource            \n",
      "\n",
      "Enter any module name to get more help.  Or, type \"modules spam\" to search\n",
      "for modules whose name or summary contain the string \"spam\".\n",
      "\n"
     ]
    }
   ],
   "source": [
    "import sys\n",
    "\n",
    "# List all built-in modules\n",
    "builtin_modules = sys.builtin_module_names\n",
    "print(builtin_modules)\n",
    "help('modules')"
   ]
  },
  {
   "cell_type": "code",
   "execution_count": 48,
   "metadata": {},
   "outputs": [
    {
     "name": "stdout",
     "output_type": "stream",
     "text": [
      "Random integer between 1 and 9000000: 3214215\n",
      "Random float between 0 and 1: 0.9800258271176722\n",
      "Random color: blue\n",
      "Shuffled colors: ['blue', 'black', 'yellow', 'red', 'grey', 'green']\n",
      "Done!\n"
     ]
    }
   ],
   "source": [
    "import random #Altanatively: from random import randint, random, choice, shuffle\n",
    "\n",
    "# Generate a random integer between 1 and 10\n",
    "random_int = random.randint(4, 9000000)\n",
    "print(f\"Random integer between 1 and 9000000: {random_int}\")\n",
    "\n",
    "# Generate a random float between 0 and 1\n",
    "random_float = random.random()\n",
    "print(f\"Random float between 0 and 1: {random_float}\")\n",
    "\n",
    "# Choose a random element from a list\n",
    "colors = [\"red\", \"blue\", \"green\", \"yellow\",\"grey\", \"black\" ]\n",
    "random_color = random.choice(colors)\n",
    "print(f\"Random color: {random_color}\")\n",
    "\n",
    "# Shuffle a list\n",
    "random.shuffle(colors)\n",
    "print(f\"Shuffled colors: {colors}\")\n",
    "\n",
    "print(\"Done!\")"
   ]
  },
  {
   "cell_type": "markdown",
   "metadata": {},
   "source": [
    "#### Math module"
   ]
  },
  {
   "cell_type": "code",
   "execution_count": 58,
   "metadata": {},
   "outputs": [
    {
     "name": "stdout",
     "output_type": "stream",
     "text": [
      "2.718281828459045\n",
      "3.141592653589793\n",
      "180.0\n",
      "3.141592653589793\n"
     ]
    },
    {
     "data": {
      "text/plain": [
       "1.0471975511965979"
      ]
     },
     "execution_count": 58,
     "metadata": {},
     "output_type": "execute_result"
    }
   ],
   "source": [
    "import math\n",
    "\n",
    "math.sqrt(16) # Output: 4.0\n",
    "print(math.e)\n",
    "print(math.pi)\n",
    "print(math.degrees(math.pi))\n",
    "print(math.radians(180))\n",
    "math.sin(83.2)\n",
    "math.acos(0.5)"
   ]
  },
  {
   "cell_type": "code",
   "execution_count": 59,
   "metadata": {},
   "outputs": [
    {
     "name": "stdout",
     "output_type": "stream",
     "text": [
      "The inverse cosine (arccos) of 0.5 is 1.0471975511965979 radians\n"
     ]
    }
   ],
   "source": [
    "import math\n",
    "\n",
    "angle = 0.5  # Example angle in radians\n",
    "inverse_cosine = math.acos(angle)\n",
    "print(f\"The inverse cosine (arccos) of {angle} is {inverse_cosine} radians\")"
   ]
  },
  {
   "cell_type": "code",
   "execution_count": 65,
   "metadata": {},
   "outputs": [
    {
     "data": {
      "text/plain": [
       "1.3038404810405297"
      ]
     },
     "execution_count": 65,
     "metadata": {},
     "output_type": "execute_result"
    }
   ],
   "source": [
    "import statistics\n",
    "statistics.mean([1, 2, 3, 4, 4])  # Output: 2.8\n",
    "statistics.median([1, 2, 3, 4, 4])  # Output: 3\n",
    "statistics.NormalDist(mu=0, sigma=1).pdf(0)  # Output: 0.3989422804014327\n",
    "statistics.mode([1, 2, 3, 4, 4])  # Output: 4\n",
    "statistics.stdev([1, 2, 3, 4, 4])  # Output: 1.3038404810405297"
   ]
  },
  {
   "cell_type": "code",
   "execution_count": 66,
   "metadata": {},
   "outputs": [
    {
     "ename": "SyntaxError",
     "evalue": "invalid syntax (1236417019.py, line 1)",
     "output_type": "error",
     "traceback": [
      "\u001b[0;36m  Cell \u001b[0;32mIn[66], line 1\u001b[0;36m\u001b[0m\n\u001b[0;31m    In Python, there are several types of errors that you might encounter. Here are some common ones:\u001b[0m\n\u001b[0m       ^\u001b[0m\n\u001b[0;31mSyntaxError\u001b[0m\u001b[0;31m:\u001b[0m invalid syntax\n"
     ]
    }
   ],
   "source": [
    "# In Python, there are several types of errors that you might encounter. Here are some common ones:\n",
    "\n",
    "# 1. **SyntaxError**: This occurs when the code is not written in proper Python syntax.\n",
    "if True:\n",
    "    print(\"Hello\")  # Missing colon (:) after the if statement\n",
    "\n",
    "# 2. **IndentationError**: This occurs when the code is not properly indented.\n",
    "def my_function():\n",
    "    print(\"Hello\")  # This line should be indented\n",
    "\n",
    "# 3. **NameError**: This occurs when a variable or function name is not found.\n",
    "print(x)  # x is not defined\n",
    "\n",
    "# 4. **TypeError**: This occurs when an operation or function is applied to an object of inappropriate type.\n",
    "print(\"Hello\" + 5)  # Cannot concatenate a string and an integer\n",
    "\n",
    "# 5. **ValueError**: This occurs when a function receives an argument of the right type but inappropriate value.\n",
    "int(\"Hello\")  # Cannot convert a string that is not a number to an integer\n",
    "\n",
    "# 6. **IndexError**: This occurs when trying to access an element from a list using an index that is out of range.\n",
    "my_list = [1, 2, 3]\n",
    "print(my_list[5])  # Index 5 is out of range\n",
    "\n",
    "# 7. **KeyError**: This occurs when trying to access a dictionary with a key that does not exist.\n",
    "my_dict = {\"a\": 1, \"b\": 2}\n",
    "print(my_dict[\"c\"])  # Key 'c' does not exist\n",
    "\n",
    "# 8. **AttributeError**: This occurs when trying to access an attribute that does not exist for an object.\n",
    "my_list = [1, 2, 3]\n",
    "my_list.append(4)\n",
    "my_list.push(5)  # 'list' object has no attribute 'push'\n",
    "\n",
    "# 9. **ImportError**: This occurs when an import statement fails to find the module definition or when a from ... import fails to find a name that is to be imported.\n",
    "import non_existent_module  # No module named 'non_existent_module'\n",
    "\n",
    "# 10. **ZeroDivisionError**: This occurs when a division or modulo operation is performed with zero as the divisor.\n",
    "print(10 / 0)  # Division by zero\n",
    "\n",
    "# These are just a few examples of common errors in Python. Understanding these errors can help you debug your code more effectively."
   ]
  },
  {
   "cell_type": "code",
   "execution_count": null,
   "metadata": {},
   "outputs": [],
   "source": [
    "try:\n",
    "    # Code that may raise an exception\n",
    "    result = 10 / 0\n",
    "except ZeroDivisionError as e:\n",
    "    # Code to handle the exception\n",
    "    print(f\"Error: {e}\")\n",
    "else:\n",
    "    # Code to execute if no exception is raised\n",
    "    print(\"No exceptions were raised.\")\n",
    "finally:\n",
    "    # Code to execute regardless of whether an exception was raised or not\n",
    "    print(\"This block is always executed.\")\n",
    "\n",
    "# Example with multiple exceptions\n",
    "try:\n",
    "    value = int(\"Hello\")\n",
    "except ValueError as e:\n",
    "    print(f\"ValueError: {e}\")\n",
    "except TypeError as e:\n",
    "    print(f\"TypeError: {e}\")"
   ]
  },
  {
   "cell_type": "code",
   "execution_count": 72,
   "metadata": {},
   "outputs": [
    {
     "name": "stdout",
     "output_type": "stream",
     "text": [
      "Learning Python is fun!\n",
      "Learning Python is fun!\n",
      "I love Python!\n"
     ]
    }
   ],
   "source": [
    "import io\n",
    "\n",
    "new_text = \"Learning Python is fun!\"\n",
    "with open(\"example.txt\", \"w\") as file:\n",
    "    file.write(new_text)\n",
    "    \n",
    "with open(\"example.txt\", \"r\") as file:\n",
    "    content = file.read()\n",
    "    print(content)\n",
    "\n",
    "with open(\"example.txt\", \"a\") as file:\n",
    "    file.write(\"\\nI love Python!\")\n",
    "\n",
    "# Move the cursor to the beginning of the file\n",
    "# file.seek(0)\n",
    "\n",
    "# Reopen the file in read mode and read the updated content\n",
    "with open(\"example.txt\", \"r\") as file:\n",
    "    updated_content = file.read()\n",
    "    print(updated_content)"
   ]
  },
  {
   "cell_type": "code",
   "execution_count": 73,
   "metadata": {},
   "outputs": [
    {
     "name": "stdout",
     "output_type": "stream",
     "text": [
      "Current Directory: /home/wanyua/Dev/ML/Python-Machine-Learning-Tutorial/Python\n",
      "Files and Directories: ['example.txt', 'python_basics.ipynb', 'app.py']\n",
      "Created new directory: new_folder\n",
      "Renamed directory to: renamed_folder\n",
      "Removed directory: renamed_folder\n",
      "Home Directory: /home/wanyua\n",
      "MY_VARIABLE: my_value\n"
     ]
    }
   ],
   "source": [
    "import os\n",
    "\n",
    "# Get the current working directory\n",
    "current_directory = os.getcwd()\n",
    "print(f\"Current Directory: {current_directory}\")\n",
    "\n",
    "# List all files and directories in the current directory\n",
    "files_and_directories = os.listdir(current_directory)\n",
    "print(f\"Files and Directories: {files_and_directories}\")\n",
    "\n",
    "# Create a new directory\n",
    "new_directory = \"new_folder\"\n",
    "os.makedirs(new_directory, exist_ok=True)\n",
    "print(f\"Created new directory: {new_directory}\")\n",
    "\n",
    "# Rename a directory\n",
    "renamed_directory = \"renamed_folder\"\n",
    "os.rename(new_directory, renamed_directory)\n",
    "print(f\"Renamed directory to: {renamed_directory}\")\n",
    "\n",
    "# Remove a directory\n",
    "os.rmdir(renamed_directory)\n",
    "print(f\"Removed directory: {renamed_directory}\")\n",
    "\n",
    "# Get the value of an environment variable\n",
    "home_directory = os.getenv(\"HOME\")\n",
    "print(f\"Home Directory: {home_directory}\")\n",
    "\n",
    "# Set an environment variable\n",
    "os.environ[\"MY_VARIABLE\"] = \"my_value\"\n",
    "print(f\"MY_VARIABLE: {os.getenv('MY_VARIABLE')}\")"
   ]
  },
  {
   "cell_type": "code",
   "execution_count": 74,
   "metadata": {
    "vscode": {
     "languageId": "r"
    }
   },
   "outputs": [
    {
     "name": "stdout",
     "output_type": "stream",
     "text": [
      "File copied successfully.\n",
      "File moved successfully.\n",
      "File removed successfully.\n"
     ]
    }
   ],
   "source": [
    "import shutil\n",
    "\n",
    "# Copy a file\n",
    "shutil.copy(\"example.txt\", \"example_copy.txt\")\n",
    "print(\"File copied successfully.\")\n",
    "\n",
    "# Move a file\n",
    "shutil.move(\"example_copy.txt\", \"example_moved.txt\")\n",
    "print(\"File moved successfully.\")\n",
    "\n",
    "# Remove a file\n",
    "os.remove(\"example_moved.txt\")\n",
    "print(\"File removed successfully.\")"
   ]
  },
  {
   "cell_type": "code",
   "execution_count": 75,
   "metadata": {},
   "outputs": [
    {
     "name": "stdout",
     "output_type": "stream",
     "text": [
      "Original list: [1, 2, ['Changed', 4], 5]\n",
      "Shallow copy: [1, 2, ['Changed', 4], 5]\n",
      "Deep copy: [1, 2, [3, 4], 5]\n"
     ]
    }
   ],
   "source": [
    "import copy\n",
    "\n",
    "# Original list\n",
    "original_list = [1, 2, [3, 4], 5]\n",
    "\n",
    "# Shallow copy - modifications in the copied object can affect the original if it contains mutable objects.\n",
    "\n",
    "shallow_copy = copy.copy(original_list)\n",
    "\n",
    "# Deep copy - Changes in the copied object do not affect the original.\n",
    "\n",
    "deep_copy = copy.deepcopy(original_list)\n",
    "\n",
    "# Modify the original list\n",
    "original_list[2][0] = 'Changed'\n",
    "\n",
    "print(\"Original list:\", original_list)  # Output: [1, 2, ['Changed', 4], 5]\n",
    "print(\"Shallow copy:\", shallow_copy)    # Output: [1, 2, ['Changed', 4], 5]\n",
    "print(\"Deep copy:\", deep_copy)          # Output: [1, 2, [3, 4], 5]"
   ]
  },
  {
   "cell_type": "code",
   "execution_count": null,
   "metadata": {},
   "outputs": [],
   "source": [
    "# !pip install send2trash\n",
    "import send2trash\n",
    "\n",
    "# Send a file to the trash\n",
    "send2trash.send2trash(\"example.txt\")\n",
    "print(\"File sent to trash successfully.\")\n",
    "\n",
    "# Send a directory to the trash\n",
    "send2trash.send2trash(\"new_folder\")\n",
    "print(\"Directory sent to trash successfully.\")"
   ]
  },
  {
   "cell_type": "code",
   "execution_count": 77,
   "metadata": {},
   "outputs": [
    {
     "name": "stdout",
     "output_type": "stream",
     "text": [
      "Files zipped successfully.\n",
      "Files unzipped successfully.\n",
      "Extracted files: ['example.txt', 'example_moved.txt']\n"
     ]
    }
   ],
   "source": [
    "import zipfile\n",
    "import os\n",
    "\n",
    "new_file = open('example_moved.txt', 'w')\n",
    "# Create a zip file\n",
    "with zipfile.ZipFile('example.zip', 'w') as zipf:\n",
    "    zipf.write('example.txt')\n",
    "    zipf.write('example_moved.txt')\n",
    "\n",
    "print(\"Files zipped successfully.\")\n",
    "\n",
    "# Unzip the file\n",
    "with zipfile.ZipFile('example.zip', 'r') as zipf:\n",
    "    zipf.extractall('extracted_files')\n",
    "\n",
    "print(\"Files unzipped successfully.\")\n",
    "\n",
    "# List the contents of the extracted directory\n",
    "extracted_files = os.listdir('extracted_files')\n",
    "print(f\"Extracted files: {extracted_files}\")"
   ]
  },
  {
   "cell_type": "code",
   "execution_count": 81,
   "metadata": {},
   "outputs": [
    {
     "name": "stdout",
     "output_type": "stream",
     "text": [
      "Array from list: [1 2 3 4 5]\n",
      "Array with range of values: [0 1 2 3 4 5 6 7 8]\n",
      "Array with zeros:\n",
      " [[0. 0. 0.]\n",
      " [0. 0. 0.]\n",
      " [0. 0. 0.]]\n",
      "Array with ones:\n",
      " [[1. 1. 1. 1.]\n",
      " [1. 1. 1. 1.]]\n",
      "Array with random values:\n",
      " [[0.45037838 0.04657062 0.21650479 0.62893839]\n",
      " [0.45737238 0.37754599 0.12188324 0.77510976]\n",
      " [0.69889786 0.23656815 0.6579891  0.90588845]\n",
      " [0.81050128 0.81018526 0.65894468 0.48645593]]\n",
      "Array after addition: [11 12 13 14 15]\n",
      "Array after multiplication: [ 2  4  6  8 10]\n",
      "Element at index 2: 3\n",
      "Sliced array: [2 3 4]\n"
     ]
    }
   ],
   "source": [
    "import numpy as np\n",
    "\n",
    "# Create a NumPy array from a list\n",
    "array_from_list = np.array([1, 2, 3, 4, 5])\n",
    "print(\"Array from list:\", array_from_list)\n",
    "\n",
    "# Create a NumPy array with a range of values\n",
    "array_range = np.arange(9)\n",
    "print(\"Array with range of values:\", array_range)\n",
    "\n",
    "# Create a NumPy array with zeros\n",
    "array_zeros = np.zeros((3, 3))\n",
    "print(\"Array with zeros:\\n\", array_zeros)\n",
    "\n",
    "# Create a NumPy array with ones\n",
    "array_ones = np.ones((2, 4))\n",
    "print(\"Array with ones:\\n\", array_ones)\n",
    "\n",
    "# Create a NumPy array with random values\n",
    "array_random = np.random.random((4, 4))\n",
    "print(\"Array with random values:\\n\", array_random)\n",
    "\n",
    "# Perform basic arithmetic operations on NumPy arrays\n",
    "array_sum = array_from_list + 10\n",
    "print(\"Array after addition:\", array_sum)\n",
    "\n",
    "array_product = array_from_list * 2\n",
    "print(\"Array after multiplication:\", array_product)\n",
    "\n",
    "# Access elements of a NumPy array\n",
    "element = array_from_list[2]\n",
    "print(\"Element at index 2:\", element)\n",
    "\n",
    "# Slicing a NumPy array\n",
    "array_slice = array_from_list[1:4]\n",
    "print(\"Sliced array:\", array_slice)"
   ]
  },
  {
   "cell_type": "code",
   "execution_count": 84,
   "metadata": {},
   "outputs": [
    {
     "name": "stdout",
     "output_type": "stream",
     "text": [
      "Double marks: [24.2 26.4 28.6 30.8 33. ]\n"
     ]
    }
   ],
   "source": [
    "marks = [12.1, 13.2, 14.3, 15.4, 16.5]\n",
    "np_marks = np.array(marks)\n",
    "double_marks = np_marks * 2\n",
    "print(f\"Double marks: {double_marks}\")"
   ]
  },
  {
   "cell_type": "code",
   "execution_count": null,
   "metadata": {},
   "outputs": [],
   "source": []
  }
 ],
 "metadata": {
  "kernelspec": {
   "display_name": "env",
   "language": "python",
   "name": "python3"
  },
  "language_info": {
   "codemirror_mode": {
    "name": "ipython",
    "version": 3
   },
   "file_extension": ".py",
   "mimetype": "text/x-python",
   "name": "python",
   "nbconvert_exporter": "python",
   "pygments_lexer": "ipython3",
   "version": "3.8.10"
  }
 },
 "nbformat": 4,
 "nbformat_minor": 2
}
