{
 "cells": [
  {
   "cell_type": "code",
   "execution_count": 93,
   "metadata": {},
   "outputs": [
    {
     "name": "stdout",
     "output_type": "stream",
     "text": [
      "Hello  Sam, we are happy to have you!\n",
      "Hello  Obed, we are happy to have you!\n",
      "Hello  Steve, we are happy to have you!\n",
      "Hello  Kiarie, we are happy to have you!\n",
      "Hello  Martha, we are happy to have you!\n"
     ]
    }
   ],
   "source": [
    "names = [\"Sam\", \"Obed\", \"Steve\", \"Kiarie\", \"Martha\"]\n",
    "\n",
    "for name in names:\n",
    "    print(f\"Hello  {name}, we are happy to have you!\")"
   ]
  },
  {
   "cell_type": "markdown",
   "metadata": {},
   "source": [
    "### Lists"
   ]
  },
  {
   "cell_type": "code",
   "execution_count": 94,
   "metadata": {},
   "outputs": [
    {
     "name": "stdout",
     "output_type": "stream",
     "text": [
      "[]\n",
      "['Sam']\n"
     ]
    }
   ],
   "source": [
    "new_list = []\n",
    "names = list()\n",
    "print(names)\n",
    "names.append(\"Sam\")\n",
    "print(names)"
   ]
  },
  {
   "cell_type": "code",
   "execution_count": 95,
   "metadata": {},
   "outputs": [
    {
     "name": "stdout",
     "output_type": "stream",
     "text": [
      "False\n",
      "True\n",
      "['red', 'blue', 'purple', 'green', 'yellow']\n"
     ]
    }
   ],
   "source": [
    "colors = [\"red\", \"blue\", \"green\", \"yellow\"]\n",
    "print(\"White\" in colors)\n",
    "print(\"red\" in colors)\n",
    "colors.insert(2, \"purple\")\n",
    "print(colors)"
   ]
  },
  {
   "cell_type": "code",
   "execution_count": 96,
   "metadata": {},
   "outputs": [
    {
     "name": "stdout",
     "output_type": "stream",
     "text": [
      "red\n",
      "blue\n",
      "purple\n",
      "green\n",
      "yellow\n"
     ]
    }
   ],
   "source": [
    "for color in colors:\n",
    "    print(color)"
   ]
  },
  {
   "cell_type": "code",
   "execution_count": 97,
   "metadata": {},
   "outputs": [
    {
     "name": "stdout",
     "output_type": "stream",
     "text": [
      "['red']\n"
     ]
    }
   ],
   "source": [
    "print(colors[:1])"
   ]
  },
  {
   "cell_type": "code",
   "execution_count": 98,
   "metadata": {},
   "outputs": [
    {
     "name": "stdout",
     "output_type": "stream",
     "text": [
      "('apple', 'banana', 'cherry')\n",
      "banana\n"
     ]
    }
   ],
   "source": [
    "# Creating a tuple\n",
    "fruits = (\"apple\", \"banana\", \"cherry\")\n",
    "print(fruits)  # Output: ('apple', 'banana', 'cherry')\n",
    "\n",
    "# Accessing an item by index\n",
    "print(fruits[1])  # Output: 'banana'\n",
    "\n",
    "# Tuples are immutable, so you cannot add or remove items\n",
    "# fruits.append(\"orange\")  # This will raise an AttributeError"
   ]
  },
  {
   "cell_type": "code",
   "execution_count": 99,
   "metadata": {},
   "outputs": [
    {
     "name": "stdout",
     "output_type": "stream",
     "text": [
      "['apple', 'banana', 'cherry']\n",
      "['apple', 'banana', 'cherry', 'orange']\n",
      "banana\n",
      "['apple', 'cherry', 'orange']\n"
     ]
    }
   ],
   "source": [
    "# Creating a list\n",
    "fruits = [\"apple\", \"banana\", \"cherry\"]\n",
    "print(fruits)  # Output: ['apple', 'banana', 'cherry']\n",
    "\n",
    "# Adding an item to the list\n",
    "fruits.append(\"orange\")\n",
    "print(fruits)  # Output: ['apple', 'banana', 'cherry', 'orange']\n",
    "\n",
    "# Accessing an item by index\n",
    "print(fruits[1])  # Output: 'banana'\n",
    "\n",
    "# Removing an item from the list\n",
    "fruits.remove(\"banana\")\n",
    "print(fruits)  # Output: ['apple', 'cherry', 'orange']\n",
    "\n"
   ]
  },
  {
   "cell_type": "code",
   "execution_count": 100,
   "metadata": {},
   "outputs": [
    {
     "name": "stdout",
     "output_type": "stream",
     "text": [
      "{'apple': 'red', 'banana': 'yellow', 'cherry': 'red'}\n",
      "yellow\n",
      "{'apple': 'red', 'banana': 'yellow', 'cherry': 'red', 'orange': 'orange'}\n",
      "{'apple': 'red', 'cherry': 'red', 'orange': 'orange'}\n"
     ]
    }
   ],
   "source": [
    "# Creating a dictionary\n",
    "fruit_colors = {\"apple\": \"red\", \"banana\": \"yellow\", \"cherry\": \"red\"}\n",
    "print(fruit_colors)  # Output: {'apple': 'red', 'banana': 'yellow', 'cherry': 'red'}\n",
    "\n",
    "# Accessing a value by key\n",
    "print(fruit_colors[\"banana\"])  # Output: 'yellow'\n",
    "\n",
    "# Adding a new key-value pair\n",
    "fruit_colors[\"orange\"] = \"orange\"\n",
    "print(fruit_colors)  # Output: {'apple': 'red', 'banana': 'yellow', 'cherry': 'red', 'orange': 'orange'}\n",
    "\n",
    "# Removing a key-value pair\n",
    "del fruit_colors[\"banana\"]\n",
    "print(fruit_colors)  # Output: {'apple': 'red', 'cherry': 'red', 'orange': 'orange'}"
   ]
  },
  {
   "cell_type": "code",
   "execution_count": 101,
   "metadata": {},
   "outputs": [
    {
     "name": "stdout",
     "output_type": "stream",
     "text": [
      "Hello Alice\n",
      "Alice is 30 years old.\n",
      "Hello\n",
      "HELLO ALICE\n",
      "hello alice\n",
      "True\n",
      "Hello Bob\n"
     ]
    }
   ],
   "source": [
    "# String concatenation\n",
    "greeting = \"Hello\"\n",
    "name = \"Alice\"\n",
    "message = greeting + \" \" + name\n",
    "print(message)  # Output: Hello Alice\n",
    "\n",
    "# String formatting using f-strings\n",
    "age = 30\n",
    "formatted_message = f\"{name} is {age} years old.\"\n",
    "print(formatted_message)  # Output: Alice is 30 years old.\n",
    "\n",
    "# String slicing\n",
    "substring = message[0:5]\n",
    "print(substring)  # Output: Hello\n",
    "\n",
    "# String methods\n",
    "upper_case_message = message.upper()\n",
    "print(upper_case_message)  # Output: HELLO ALICE\n",
    "\n",
    "lower_case_message = message.lower()\n",
    "print(lower_case_message)  # Output: hello alice\n",
    "\n",
    "# Checking if a substring is in a string\n",
    "contains_hello = \"Hello\" in message\n",
    "print(contains_hello)  # Output: True\n",
    "\n",
    "# Replacing a substring\n",
    "new_message = message.replace(\"Alice\", \"Bob\")\n",
    "print(new_message)  # Output: Hello Bob"
   ]
  },
  {
   "cell_type": "markdown",
   "metadata": {},
   "source": [
    "### Sets, Tuples and Lists\n",
    "* Lists -> ordered mutable collection of items. Ex. marks = [1,2,2,3,4]\n",
    "* Tuple -> ordered immutable collection of items. Ex. marks =(1,2,2,3,4)\n",
    "* Sets -> Unordered mutable collection of unique items. Ex. marks = {1,2,3,4}"
   ]
  },
  {
   "cell_type": "code",
   "execution_count": 102,
   "metadata": {},
   "outputs": [
    {
     "name": "stdout",
     "output_type": "stream",
     "text": [
      "List: [1, 2, 3, 4, 5]\n",
      "List after append: [1, 2, 3, 4, 5, 6]\n",
      "Tuple: (1, 2, 3, 4, 5)\n",
      "Set: {1, 2, 3, 4, 5}\n",
      "Set after add: {1, 2, 3, 4, 5, 6}\n",
      "Set after adding duplicate: {1, 2, 3, 4, 5, 6}\n"
     ]
    }
   ],
   "source": [
    "# List example\n",
    "my_list = [1, 2, 3, 4, 5]\n",
    "print(\"List:\", my_list)  # Output: List: [1, 2, 3, 4, 5]\n",
    "\n",
    "# Lists are mutable, meaning you can change their content\n",
    "my_list.append(6)\n",
    "print(\"List after append:\", my_list)  # Output: List after append: [1, 2, 3, 4, 5, 6]\n",
    "\n",
    "# Tuple example\n",
    "my_tuple = (1, 2, 3, 4, 5)\n",
    "print(\"Tuple:\", my_tuple)  # Output: Tuple: (1, 2, 3, 4, 5)\n",
    "\n",
    "# Tuples are immutable, meaning you cannot change their content\n",
    "# my_tuple.append(6)  # This will raise an AttributeError\n",
    "\n",
    "# Set example\n",
    "my_set = {1, 2, 3, 4, 5}\n",
    "print(\"Set:\", my_set)  # Output: Set: {1, 2, 3, 4, 5}\n",
    "\n",
    "# Sets are mutable, but they do not allow duplicate elements\n",
    "my_set.add(6)\n",
    "print(\"Set after add:\", my_set)  # Output: Set after add: {1, 2, 3, 4, 5, 6}\n",
    "my_set.add(3)  # Adding a duplicate element has no effect\n",
    "print(\"Set after adding duplicate:\", my_set)  # Output: Set after adding duplicate: {1, 2, 3, 4, 5, 6}"
   ]
  },
  {
   "cell_type": "markdown",
   "metadata": {},
   "source": [
    "### Anonymous lamda"
   ]
  },
  {
   "cell_type": "code",
   "execution_count": 103,
   "metadata": {
    "vscode": {
     "languageId": "shellscript"
    }
   },
   "outputs": [
    {
     "name": "stdout",
     "output_type": "stream",
     "text": [
      "20\n",
      "9\n",
      "3\n"
     ]
    }
   ],
   "source": [
    "# function without a name\n",
    "multiply = lambda x, y: x * y\n",
    "print(multiply(4, 5))\n",
    "\n",
    "sum = lambda x, y: x + y\n",
    "print(sum(4, 5))\n",
    "\n",
    "remainder = lambda x, y: x % y\n",
    "print(remainder(23, 5))"
   ]
  },
  {
   "cell_type": "code",
   "execution_count": 104,
   "metadata": {},
   "outputs": [
    {
     "name": "stdout",
     "output_type": "stream",
     "text": [
      "2034568483\n"
     ]
    }
   ],
   "source": [
    "def test(n):\n",
    "    return lambda x: x * n\n",
    "\n",
    "test_1 = test(18797)\n",
    "print(test_1(108239))"
   ]
  },
  {
   "cell_type": "code",
   "execution_count": 105,
   "metadata": {},
   "outputs": [
    {
     "name": "stdout",
     "output_type": "stream",
     "text": [
      "There is no 'X' in the message\n"
     ]
    }
   ],
   "source": [
    "message = \"DeepSeek is taking on OpenAI\"\n",
    "for item in message:\n",
    "    if item == \"X\":\n",
    "        break\n",
    "\n",
    "else: \n",
    "    print(\"There is no 'X' in the message\")"
   ]
  },
  {
   "cell_type": "code",
   "execution_count": 106,
   "metadata": {},
   "outputs": [
    {
     "name": "stdout",
     "output_type": "stream",
     "text": [
      "Access granted\n"
     ]
    }
   ],
   "source": [
    "# password checking program\n",
    "attempts = 0\n",
    "while attempts < 3:\n",
    "    password = input(\"Enter your password: \")\n",
    "    if password == \"password\":\n",
    "        print(\"Access granted\")\n",
    "        break\n",
    "    else:\n",
    "        print(\"Access denied\")\n",
    "        attempts += 1\n",
    "if attempts == 3:\n",
    "    print(\"Access denied. You have exceeded the maximum number of attempts\")"
   ]
  },
  {
   "cell_type": "code",
   "execution_count": 107,
   "metadata": {},
   "outputs": [
    {
     "name": "stdout",
     "output_type": "stream",
     "text": [
      "red Toyota Corolla\n"
     ]
    }
   ],
   "source": [
    "class Car:\n",
    "    color = \"red\"\n",
    "    make = \"Toyota\"\n",
    "    model = \"Corolla\"\n",
    "model_1 = Car()\n",
    "print(model_1.color, model_1.make, model_1.model)\n",
    "\n"
   ]
  },
  {
   "cell_type": "markdown",
   "metadata": {},
   "source": [
    "#### Class"
   ]
  },
  {
   "cell_type": "code",
   "execution_count": 108,
   "metadata": {},
   "outputs": [
    {
     "name": "stdout",
     "output_type": "stream",
     "text": [
      "Color: red\n",
      "Make: Toyota\n",
      "Model: Corolla\n",
      "Color: blue\n",
      "Make: Toyota\n",
      "Model: Corolla\n",
      "Beep beep\n",
      "Color: red\n",
      "Make: Toyota\n",
      "Model: Corolla\n"
     ]
    }
   ],
   "source": [
    "class Vehicle:\n",
    "    def __init__(self, color, make, model):\n",
    "        self.color = color\n",
    "        self.make = make\n",
    "        self.model = model\n",
    "\n",
    "    def display_vehicle(self):\n",
    "        print(f\"Color: {self.color}\")\n",
    "        print(f\"Make: {self.make}\")\n",
    "        print(f\"Model: {self.model}\")\n",
    "    \n",
    "    def change_color(self, new_color):\n",
    "        self.color = new_color\n",
    "    \n",
    "    @staticmethod\n",
    "    def honk():\n",
    "        print(\"Beep beep\")\n",
    "    \n",
    "    @classmethod\n",
    "    def get_vehicle(cls):\n",
    "        return cls(\"red\", \"Toyota\", \"Corolla\")\n",
    "\n",
    "vehicle_1 = Vehicle(\"red\", \"Toyota\", \"Corolla\")\n",
    "vehicle_1.display_vehicle()\n",
    "\n",
    "vehicle_1.change_color(\"blue\")\n",
    "vehicle_1.display_vehicle()\n",
    "\n",
    "Vehicle.honk() # Output: Beep beep\n",
    "vehicle_2 = Vehicle.get_vehicle()\n",
    "\n",
    "vehicle_2.display_vehicle()\n",
    "vehicle_2.get_vehicle()\n",
    "\n",
    "del vehicle_2 \n"
   ]
  },
  {
   "cell_type": "markdown",
   "metadata": {},
   "source": [
    "### Inheritance"
   ]
  },
  {
   "cell_type": "code",
   "execution_count": 109,
   "metadata": {},
   "outputs": [
    {
     "name": "stdout",
     "output_type": "stream",
     "text": [
      "Mammal\n",
      "Roar\n",
      "Mammal\n",
      "Bark\n",
      "Bulldog\n"
     ]
    }
   ],
   "source": [
    "class Animal:\n",
    "    def __init__(self, species, sound):\n",
    "        self.species = species\n",
    "        self.sound = sound\n",
    "\n",
    "    def make_sound(self):\n",
    "        print(self.sound)\n",
    "\n",
    "    def display_species(self):\n",
    "        print(self.species)\n",
    "\n",
    "mammmal = Animal(\"Mammal\", \"Roar\")\n",
    "mammmal.display_species()\n",
    "mammmal.make_sound()\n",
    "\n",
    "class Dog(Animal):\n",
    "    def __init__(self, species, sound, breed):\n",
    "        super().__init__(species, sound) # Call the __init__ method of the parent class\n",
    "        self.breed = breed\n",
    "\n",
    "    def display_breed(self):\n",
    "        print(self.breed)\n",
    "\n",
    "dog = Dog(\"Mammal\", \"Bark\", \"Bulldog\")\n",
    "dog.display_species()\n",
    "dog.make_sound()\n",
    "dog.display_breed()"
   ]
  },
  {
   "cell_type": "markdown",
   "metadata": {},
   "source": [
    "### List comprehension"
   ]
  },
  {
   "cell_type": "code",
   "execution_count": 110,
   "metadata": {},
   "outputs": [
    {
     "name": "stdout",
     "output_type": "stream",
     "text": [
      "0\n",
      "2\n",
      "4\n",
      "6\n",
      "8\n"
     ]
    },
    {
     "data": {
      "text/plain": [
       "[None, None, None, None, None]"
      ]
     },
     "execution_count": 110,
     "metadata": {},
     "output_type": "execute_result"
    }
   ],
   "source": [
    "# [expression for item in iterable if condition]\n",
    "[print(i) for i in range(10) if i % 2 == 0]"
   ]
  },
  {
   "cell_type": "code",
   "execution_count": 111,
   "metadata": {},
   "outputs": [
    {
     "name": "stdout",
     "output_type": "stream",
     "text": [
      "Set comprehension: {0, 1, 64, 4, 36, 9, 16, 49, 81, 25}\n",
      "Tuple comprehension: (0, 1, 4, 9, 16, 25, 36, 49, 64, 81)\n"
     ]
    }
   ],
   "source": [
    "# Set comprehension\n",
    "set_comprehension = {x**2 for x in range(10)}\n",
    "print(\"Set comprehension:\", set_comprehension)\n",
    "\n",
    "# Tuple comprehension (Note: There is no direct tuple comprehension, but you can use a generator expression and convert it to a tuple)\n",
    "tuple_comprehension = tuple(x**2 for x in range(10))\n",
    "print(\"Tuple comprehension:\", tuple_comprehension)"
   ]
  },
  {
   "cell_type": "code",
   "execution_count": 112,
   "metadata": {},
   "outputs": [
    {
     "name": "stdout",
     "output_type": "stream",
     "text": [
      "Dictionary comprehension: {0: 0, 1: 1, 2: 4, 3: 9, 4: 16, 5: 25, 6: 36, 7: 49, 8: 64, 9: 81}\n"
     ]
    }
   ],
   "source": [
    "# Dictionary comprehension\n",
    "squares = {x: x**2 for x in range(10)}\n",
    "print(\"Dictionary comprehension:\", squares)"
   ]
  },
  {
   "cell_type": "markdown",
   "metadata": {},
   "source": [
    "### Built-in modules in Python"
   ]
  },
  {
   "cell_type": "code",
   "execution_count": 113,
   "metadata": {},
   "outputs": [
    {
     "name": "stdout",
     "output_type": "stream",
     "text": [
      "('_abc', '_ast', '_bisect', '_blake2', '_codecs', '_collections', '_csv', '_datetime', '_elementtree', '_functools', '_heapq', '_imp', '_io', '_locale', '_md5', '_operator', '_pickle', '_posixsubprocess', '_random', '_sha1', '_sha256', '_sha3', '_sha512', '_signal', '_socket', '_sre', '_stat', '_statistics', '_string', '_struct', '_symtable', '_thread', '_tracemalloc', '_warnings', '_weakref', 'array', 'atexit', 'binascii', 'builtins', 'cmath', 'errno', 'faulthandler', 'fcntl', 'gc', 'grp', 'itertools', 'marshal', 'math', 'posix', 'pwd', 'pyexpat', 'select', 'spwd', 'sys', 'syslog', 'time', 'unicodedata', 'xxsubtype', 'zlib')\n",
      "\n",
      "Please wait a moment while I gather a list of all available modules...\n",
      "\n",
      "IPython             array               importlib           resource\n",
      "PIL                 ast                 importlib_metadata  retrying\n",
      "__future__          asttokens           importlib_resources rlcompleter\n",
      "_abc                asynchat            inspect             runpy\n",
      "_ast                asyncio             io                  sched\n",
      "_asyncio            asyncore            ipaddr              scipy\n",
      "_bisect             atexit              ipaddress           seaborn\n",
      "_blake2             audioop             ipykernel           secrets\n",
      "_bootlocale         backcall            ipykernel_launcher  select\n",
      "_bz2                base64              itertools           selectors\n",
      "_codecs             bdb                 jedi                send2trash\n",
      "_codecs_cn          binascii            joblib              setuptools\n",
      "_codecs_hk          binhex              json                shelve\n",
      "_codecs_iso2022     bisect              jupyter             shlex\n",
      "_codecs_jp          builtins            jupyter_client      shutil\n",
      "_codecs_kr          bz2                 jupyter_core        signal\n",
      "_codecs_tw          cProfile            keyword             site\n",
      "_collections        cachecontrol        kiwisolver          sitecustomize\n",
      "_collections_abc    calendar            lib2to3             six\n",
      "_compat_pickle      certifi             linecache           sklearn\n",
      "_compression        cgi                 locale              smtpd\n",
      "_contextvars        cgitb               lockfile            smtplib\n",
      "_crypt              chardet             logging             sndhdr\n",
      "_csv                chunk               lxml                socket\n",
      "_ctypes             cmath               lzma                socketserver\n",
      "_ctypes_test        cmd                 mailbox             spwd\n",
      "_curses             code                mailcap             sqlite3\n",
      "_curses_panel       codecs              marshal             sre_compile\n",
      "_datetime           codeop              math                sre_constants\n",
      "_dbm                collections         matplotlib          sre_parse\n",
      "_decimal            colorama            matplotlib_inline   ssl\n",
      "_dummy_thread       colorsys            mimetypes           stack_data\n",
      "_elementtree        comm                mmap                stat\n",
      "_functools          compileall          modulefinder        statistics\n",
      "_gdbm               concurrent          msgpack             string\n",
      "_hashlib            configparser        multiprocessing     stringprep\n",
      "_heapq              contextlib          nest_asyncio        struct\n",
      "_imp                contextlib2         netrc               subprocess\n",
      "_io                 contextvars         nis                 sunau\n",
      "_json               contourpy           nntplib             symbol\n",
      "_locale             copy                ntpath              symtable\n",
      "_lsprof             copyreg             nturl2path          sys\n",
      "_lzma               crypt               numbers             sysconfig\n",
      "_markupbase         csv                 numpy               syslog\n",
      "_md5                ctypes              opcode              tabnanny\n",
      "_multibytecodec     curses              operator            tarfile\n",
      "_multiprocessing    cycler              optparse            telnetlib\n",
      "_opcode             dataclasses         os                  tempfile\n",
      "_operator           datetime            ossaudiodev         termios\n",
      "_osx_support        dateutil            packaging           test\n",
      "_pickle             dbm                 pandas              textwrap\n",
      "_posixshmem         debugpy             parser              this\n",
      "_posixsubprocess    decimal             parso               threading\n",
      "_py_abc             decorator           pathlib             threadpoolctl\n",
      "_pydecimal          difflib             pdb                 time\n",
      "_pyio               dis                 pep517              timeit\n",
      "_queue              distlib             pexpect             token\n",
      "_random             distro              pickle              tokenize\n",
      "_sha1               distutils           pickleshare         toml\n",
      "_sha256             doctest             pickletools         tornado\n",
      "_sha3               dummy_threading     pip                 trace\n",
      "_sha512             easy_install        pipes               traceback\n",
      "_signal             email               pkg_resources       tracemalloc\n",
      "_sitebuiltins       encodings           pkgutil             traitlets\n",
      "_socket             ensurepip           platform            tty\n",
      "_sqlite3            enum                platformdirs        turtle\n",
      "_sre                errno               plistlib            types\n",
      "_ssl                executing           poplib              typing\n",
      "_stat               faulthandler        posix               typing_extensions\n",
      "_statistics         fcntl               posixpath           tzdata\n",
      "_string             filecmp             pprint              unicodedata\n",
      "_strptime           fileinput           profile             unittest\n",
      "_struct             fnmatch             progress            urllib\n",
      "_symtable           fontTools           prompt_toolkit      urllib3\n",
      "_sysconfigdata__linux_x86_64-linux-gnu formatter           pstats              uu\n",
      "_sysconfigdata__x86_64-linux-gnu fractions           psutil              uuid\n",
      "_testbuffer         ftplib              pty                 venv\n",
      "_testcapi           functools           ptyprocess          warnings\n",
      "_testimportmultiple gc                  pure_eval           wave\n",
      "_testinternalcapi   genericpath         pwd                 wcwidth\n",
      "_testmultiphase     getopt              py_compile          weakref\n",
      "_thread             getpass             pyclbr              webbrowser\n",
      "_threading_local    gettext             pydoc               webencodings\n",
      "_tracemalloc        glob                pydoc_data          wheel\n",
      "_uuid               grp                 pyexpat             wsgiref\n",
      "_warnings           gzip                pygments            xdrlib\n",
      "_weakref            hashlib             pylab               xml\n",
      "_weakrefset         heapq               pyparsing           xmlrpc\n",
      "_xxsubinterpreters  hmac                pytz                xxlimited\n",
      "_xxtestfuzz         html                queue               xxsubtype\n",
      "abc                 html5lib            quopri              zipapp\n",
      "aifc                http                random              zipfile\n",
      "antigravity         idna                re                  zipimport\n",
      "app                 imaplib             readline            zipp\n",
      "appdirs             imghdr              reprlib             zlib\n",
      "argparse            imp                 requests            zmq\n",
      "\n",
      "Enter any module name to get more help.  Or, type \"modules spam\" to search\n",
      "for modules whose name or summary contain the string \"spam\".\n",
      "\n"
     ]
    }
   ],
   "source": [
    "import sys\n",
    "\n",
    "# List all built-in modules\n",
    "builtin_modules = sys.builtin_module_names\n",
    "print(builtin_modules)\n",
    "help('modules')"
   ]
  },
  {
   "cell_type": "code",
   "execution_count": 114,
   "metadata": {},
   "outputs": [
    {
     "name": "stdout",
     "output_type": "stream",
     "text": [
      "Random integer between 1 and 9000000: 6407232\n",
      "Random float between 0 and 1: 0.6921351393514883\n",
      "Random color: red\n",
      "Shuffled colors: ['yellow', 'green', 'red', 'blue', 'grey', 'black']\n",
      "Done!\n"
     ]
    }
   ],
   "source": [
    "import random #Altanatively: from random import randint, random, choice, shuffle\n",
    "\n",
    "# Generate a random integer between 1 and 10\n",
    "random_int = random.randint(4, 9000000)\n",
    "print(f\"Random integer between 1 and 9000000: {random_int}\")\n",
    "\n",
    "# Generate a random float between 0 and 1\n",
    "random_float = random.random()\n",
    "print(f\"Random float between 0 and 1: {random_float}\")\n",
    "\n",
    "# Choose a random element from a list\n",
    "colors = [\"red\", \"blue\", \"green\", \"yellow\",\"grey\", \"black\" ]\n",
    "random_color = random.choice(colors)\n",
    "print(f\"Random color: {random_color}\")\n",
    "\n",
    "# Shuffle a list\n",
    "random.shuffle(colors)\n",
    "print(f\"Shuffled colors: {colors}\")\n",
    "\n",
    "print(\"Done!\")"
   ]
  },
  {
   "cell_type": "markdown",
   "metadata": {},
   "source": [
    "#### Math module"
   ]
  },
  {
   "cell_type": "code",
   "execution_count": 115,
   "metadata": {},
   "outputs": [
    {
     "name": "stdout",
     "output_type": "stream",
     "text": [
      "2.718281828459045\n",
      "3.141592653589793\n",
      "180.0\n",
      "3.141592653589793\n"
     ]
    },
    {
     "data": {
      "text/plain": [
       "1.0471975511965979"
      ]
     },
     "execution_count": 115,
     "metadata": {},
     "output_type": "execute_result"
    }
   ],
   "source": [
    "import math\n",
    "\n",
    "math.sqrt(16) # Output: 4.0\n",
    "print(math.e)\n",
    "print(math.pi)\n",
    "print(math.degrees(math.pi))\n",
    "print(math.radians(180))\n",
    "math.sin(83.2)\n",
    "math.acos(0.5)"
   ]
  },
  {
   "cell_type": "code",
   "execution_count": 116,
   "metadata": {},
   "outputs": [
    {
     "name": "stdout",
     "output_type": "stream",
     "text": [
      "The inverse cosine (arccos) of 0.5 is 1.0471975511965979 radians\n"
     ]
    }
   ],
   "source": [
    "import math\n",
    "\n",
    "angle = 0.5  # Example angle in radians\n",
    "inverse_cosine = math.acos(angle)\n",
    "print(f\"The inverse cosine (arccos) of {angle} is {inverse_cosine} radians\")"
   ]
  },
  {
   "cell_type": "code",
   "execution_count": 117,
   "metadata": {},
   "outputs": [
    {
     "data": {
      "text/plain": [
       "1.3038404810405297"
      ]
     },
     "execution_count": 117,
     "metadata": {},
     "output_type": "execute_result"
    }
   ],
   "source": [
    "import statistics\n",
    "statistics.mean([1, 2, 3, 4, 4])  # Output: 2.8\n",
    "statistics.median([1, 2, 3, 4, 4])  # Output: 3\n",
    "statistics.NormalDist(mu=0, sigma=1).pdf(0)  # Output: 0.3989422804014327\n",
    "statistics.mode([1, 2, 3, 4, 4])  # Output: 4\n",
    "statistics.stdev([1, 2, 3, 4, 4])  # Output: 1.3038404810405297"
   ]
  },
  {
   "cell_type": "code",
   "execution_count": 118,
   "metadata": {},
   "outputs": [
    {
     "name": "stdout",
     "output_type": "stream",
     "text": [
      "Hello\n"
     ]
    },
    {
     "ename": "NameError",
     "evalue": "name 'x' is not defined",
     "output_type": "error",
     "traceback": [
      "\u001b[0;31m---------------------------------------------------------------------------\u001b[0m",
      "\u001b[0;31mNameError\u001b[0m                                 Traceback (most recent call last)",
      "Cell \u001b[0;32mIn[118], line 12\u001b[0m\n\u001b[1;32m      9\u001b[0m     \u001b[38;5;28mprint\u001b[39m(\u001b[38;5;124m\"\u001b[39m\u001b[38;5;124mHello\u001b[39m\u001b[38;5;124m\"\u001b[39m)  \u001b[38;5;66;03m# This line should be indented\u001b[39;00m\n\u001b[1;32m     11\u001b[0m \u001b[38;5;66;03m# 3. **NameError**: This occurs when a variable or function name is not found.\u001b[39;00m\n\u001b[0;32m---> 12\u001b[0m \u001b[38;5;28mprint\u001b[39m(\u001b[43mx\u001b[49m)  \u001b[38;5;66;03m# x is not defined\u001b[39;00m\n\u001b[1;32m     14\u001b[0m \u001b[38;5;66;03m# 4. **TypeError**: This occurs when an operation or function is applied to an object of inappropriate type.\u001b[39;00m\n\u001b[1;32m     15\u001b[0m \u001b[38;5;28mprint\u001b[39m(\u001b[38;5;124m\"\u001b[39m\u001b[38;5;124mHello\u001b[39m\u001b[38;5;124m\"\u001b[39m \u001b[38;5;241m+\u001b[39m \u001b[38;5;241m5\u001b[39m)  \u001b[38;5;66;03m# Cannot concatenate a string and an integer\u001b[39;00m\n",
      "\u001b[0;31mNameError\u001b[0m: name 'x' is not defined"
     ]
    }
   ],
   "source": [
    "# In Python, there are several types of errors that you might encounter. Here are some common ones:\n",
    "\n",
    "# 1. **SyntaxError**: This occurs when the code is not written in proper Python syntax.\n",
    "if True:\n",
    "    print(\"Hello\")  # Missing colon (:) after the if statement\n",
    "\n",
    "# 2. **IndentationError**: This occurs when the code is not properly indented.\n",
    "def my_function():\n",
    "    print(\"Hello\")  # This line should be indented\n",
    "\n",
    "# 3. **NameError**: This occurs when a variable or function name is not found.\n",
    "print(x)  # x is not defined\n",
    "\n",
    "# 4. **TypeError**: This occurs when an operation or function is applied to an object of inappropriate type.\n",
    "print(\"Hello\" + 5)  # Cannot concatenate a string and an integer\n",
    "\n",
    "# 5. **ValueError**: This occurs when a function receives an argument of the right type but inappropriate value.\n",
    "int(\"Hello\")  # Cannot convert a string that is not a number to an integer\n",
    "\n",
    "# 6. **IndexError**: This occurs when trying to access an element from a list using an index that is out of range.\n",
    "my_list = [1, 2, 3]\n",
    "print(my_list[5])  # Index 5 is out of range\n",
    "\n",
    "# 7. **KeyError**: This occurs when trying to access a dictionary with a key that does not exist.\n",
    "my_dict = {\"a\": 1, \"b\": 2}\n",
    "print(my_dict[\"c\"])  # Key 'c' does not exist\n",
    "\n",
    "# 8. **AttributeError**: This occurs when trying to access an attribute that does not exist for an object.\n",
    "my_list = [1, 2, 3]\n",
    "my_list.append(4)\n",
    "my_list.push(5)  # 'list' object has no attribute 'push'\n",
    "\n",
    "# 9. **ImportError**: This occurs when an import statement fails to find the module definition or when a from ... import fails to find a name that is to be imported.\n",
    "import non_existent_module  # No module named 'non_existent_module'\n",
    "\n",
    "# 10. **ZeroDivisionError**: This occurs when a division or modulo operation is performed with zero as the divisor.\n",
    "print(10 / 0)  # Division by zero\n",
    "\n",
    "# These are just a few examples of common errors in Python. Understanding these errors can help you debug your code more effectively."
   ]
  },
  {
   "cell_type": "code",
   "execution_count": null,
   "metadata": {},
   "outputs": [],
   "source": [
    "try:\n",
    "    # Code that may raise an exception\n",
    "    result = 10 / 0\n",
    "except ZeroDivisionError as e:\n",
    "    # Code to handle the exception\n",
    "    print(f\"Error: {e}\")\n",
    "else:\n",
    "    # Code to execute if no exception is raised\n",
    "    print(\"No exceptions were raised.\")\n",
    "finally:\n",
    "    # Code to execute regardless of whether an exception was raised or not\n",
    "    print(\"This block is always executed.\")\n",
    "\n",
    "# Example with multiple exceptions\n",
    "try:\n",
    "    value = int(\"Hello\")\n",
    "except ValueError as e:\n",
    "    print(f\"ValueError: {e}\")\n",
    "except TypeError as e:\n",
    "    print(f\"TypeError: {e}\")"
   ]
  },
  {
   "cell_type": "code",
   "execution_count": 72,
   "metadata": {},
   "outputs": [
    {
     "name": "stdout",
     "output_type": "stream",
     "text": [
      "Learning Python is fun!\n",
      "Learning Python is fun!\n",
      "I love Python!\n"
     ]
    }
   ],
   "source": [
    "import io\n",
    "\n",
    "new_text = \"Learning Python is fun!\"\n",
    "with open(\"example.txt\", \"w\") as file:\n",
    "    file.write(new_text)\n",
    "    \n",
    "with open(\"example.txt\", \"r\") as file:\n",
    "    content = file.read()\n",
    "    print(content)\n",
    "\n",
    "with open(\"example.txt\", \"a\") as file:\n",
    "    file.write(\"\\nI love Python!\")\n",
    "\n",
    "# Move the cursor to the beginning of the file\n",
    "# file.seek(0)\n",
    "\n",
    "# Reopen the file in read mode and read the updated content\n",
    "with open(\"example.txt\", \"r\") as file:\n",
    "    updated_content = file.read()\n",
    "    print(updated_content)"
   ]
  },
  {
   "cell_type": "code",
   "execution_count": 73,
   "metadata": {},
   "outputs": [
    {
     "name": "stdout",
     "output_type": "stream",
     "text": [
      "Current Directory: /home/wanyua/Dev/ML/Python-Machine-Learning-Tutorial/Python\n",
      "Files and Directories: ['example.txt', 'python_basics.ipynb', 'app.py']\n",
      "Created new directory: new_folder\n",
      "Renamed directory to: renamed_folder\n",
      "Removed directory: renamed_folder\n",
      "Home Directory: /home/wanyua\n",
      "MY_VARIABLE: my_value\n"
     ]
    }
   ],
   "source": [
    "import os\n",
    "\n",
    "# Get the current working directory\n",
    "current_directory = os.getcwd()\n",
    "print(f\"Current Directory: {current_directory}\")\n",
    "\n",
    "# List all files and directories in the current directory\n",
    "files_and_directories = os.listdir(current_directory)\n",
    "print(f\"Files and Directories: {files_and_directories}\")\n",
    "\n",
    "# Create a new directory\n",
    "new_directory = \"new_folder\"\n",
    "os.makedirs(new_directory, exist_ok=True)\n",
    "print(f\"Created new directory: {new_directory}\")\n",
    "\n",
    "# Rename a directory\n",
    "renamed_directory = \"renamed_folder\"\n",
    "os.rename(new_directory, renamed_directory)\n",
    "print(f\"Renamed directory to: {renamed_directory}\")\n",
    "\n",
    "# Remove a directory\n",
    "os.rmdir(renamed_directory)\n",
    "print(f\"Removed directory: {renamed_directory}\")\n",
    "\n",
    "# Get the value of an environment variable\n",
    "home_directory = os.getenv(\"HOME\")\n",
    "print(f\"Home Directory: {home_directory}\")\n",
    "\n",
    "# Set an environment variable\n",
    "os.environ[\"MY_VARIABLE\"] = \"my_value\"\n",
    "print(f\"MY_VARIABLE: {os.getenv('MY_VARIABLE')}\")"
   ]
  },
  {
   "cell_type": "code",
   "execution_count": 74,
   "metadata": {},
   "outputs": [
    {
     "name": "stdout",
     "output_type": "stream",
     "text": [
      "File copied successfully.\n",
      "File moved successfully.\n",
      "File removed successfully.\n"
     ]
    }
   ],
   "source": [
    "import shutil\n",
    "\n",
    "# Copy a file\n",
    "shutil.copy(\"example.txt\", \"example_copy.txt\")\n",
    "print(\"File copied successfully.\")\n",
    "\n",
    "# Move a file\n",
    "shutil.move(\"example_copy.txt\", \"example_moved.txt\")\n",
    "print(\"File moved successfully.\")\n",
    "\n",
    "# Remove a file\n",
    "os.remove(\"example_moved.txt\")\n",
    "print(\"File removed successfully.\")"
   ]
  },
  {
   "cell_type": "code",
   "execution_count": 75,
   "metadata": {},
   "outputs": [
    {
     "name": "stdout",
     "output_type": "stream",
     "text": [
      "Original list: [1, 2, ['Changed', 4], 5]\n",
      "Shallow copy: [1, 2, ['Changed', 4], 5]\n",
      "Deep copy: [1, 2, [3, 4], 5]\n"
     ]
    }
   ],
   "source": [
    "import copy\n",
    "\n",
    "# Original list\n",
    "original_list = [1, 2, [3, 4], 5]\n",
    "\n",
    "# Shallow copy - modifications in the copied object can affect the original if it contains mutable objects.\n",
    "\n",
    "shallow_copy = copy.copy(original_list)\n",
    "\n",
    "# Deep copy - Changes in the copied object do not affect the original.\n",
    "\n",
    "deep_copy = copy.deepcopy(original_list)\n",
    "\n",
    "# Modify the original list\n",
    "original_list[2][0] = 'Changed'\n",
    "\n",
    "print(\"Original list:\", original_list)  # Output: [1, 2, ['Changed', 4], 5]\n",
    "print(\"Shallow copy:\", shallow_copy)    # Output: [1, 2, ['Changed', 4], 5]\n",
    "print(\"Deep copy:\", deep_copy)          # Output: [1, 2, [3, 4], 5]"
   ]
  },
  {
   "cell_type": "code",
   "execution_count": null,
   "metadata": {},
   "outputs": [],
   "source": [
    "# !pip install send2trash\n",
    "import send2trash\n",
    "\n",
    "# Send a file to the trash\n",
    "send2trash.send2trash(\"example.txt\")\n",
    "print(\"File sent to trash successfully.\")\n",
    "\n",
    "# Send a directory to the trash\n",
    "send2trash.send2trash(\"new_folder\")\n",
    "print(\"Directory sent to trash successfully.\")"
   ]
  },
  {
   "cell_type": "code",
   "execution_count": 77,
   "metadata": {},
   "outputs": [
    {
     "name": "stdout",
     "output_type": "stream",
     "text": [
      "Files zipped successfully.\n",
      "Files unzipped successfully.\n",
      "Extracted files: ['example.txt', 'example_moved.txt']\n"
     ]
    }
   ],
   "source": [
    "import zipfile\n",
    "import os\n",
    "\n",
    "new_file = open('example_moved.txt', 'w')\n",
    "# Create a zip file\n",
    "with zipfile.ZipFile('example.zip', 'w') as zipf:\n",
    "    zipf.write('example.txt')\n",
    "    zipf.write('example_moved.txt')\n",
    "\n",
    "print(\"Files zipped successfully.\")\n",
    "\n",
    "# Unzip the file\n",
    "with zipfile.ZipFile('example.zip', 'r') as zipf:\n",
    "    zipf.extractall('extracted_files')\n",
    "\n",
    "print(\"Files unzipped successfully.\")\n",
    "\n",
    "# List the contents of the extracted directory\n",
    "extracted_files = os.listdir('extracted_files')\n",
    "print(f\"Extracted files: {extracted_files}\")"
   ]
  },
  {
   "cell_type": "markdown",
   "metadata": {},
   "source": [
    "### Numpy arrays"
   ]
  },
  {
   "cell_type": "code",
   "execution_count": 81,
   "metadata": {},
   "outputs": [
    {
     "name": "stdout",
     "output_type": "stream",
     "text": [
      "Array from list: [1 2 3 4 5]\n",
      "Array with range of values: [0 1 2 3 4 5 6 7 8]\n",
      "Array with zeros:\n",
      " [[0. 0. 0.]\n",
      " [0. 0. 0.]\n",
      " [0. 0. 0.]]\n",
      "Array with ones:\n",
      " [[1. 1. 1. 1.]\n",
      " [1. 1. 1. 1.]]\n",
      "Array with random values:\n",
      " [[0.45037838 0.04657062 0.21650479 0.62893839]\n",
      " [0.45737238 0.37754599 0.12188324 0.77510976]\n",
      " [0.69889786 0.23656815 0.6579891  0.90588845]\n",
      " [0.81050128 0.81018526 0.65894468 0.48645593]]\n",
      "Array after addition: [11 12 13 14 15]\n",
      "Array after multiplication: [ 2  4  6  8 10]\n",
      "Element at index 2: 3\n",
      "Sliced array: [2 3 4]\n"
     ]
    }
   ],
   "source": [
    "import numpy as np\n",
    "\n",
    "# Create a NumPy array from a list\n",
    "array_from_list = np.array([1, 2, 3, 4, 5])\n",
    "print(\"Array from list:\", array_from_list)\n",
    "\n",
    "# Create a NumPy array with a range of values\n",
    "array_range = np.arange(9)\n",
    "print(\"Array with range of values:\", array_range)\n",
    "\n",
    "# Create a NumPy array with zeros\n",
    "array_zeros = np.zeros((3, 3))\n",
    "print(\"Array with zeros:\\n\", array_zeros)\n",
    "\n",
    "# Create a NumPy array with ones\n",
    "array_ones = np.ones((2, 4))\n",
    "print(\"Array with ones:\\n\", array_ones)\n",
    "\n",
    "# Create a NumPy array with random values\n",
    "array_random = np.random.random((4, 4))\n",
    "print(\"Array with random values:\\n\", array_random)\n",
    "\n",
    "# Perform basic arithmetic operations on NumPy arrays\n",
    "array_sum = array_from_list + 10\n",
    "print(\"Array after addition:\", array_sum)\n",
    "\n",
    "array_product = array_from_list * 2\n",
    "print(\"Array after multiplication:\", array_product)\n",
    "\n",
    "# Access elements of a NumPy array\n",
    "element = array_from_list[2]\n",
    "print(\"Element at index 2:\", element)\n",
    "\n",
    "# Slicing a NumPy array\n",
    "array_slice = array_from_list[1:4]\n",
    "print(\"Sliced array:\", array_slice)"
   ]
  },
  {
   "cell_type": "code",
   "execution_count": 84,
   "metadata": {},
   "outputs": [
    {
     "name": "stdout",
     "output_type": "stream",
     "text": [
      "Double marks: [24.2 26.4 28.6 30.8 33. ]\n"
     ]
    }
   ],
   "source": [
    "marks = [12.1, 13.2, 14.3, 15.4, 16.5]\n",
    "np_marks = np.array(marks)\n",
    "double_marks = np_marks * 2\n",
    "print(f\"Double marks: {double_marks}\")"
   ]
  },
  {
   "cell_type": "markdown",
   "metadata": {},
   "source": [
    "#### 1-Dimensional Numpy arrays Operations"
   ]
  },
  {
   "cell_type": "code",
   "execution_count": 86,
   "metadata": {},
   "outputs": [
    {
     "name": "stdout",
     "output_type": "stream",
     "text": [
      "Sum of elements: 150\n",
      "Mean of elements: 30.0\n",
      "Standard deviation of elements: 14.142135623730951\n",
      "Minimum element: 10\n",
      "Maximum element: 50\n",
      "Index of minimum element: 0\n",
      "Index of maximum element: 4\n",
      "The one dimensional array is:  [10 20 30 40 50]\n",
      "Cumulative sum of elements: [ 10  30  60 100 150]\n",
      "Sorted array: [10 20 30 40 50]\n"
     ]
    }
   ],
   "source": [
    "# Create a 1-dimensional NumPy array\n",
    "array_1d = np.array([10, 20, 30, 40, 50])\n",
    "\n",
    "# Sum of all elements\n",
    "sum_elements = np.sum(array_1d)\n",
    "print(f\"Sum of elements: {sum_elements}\")\n",
    "\n",
    "# Mean of all elements\n",
    "mean_elements = np.mean(array_1d)\n",
    "print(f\"Mean of elements: {mean_elements}\")\n",
    "\n",
    "# Standard deviation of all elements\n",
    "std_deviation = np.std(array_1d)\n",
    "print(f\"Standard deviation of elements: {std_deviation}\")\n",
    "\n",
    "# Minimum and maximum elements\n",
    "min_element = np.min(array_1d)\n",
    "max_element = np.max(array_1d)\n",
    "print(f\"Minimum element: {min_element}\")\n",
    "print(f\"Maximum element: {max_element}\")\n",
    "\n",
    "# Index of the minimum and maximum elements\n",
    "min_index = np.argmin(array_1d) # returns the indices of the minimum values along an axis\n",
    "max_index = np.argmax(array_1d) # returns the indices of the maximum values along an axis\n",
    "print(f\"Index of minimum element: {min_index}\")\n",
    "print(f\"Index of maximum element: {max_index}\")\n",
    "\n",
    "# Cumulative sum of elements\n",
    "cumulative_sum = np.cumsum(array_1d)\n",
    "print(\"The one dimensional array is: \", array_1d)\n",
    "print(f\"Cumulative sum of elements: {cumulative_sum}\")\n",
    "\n",
    "# Sorting the array\n",
    "sorted_array = np.sort(array_1d)\n",
    "print(f\"Sorted array: {sorted_array}\")"
   ]
  },
  {
   "cell_type": "code",
   "execution_count": 87,
   "metadata": {},
   "outputs": [
    {
     "name": "stdout",
     "output_type": "stream",
     "text": [
      "Square root of elements: [3.16227766 4.47213595 5.47722558 6.32455532 7.07106781]\n",
      "Exponential of elements: [2.20264658e+04 4.85165195e+08 1.06864746e+13 2.35385267e+17\n",
      " 5.18470553e+21]\n",
      "Natural logarithm of elements: [2.30258509 2.99573227 3.40119738 3.68887945 3.91202301]\n",
      "Sine of elements: [-0.54402111  0.91294525 -0.98803162  0.74511316 -0.26237485]\n",
      "Cosine of elements: [-0.83907153  0.40808206  0.15425145 -0.66693806  0.96496603]\n",
      "Tangent of elements: [ 0.64836083  2.23716094 -6.4053312  -1.11721493 -0.27190061]\n"
     ]
    }
   ],
   "source": [
    "# Square root of each element\n",
    "sqrt_array = np.sqrt(array_1d)\n",
    "print(f\"Square root of elements: {sqrt_array}\")\n",
    "\n",
    "# Exponential (e^x) of each element\n",
    "exp_array = np.exp(array_1d)\n",
    "print(f\"Exponential of elements: {exp_array}\")\n",
    "\n",
    "# Natural logarithm (ln) of each element\n",
    "log_array = np.log(array_1d)\n",
    "print(f\"Natural logarithm of elements: {log_array}\")\n",
    "\n",
    "# Sine of each element (assuming elements are in radians)\n",
    "sin_array = np.sin(array_1d)\n",
    "print(f\"Sine of elements: {sin_array}\")\n",
    "\n",
    "# Cosine of each element (assuming elements are in radians)\n",
    "cos_array = np.cos(array_1d)\n",
    "print(f\"Cosine of elements: {cos_array}\")\n",
    "\n",
    "# Tangent of each element (assuming elements are in radians)\n",
    "tan_array = np.tan(array_1d)\n",
    "print(f\"Tangent of elements: {tan_array}\")"
   ]
  },
  {
   "cell_type": "markdown",
   "metadata": {},
   "source": [
    "#### Creating N-Dimensional numpy arrays\n"
   ]
  },
  {
   "cell_type": "code",
   "execution_count": 97,
   "metadata": {},
   "outputs": [
    {
     "name": "stdout",
     "output_type": "stream",
     "text": [
      "[[1 2 3]\n",
      " [4 5 6]]\n",
      "[[1. 1. 1. 1. 1.]\n",
      " [1. 1. 1. 1. 1.]\n",
      " [1. 1. 1. 1. 1.]]\n",
      "[[0.64096872 0.1000776  0.52787721 0.0041767  0.68893038 0.10214932]\n",
      " [0.19361158 0.89380118 0.68775575 0.79303401 0.04258087 0.31439545]]\n",
      "Cat marks: [99 58 80 89 58 31 67 68 90 61]\n"
     ]
    }
   ],
   "source": [
    "x = np.array([[1, 2, 3], [4, 5, 6]])\n",
    "print(x)\n",
    "\n",
    "ones_np = np.ones((3, 5))\n",
    "print(ones_np)\n",
    "\n",
    "random_np = np.random.random((2, 6)) # Create a 2x6 array with random values between 0 and 1\n",
    "print(random_np)\n",
    "\n",
    "cat_marks = np.random.randint(30, 100, 10) # Generate 10 random integers between 0 and 100   \n",
    "print(f\"Cat marks: {cat_marks}\")\n"
   ]
  },
  {
   "cell_type": "code",
   "execution_count": 103,
   "metadata": {},
   "outputs": [
    {
     "name": "stdout",
     "output_type": "stream",
     "text": [
      "Sum of x and y: [[ 66  35 124]\n",
      " [ 24  36  26]]\n"
     ]
    }
   ],
   "source": [
    "x = np.array([[23,33,34],[1, 2, 23]])\n",
    "y = np.array([[43,2,90],[23, 34, 3]])\n",
    "print(f\"Sum of x and y: {x + y}\")"
   ]
  },
  {
   "cell_type": "code",
   "execution_count": 102,
   "metadata": {},
   "outputs": [
    {
     "name": "stdout",
     "output_type": "stream",
     "text": [
      "Dot product of x and y:\n",
      "[[4115 1753]\n",
      " [2117  160]]\n",
      "Cross product of vector_a and vector_b: [-3  6 -3]\n"
     ]
    }
   ],
   "source": [
    "# Dot product of two arrays\n",
    "dot_product = np.dot(x, y.T)  # Transpose y to match the dimensions\n",
    "print(f\"Dot product of x and y:\\n{dot_product}\")\n",
    "\n",
    "# Cross product of two arrays\n",
    "# Note: Cross product is only defined for 3-dimensional vectors\n",
    "vector_a = np.array([1, 2, 3])\n",
    "vector_b = np.array([4, 5, 6])\n",
    "cross_product = np.cross(vector_a, vector_b)\n",
    "print(f\"Cross product of vector_a and vector_b: {cross_product}\")"
   ]
  },
  {
   "cell_type": "code",
   "execution_count": 104,
   "metadata": {},
   "outputs": [
    {
     "name": "stdout",
     "output_type": "stream",
     "text": [
      "Element at row 1, column 2: 6\n",
      "Row at index 1: [4 5 6]\n",
      "Column at index 2: [3 6 9]\n",
      "Submatrix from rows 0 to 1 and columns 1 to 2:\n",
      "[[2 3]\n",
      " [5 6]]\n"
     ]
    }
   ],
   "source": [
    "# Accessing elements in a 2D NumPy array\n",
    "matrix = np.array([[1, 2, 3], [4, 5, 6], [7, 8, 9]])\n",
    "\n",
    "# Access a specific element\n",
    "element = matrix[1, 2]  # Access the element at row index 1 and column index 2\n",
    "print(f\"Element at row 1, column 2: {element}\")\n",
    "\n",
    "# Access a specific row\n",
    "row = matrix[1, :]  # Access the entire row at index 1\n",
    "print(f\"Row at index 1: {row}\")\n",
    "\n",
    "# Access a specific column\n",
    "column = matrix[:, 2]  # Access the entire column at index 2\n",
    "print(f\"Column at index 2: {column}\")\n",
    "\n",
    "# Access a submatrix\n",
    "submatrix = matrix[0:2, 1:3]  # Access the submatrix from row indices 0 to 1 and column indices 1 to 2\n",
    "print(f\"Submatrix from rows 0 to 1 and columns 1 to 2:\\n{submatrix}\")"
   ]
  },
  {
   "cell_type": "markdown",
   "metadata": {},
   "source": [
    "### Reshape an array"
   ]
  },
  {
   "cell_type": "code",
   "execution_count": 112,
   "metadata": {},
   "outputs": [
    {
     "name": "stdout",
     "output_type": "stream",
     "text": [
      "[[1 2 3]\n",
      " [4 5 6]]\n"
     ]
    }
   ],
   "source": [
    "new_data = np.array([1,2,3,4,5,6])\n",
    "reshaped_data = new_data.reshape(2,3)\n",
    "print(reshaped_data)"
   ]
  },
  {
   "cell_type": "code",
   "execution_count": 114,
   "metadata": {},
   "outputs": [
    {
     "name": "stdout",
     "output_type": "stream",
     "text": [
      "[46 69 37 35 47 65 60 52 38 38 57 54 38 35 44 66 49 49 43 58 35 60 37 54\n",
      " 45 48 57 73 64 75 68 61 49 49 70 51 71 60 72 41 36 75 63 59]\n",
      "[[46 69 37 35 47 65 60 52 38 38 57]\n",
      " [54 38 35 44 66 49 49 43 58 35 60]\n",
      " [37 54 45 48 57 73 64 75 68 61 49]\n",
      " [49 70 51 71 60 72 41 36 75 63 59]]\n"
     ]
    }
   ],
   "source": [
    "t = np.random.randint(34, 78, 44)\n",
    "print(t)\n",
    "reshaped_t = t.reshape(4,11)\n",
    "print(reshaped_t)"
   ]
  },
  {
   "cell_type": "code",
   "execution_count": 122,
   "metadata": {},
   "outputs": [
    {
     "name": "stdout",
     "output_type": "stream",
     "text": [
      "[[[1. 1. 1. 1. 1. 1. 1. 1.]\n",
      "  [1. 1. 1. 1. 1. 1. 1. 1.]\n",
      "  [1. 1. 1. 1. 1. 1. 1. 1.]]\n",
      "\n",
      " [[1. 1. 1. 1. 1. 1. 1. 1.]\n",
      "  [1. 1. 1. 1. 1. 1. 1. 1.]\n",
      "  [1. 1. 1. 1. 1. 1. 1. 1.]]\n",
      "\n",
      " [[1. 1. 1. 1. 1. 1. 1. 1.]\n",
      "  [1. 1. 1. 1. 1. 1. 1. 1.]\n",
      "  [1. 1. 1. 1. 1. 1. 1. 1.]]\n",
      "\n",
      " [[1. 1. 1. 1. 1. 1. 1. 1.]\n",
      "  [1. 1. 1. 1. 1. 1. 1. 1.]\n",
      "  [1. 1. 1. 1. 1. 1. 1. 1.]]\n",
      "\n",
      " [[1. 1. 1. 1. 1. 1. 1. 1.]\n",
      "  [1. 1. 1. 1. 1. 1. 1. 1.]\n",
      "  [1. 1. 1. 1. 1. 1. 1. 1.]]\n",
      "\n",
      " [[1. 1. 1. 1. 1. 1. 1. 1.]\n",
      "  [1. 1. 1. 1. 1. 1. 1. 1.]\n",
      "  [1. 1. 1. 1. 1. 1. 1. 1.]]\n",
      "\n",
      " [[1. 1. 1. 1. 1. 1. 1. 1.]\n",
      "  [1. 1. 1. 1. 1. 1. 1. 1.]\n",
      "  [1. 1. 1. 1. 1. 1. 1. 1.]]\n",
      "\n",
      " [[1. 1. 1. 1. 1. 1. 1. 1.]\n",
      "  [1. 1. 1. 1. 1. 1. 1. 1.]\n",
      "  [1. 1. 1. 1. 1. 1. 1. 1.]]\n",
      "\n",
      " [[1. 1. 1. 1. 1. 1. 1. 1.]\n",
      "  [1. 1. 1. 1. 1. 1. 1. 1.]\n",
      "  [1. 1. 1. 1. 1. 1. 1. 1.]]\n",
      "\n",
      " [[1. 1. 1. 1. 1. 1. 1. 1.]\n",
      "  [1. 1. 1. 1. 1. 1. 1. 1.]\n",
      "  [1. 1. 1. 1. 1. 1. 1. 1.]]\n",
      "\n",
      " [[1. 1. 1. 1. 1. 1. 1. 1.]\n",
      "  [1. 1. 1. 1. 1. 1. 1. 1.]\n",
      "  [1. 1. 1. 1. 1. 1. 1. 1.]]\n",
      "\n",
      " [[1. 1. 1. 1. 1. 1. 1. 1.]\n",
      "  [1. 1. 1. 1. 1. 1. 1. 1.]\n",
      "  [1. 1. 1. 1. 1. 1. 1. 1.]]\n",
      "\n",
      " [[1. 1. 1. 1. 1. 1. 1. 1.]\n",
      "  [1. 1. 1. 1. 1. 1. 1. 1.]\n",
      "  [1. 1. 1. 1. 1. 1. 1. 1.]]\n",
      "\n",
      " [[1. 1. 1. 1. 1. 1. 1. 1.]\n",
      "  [1. 1. 1. 1. 1. 1. 1. 1.]\n",
      "  [1. 1. 1. 1. 1. 1. 1. 1.]]\n",
      "\n",
      " [[1. 1. 1. 1. 1. 1. 1. 1.]\n",
      "  [1. 1. 1. 1. 1. 1. 1. 1.]\n",
      "  [1. 1. 1. 1. 1. 1. 1. 1.]]\n",
      "\n",
      " [[1. 1. 1. 1. 1. 1. 1. 1.]\n",
      "  [1. 1. 1. 1. 1. 1. 1. 1.]\n",
      "  [1. 1. 1. 1. 1. 1. 1. 1.]]\n",
      "\n",
      " [[1. 1. 1. 1. 1. 1. 1. 1.]\n",
      "  [1. 1. 1. 1. 1. 1. 1. 1.]\n",
      "  [1. 1. 1. 1. 1. 1. 1. 1.]]\n",
      "\n",
      " [[1. 1. 1. 1. 1. 1. 1. 1.]\n",
      "  [1. 1. 1. 1. 1. 1. 1. 1.]\n",
      "  [1. 1. 1. 1. 1. 1. 1. 1.]]\n",
      "\n",
      " [[1. 1. 1. 1. 1. 1. 1. 1.]\n",
      "  [1. 1. 1. 1. 1. 1. 1. 1.]\n",
      "  [1. 1. 1. 1. 1. 1. 1. 1.]]\n",
      "\n",
      " [[1. 1. 1. 1. 1. 1. 1. 1.]\n",
      "  [1. 1. 1. 1. 1. 1. 1. 1.]\n",
      "  [1. 1. 1. 1. 1. 1. 1. 1.]]\n",
      "\n",
      " [[1. 1. 1. 1. 1. 1. 1. 1.]\n",
      "  [1. 1. 1. 1. 1. 1. 1. 1.]\n",
      "  [1. 1. 1. 1. 1. 1. 1. 1.]]\n",
      "\n",
      " [[1. 1. 1. 1. 1. 1. 1. 1.]\n",
      "  [1. 1. 1. 1. 1. 1. 1. 1.]\n",
      "  [1. 1. 1. 1. 1. 1. 1. 1.]]\n",
      "\n",
      " [[1. 1. 1. 1. 1. 1. 1. 1.]\n",
      "  [1. 1. 1. 1. 1. 1. 1. 1.]\n",
      "  [1. 1. 1. 1. 1. 1. 1. 1.]]\n",
      "\n",
      " [[1. 1. 1. 1. 1. 1. 1. 1.]\n",
      "  [1. 1. 1. 1. 1. 1. 1. 1.]\n",
      "  [1. 1. 1. 1. 1. 1. 1. 1.]]\n",
      "\n",
      " [[1. 1. 1. 1. 1. 1. 1. 1.]\n",
      "  [1. 1. 1. 1. 1. 1. 1. 1.]\n",
      "  [1. 1. 1. 1. 1. 1. 1. 1.]]\n",
      "\n",
      " [[1. 1. 1. 1. 1. 1. 1. 1.]\n",
      "  [1. 1. 1. 1. 1. 1. 1. 1.]\n",
      "  [1. 1. 1. 1. 1. 1. 1. 1.]]\n",
      "\n",
      " [[1. 1. 1. 1. 1. 1. 1. 1.]\n",
      "  [1. 1. 1. 1. 1. 1. 1. 1.]\n",
      "  [1. 1. 1. 1. 1. 1. 1. 1.]]\n",
      "\n",
      " [[1. 1. 1. 1. 1. 1. 1. 1.]\n",
      "  [1. 1. 1. 1. 1. 1. 1. 1.]\n",
      "  [1. 1. 1. 1. 1. 1. 1. 1.]]\n",
      "\n",
      " [[1. 1. 1. 1. 1. 1. 1. 1.]\n",
      "  [1. 1. 1. 1. 1. 1. 1. 1.]\n",
      "  [1. 1. 1. 1. 1. 1. 1. 1.]]\n",
      "\n",
      " [[1. 1. 1. 1. 1. 1. 1. 1.]\n",
      "  [1. 1. 1. 1. 1. 1. 1. 1.]\n",
      "  [1. 1. 1. 1. 1. 1. 1. 1.]]\n",
      "\n",
      " [[1. 1. 1. 1. 1. 1. 1. 1.]\n",
      "  [1. 1. 1. 1. 1. 1. 1. 1.]\n",
      "  [1. 1. 1. 1. 1. 1. 1. 1.]]\n",
      "\n",
      " [[1. 1. 1. 1. 1. 1. 1. 1.]\n",
      "  [1. 1. 1. 1. 1. 1. 1. 1.]\n",
      "  [1. 1. 1. 1. 1. 1. 1. 1.]]\n",
      "\n",
      " [[1. 1. 1. 1. 1. 1. 1. 1.]\n",
      "  [1. 1. 1. 1. 1. 1. 1. 1.]\n",
      "  [1. 1. 1. 1. 1. 1. 1. 1.]]]\n"
     ]
    }
   ],
   "source": [
    "r= np.ones((33, 3,8)) # 33 is no. of arrays, 3 = rows, 8 = columns\n",
    "print(r)"
   ]
  },
  {
   "cell_type": "code",
   "execution_count": 1,
   "metadata": {},
   "outputs": [
    {
     "name": "stdout",
     "output_type": "stream",
     "text": [
      "Pandas Series from list:\n",
      "0    10\n",
      "1    20\n",
      "2    30\n",
      "3    40\n",
      "4    50\n",
      "dtype: int64\n",
      "\n",
      "Pandas Series from dictionary:\n",
      "a    1\n",
      "b    2\n",
      "c    3\n",
      "dtype: int64\n",
      "\n",
      "Element at index 2: 30\n",
      "Element with index 'b': 2\n",
      "\n",
      "Series after addition:\n",
      "0    15\n",
      "1    25\n",
      "2    35\n",
      "3    45\n",
      "4    55\n",
      "dtype: int64\n",
      "\n",
      "Series after multiplication:\n",
      "0     20\n",
      "1     40\n",
      "2     60\n",
      "3     80\n",
      "4    100\n",
      "dtype: int64\n"
     ]
    }
   ],
   "source": [
    "import pandas as pd\n",
    "# Pandas series -  one-dimensional labeled array that can hold data of any type (integers, floats, strings, etc.). It is similar to a column in a spreadsheet or a list but with an index attached to each value.\n",
    "# Creating a Pandas Series from a list\n",
    "data = [10, 20, 30, 40, 50]\n",
    "series = pd.Series(data)\n",
    "print(\"Pandas Series from list:\")\n",
    "print(series)\n",
    "\n",
    "# Creating a Pandas Series from a dictionary\n",
    "data_dict = {'a': 1, 'b': 2, 'c': 3}\n",
    "series_dict = pd.Series(data_dict)\n",
    "print(\"\\nPandas Series from dictionary:\")\n",
    "print(series_dict)\n",
    "\n",
    "# Accessing elements in a Pandas Series\n",
    "print(\"\\nElement at index 2:\", series[2])\n",
    "print(\"Element with index 'b':\", series_dict['b'])\n",
    "\n",
    "# Performing operations on a Pandas Series\n",
    "print(\"\\nSeries after addition:\")\n",
    "print(series + 5)\n",
    "\n",
    "print(\"\\nSeries after multiplication:\")\n",
    "print(series * 2)"
   ]
  },
  {
   "cell_type": "code",
   "execution_count": null,
   "metadata": {},
   "outputs": [],
   "source": [
    "#  Pandas series is like a single column of data. It has only one column and index.\n",
    "#  Pandas DataFrame is like a table with rows and columns. It has two dimensions and an index."
   ]
  },
  {
   "cell_type": "code",
   "execution_count": 6,
   "metadata": {},
   "outputs": [
    {
     "name": "stdout",
     "output_type": "stream",
     "text": [
      "   Colors  Degrees  Numbers\n",
      "1     red       12        1\n",
      "2    blue       23        2\n",
      "3   green       34        3\n",
      "4  yellow       45        4\n",
      "5   black       56        5\n"
     ]
    }
   ],
   "source": [
    "# Pandas DataFrame is a two-dimensional, labeled data structure similar to a table in a database, a spreadsheet, or a dictionary of Series objects\n",
    "colors = ['red', 'blue', 'green', 'yellow', 'black']\n",
    "degrees = [12, 23, 34, 45, 56]\n",
    "numbers = [1, 2, 3, 4, 5]\n",
    "\n",
    "\n",
    "# Create a Pandas DataFrame from the lists above\n",
    "new_df = pd.DataFrame({'Colors': colors, 'Degrees': degrees, 'Numbers': numbers},\n",
    "                      index=range(1, 6))\n",
    "print(new_df)\n"
   ]
  },
  {
   "cell_type": "code",
   "execution_count": null,
   "metadata": {},
   "outputs": [
    {
     "name": "stdout",
     "output_type": "stream",
     "text": [
      "\n",
      "Appended DataFrame:\n",
      "   Colors  Degrees  Numbers\n",
      "0     red       12        1\n",
      "1    blue       23        2\n",
      "2   green       34        3\n",
      "3  yellow       45        4\n",
      "4   black       56        5\n",
      "5  purple       67        6\n",
      "6  orange       78        7\n",
      "\n",
      "Final DataFrame:\n",
      "   Colors  Degrees  Numbers  PatientID   Age     Diagnosis\n",
      "0     red     12.0      1.0        NaN   NaN           NaN\n",
      "1    blue     23.0      2.0        NaN   NaN           NaN\n",
      "2   green     34.0      3.0        NaN   NaN           NaN\n",
      "3  yellow     45.0      4.0        NaN   NaN           NaN\n",
      "4   black     56.0      5.0        NaN   NaN           NaN\n",
      "5  purple     67.0      6.0        NaN   NaN           NaN\n",
      "6  orange     78.0      7.0        NaN   NaN           NaN\n",
      "7     NaN      NaN      NaN      101.0  45.0  Hypertension\n",
      "8     NaN      NaN      NaN      102.0  50.0      Diabetes\n"
     ]
    }
   ],
   "source": [
    "import pandas as pd\n",
    "\n",
    "# Create the first DataFrame\n",
    "new_df = pd.DataFrame({\n",
    "    'Colors': ['red', 'blue', 'green', 'yellow', 'black'],\n",
    "    'Degrees': [12, 23, 34, 45, 56],\n",
    "    'Numbers': [1, 2, 3, 4, 5]\n",
    "})\n",
    "\n",
    "# Create a new DataFrame to append\n",
    "new_data = {\n",
    "    'Colors': ['purple', 'orange'],\n",
    "    'Degrees': [67, 78],\n",
    "    'Numbers': [6, 7]\n",
    "}\n",
    "new_df2 = pd.DataFrame(new_data)\n",
    "\n",
    "# Append using pd.concat()\n",
    "appended_df = pd.concat([new_df, new_df2], ignore_index=True)\n",
    "print(\"\\nAppended DataFrame:\")\n",
    "print(appended_df)\n",
    "\n",
    "# Create a new DataFrame with medical data\n",
    "medical_data = {\n",
    "    'PatientID': [101, 102],\n",
    "    'Age': [45, 50],\n",
    "    'Diagnosis': ['Hypertension', 'Diabetes']\n",
    "}\n",
    "medical_df = pd.DataFrame(medical_data)\n",
    "\n",
    "# Append the medical DataFrame (columns don't match, so NaNs will appear)\n",
    "final_df = pd.concat([appended_df, medical_df], ignore_index=True)\n",
    "print(\"\\nFinal DataFrame:\")\n",
    "print(final_df)\n"
   ]
  },
  {
   "cell_type": "code",
   "execution_count": 10,
   "metadata": {},
   "outputs": [
    {
     "name": "stdout",
     "output_type": "stream",
     "text": [
      "Collecting lxml\n",
      "  Downloading lxml-5.3.0-cp38-cp38-manylinux_2_17_x86_64.manylinux2014_x86_64.whl (5.0 MB)\n",
      "\u001b[K     |████████████████████████████████| 5.0 MB 1.0 MB/s eta 0:00:01\n",
      "\u001b[?25hInstalling collected packages: lxml\n",
      "Successfully installed lxml-5.3.0\n"
     ]
    }
   ],
   "source": [
    "! pip install lxml"
   ]
  },
  {
   "cell_type": "code",
   "execution_count": 50,
   "metadata": {},
   "outputs": [
    {
     "name": "stdout",
     "output_type": "stream",
     "text": [
      "Number of tables: 4\n"
     ]
    },
    {
     "data": {
      "text/html": [
       "<div>\n",
       "<style scoped>\n",
       "    .dataframe tbody tr th:only-of-type {\n",
       "        vertical-align: middle;\n",
       "    }\n",
       "\n",
       "    .dataframe tbody tr th {\n",
       "        vertical-align: top;\n",
       "    }\n",
       "\n",
       "    .dataframe thead th {\n",
       "        text-align: right;\n",
       "    }\n",
       "</style>\n",
       "<table border=\"1\" class=\"dataframe\">\n",
       "  <thead>\n",
       "    <tr style=\"text-align: right;\">\n",
       "      <th></th>\n",
       "      <th>Country / dependency</th>\n",
       "      <th>Total in km2 (mi2)</th>\n",
       "      <th>Land in km2 (mi2)</th>\n",
       "      <th>Water in km2 (mi2)</th>\n",
       "      <th>% water</th>\n",
       "      <th>Unnamed: 6</th>\n",
       "    </tr>\n",
       "  </thead>\n",
       "  <tbody>\n",
       "    <tr>\n",
       "      <th>NaN</th>\n",
       "      <td>Earth</td>\n",
       "      <td>510,072,000 (196,940,000)</td>\n",
       "      <td>148,940,000 (57,506,000)</td>\n",
       "      <td>361,132,000 (139,434,000)</td>\n",
       "      <td>70.8</td>\n",
       "      <td>NaN</td>\n",
       "    </tr>\n",
       "    <tr>\n",
       "      <th>1</th>\n",
       "      <td>Russia</td>\n",
       "      <td>17,098,246 (6,601,667)</td>\n",
       "      <td>16,376,870 (6,323,142)</td>\n",
       "      <td>721,380 (278,530)</td>\n",
       "      <td>4.2</td>\n",
       "      <td>[b]</td>\n",
       "    </tr>\n",
       "    <tr>\n",
       "      <th>NaN</th>\n",
       "      <td>Antarctica</td>\n",
       "      <td>14,200,000 (5,480,000)</td>\n",
       "      <td>14,200,000 (5,480,000)</td>\n",
       "      <td>0</td>\n",
       "      <td>0.0</td>\n",
       "      <td>[c]</td>\n",
       "    </tr>\n",
       "    <tr>\n",
       "      <th>2</th>\n",
       "      <td>Canada</td>\n",
       "      <td>9,984,670 (3,855,100)</td>\n",
       "      <td>9,093,507 (3,511,021)</td>\n",
       "      <td>891,163 (344,080)</td>\n",
       "      <td>8.9</td>\n",
       "      <td>[d]</td>\n",
       "    </tr>\n",
       "    <tr>\n",
       "      <th>3/4 [e]</th>\n",
       "      <td>China</td>\n",
       "      <td>9,596,960 (3,705,410)</td>\n",
       "      <td>9,326,410 (3,600,950)</td>\n",
       "      <td>270,550 (104,460)</td>\n",
       "      <td>2.8</td>\n",
       "      <td>[f]</td>\n",
       "    </tr>\n",
       "    <tr>\n",
       "      <th>...</th>\n",
       "      <td>...</td>\n",
       "      <td>...</td>\n",
       "      <td>...</td>\n",
       "      <td>...</td>\n",
       "      <td>...</td>\n",
       "      <td>...</td>\n",
       "    </tr>\n",
       "    <tr>\n",
       "      <th>NaN</th>\n",
       "      <td>Ashmore and Cartier Islands (Australia)</td>\n",
       "      <td>5.0 (1.9)</td>\n",
       "      <td>5.0 (1.9)</td>\n",
       "      <td>0</td>\n",
       "      <td>0.0</td>\n",
       "      <td>[q]</td>\n",
       "    </tr>\n",
       "    <tr>\n",
       "      <th>NaN</th>\n",
       "      <td>Coral Sea Islands (Australia)</td>\n",
       "      <td>3.0 (1.2)</td>\n",
       "      <td>3.0 (1.2)</td>\n",
       "      <td>0</td>\n",
       "      <td>0.0</td>\n",
       "      <td>[db]</td>\n",
       "    </tr>\n",
       "    <tr>\n",
       "      <th>NaN</th>\n",
       "      <td>Spratly Islands (disputed)</td>\n",
       "      <td>2.0 (0.77)</td>\n",
       "      <td>2.0 (0.77)</td>\n",
       "      <td>0</td>\n",
       "      <td>0.0</td>\n",
       "      <td>[55]</td>\n",
       "    </tr>\n",
       "    <tr>\n",
       "      <th>194</th>\n",
       "      <td>Monaco</td>\n",
       "      <td>2.0 (0.77)</td>\n",
       "      <td>2.0 (0.77)</td>\n",
       "      <td>0</td>\n",
       "      <td>0.0</td>\n",
       "      <td>[dc]</td>\n",
       "    </tr>\n",
       "    <tr>\n",
       "      <th>195</th>\n",
       "      <td>Vatican City</td>\n",
       "      <td>0.49 (0.19)</td>\n",
       "      <td>0.49 (0.19)</td>\n",
       "      <td>0</td>\n",
       "      <td>0.0</td>\n",
       "      <td>[dd]</td>\n",
       "    </tr>\n",
       "  </tbody>\n",
       "</table>\n",
       "<p>264 rows × 6 columns</p>\n",
       "</div>"
      ],
      "text/plain": [
       "                            Country / dependency         Total in km2 (mi2)  \\\n",
       "NaN                                        Earth  510,072,000 (196,940,000)   \n",
       "1                                         Russia     17,098,246 (6,601,667)   \n",
       "NaN                                   Antarctica     14,200,000 (5,480,000)   \n",
       "2                                         Canada      9,984,670 (3,855,100)   \n",
       "3/4 [e]                                    China      9,596,960 (3,705,410)   \n",
       "...                                          ...                        ...   \n",
       "NaN      Ashmore and Cartier Islands (Australia)                  5.0 (1.9)   \n",
       "NaN                Coral Sea Islands (Australia)                  3.0 (1.2)   \n",
       "NaN                   Spratly Islands (disputed)                 2.0 (0.77)   \n",
       "194                                       Monaco                 2.0 (0.77)   \n",
       "195                                 Vatican City                0.49 (0.19)   \n",
       "\n",
       "                Land in km2 (mi2)         Water in km2 (mi2)  % water  \\\n",
       "NaN      148,940,000 (57,506,000)  361,132,000 (139,434,000)     70.8   \n",
       "1          16,376,870 (6,323,142)          721,380 (278,530)      4.2   \n",
       "NaN        14,200,000 (5,480,000)                          0      0.0   \n",
       "2           9,093,507 (3,511,021)          891,163 (344,080)      8.9   \n",
       "3/4 [e]     9,326,410 (3,600,950)          270,550 (104,460)      2.8   \n",
       "...                           ...                        ...      ...   \n",
       "NaN                     5.0 (1.9)                          0      0.0   \n",
       "NaN                     3.0 (1.2)                          0      0.0   \n",
       "NaN                    2.0 (0.77)                          0      0.0   \n",
       "194                    2.0 (0.77)                          0      0.0   \n",
       "195                   0.49 (0.19)                          0      0.0   \n",
       "\n",
       "        Unnamed: 6  \n",
       "NaN            NaN  \n",
       "1              [b]  \n",
       "NaN            [c]  \n",
       "2              [d]  \n",
       "3/4 [e]        [f]  \n",
       "...            ...  \n",
       "NaN            [q]  \n",
       "NaN           [db]  \n",
       "NaN           [55]  \n",
       "194           [dc]  \n",
       "195           [dd]  \n",
       "\n",
       "[264 rows x 6 columns]"
      ]
     },
     "execution_count": 50,
     "metadata": {},
     "output_type": "execute_result"
    }
   ],
   "source": [
    "import pandas as pd\n",
    "new_url = \"https://en.wikipedia.org/wiki/List_of_countries_and_dependencies_by_area\"\n",
    "countries = pd.read_html(new_url, header=0, index_col=0)\n",
    "\n",
    "print(f\"Number of tables: {len(countries)}\")\n",
    "table_1 = countries[0]\n",
    "table_1.head()\n",
    "table_of_countries = countries[1]\n",
    "table_of_countries"
   ]
  },
  {
   "cell_type": "code",
   "execution_count": 51,
   "metadata": {},
   "outputs": [
    {
     "data": {
      "text/plain": [
       "(264, 6)"
      ]
     },
     "execution_count": 51,
     "metadata": {},
     "output_type": "execute_result"
    }
   ],
   "source": [
    "table_of_countries.shape"
   ]
  },
  {
   "cell_type": "code",
   "execution_count": 52,
   "metadata": {},
   "outputs": [
    {
     "data": {
      "text/plain": [
       "Index(['Country / dependency', 'Total in km2 (mi2)', 'Land in km2 (mi2)',\n",
       "       'Water in km2 (mi2)', '% water', 'Unnamed: 6'],\n",
       "      dtype='object')"
      ]
     },
     "execution_count": 52,
     "metadata": {},
     "output_type": "execute_result"
    }
   ],
   "source": [
    "table_of_countries.columns"
   ]
  },
  {
   "cell_type": "code",
   "execution_count": 121,
   "metadata": {},
   "outputs": [
    {
     "data": {
      "text/html": [
       "<div>\n",
       "<style scoped>\n",
       "    .dataframe tbody tr th:only-of-type {\n",
       "        vertical-align: middle;\n",
       "    }\n",
       "\n",
       "    .dataframe tbody tr th {\n",
       "        vertical-align: top;\n",
       "    }\n",
       "\n",
       "    .dataframe thead th {\n",
       "        text-align: right;\n",
       "    }\n",
       "</style>\n",
       "<table border=\"1\" class=\"dataframe\">\n",
       "  <thead>\n",
       "    <tr style=\"text-align: right;\">\n",
       "      <th></th>\n",
       "      <th>Water_percentage</th>\n",
       "    </tr>\n",
       "  </thead>\n",
       "  <tbody>\n",
       "    <tr>\n",
       "      <th>count</th>\n",
       "      <td>255.000000</td>\n",
       "    </tr>\n",
       "    <tr>\n",
       "      <th>mean</th>\n",
       "      <td>2.757255</td>\n",
       "    </tr>\n",
       "    <tr>\n",
       "      <th>std</th>\n",
       "      <td>7.022754</td>\n",
       "    </tr>\n",
       "    <tr>\n",
       "      <th>min</th>\n",
       "      <td>0.000000</td>\n",
       "    </tr>\n",
       "    <tr>\n",
       "      <th>25%</th>\n",
       "      <td>0.000000</td>\n",
       "    </tr>\n",
       "    <tr>\n",
       "      <th>50%</th>\n",
       "      <td>0.700000</td>\n",
       "    </tr>\n",
       "    <tr>\n",
       "      <th>75%</th>\n",
       "      <td>2.600000</td>\n",
       "    </tr>\n",
       "    <tr>\n",
       "      <th>max</th>\n",
       "      <td>70.800000</td>\n",
       "    </tr>\n",
       "  </tbody>\n",
       "</table>\n",
       "</div>"
      ],
      "text/plain": [
       "       Water_percentage\n",
       "count        255.000000\n",
       "mean           2.757255\n",
       "std            7.022754\n",
       "min            0.000000\n",
       "25%            0.000000\n",
       "50%            0.700000\n",
       "75%            2.600000\n",
       "max           70.800000"
      ]
     },
     "execution_count": 121,
     "metadata": {},
     "output_type": "execute_result"
    }
   ],
   "source": [
    "table_of_countries.describe()"
   ]
  },
  {
   "cell_type": "code",
   "execution_count": 122,
   "metadata": {},
   "outputs": [
    {
     "data": {
      "text/html": [
       "<div>\n",
       "<style scoped>\n",
       "    .dataframe tbody tr th:only-of-type {\n",
       "        vertical-align: middle;\n",
       "    }\n",
       "\n",
       "    .dataframe tbody tr th {\n",
       "        vertical-align: top;\n",
       "    }\n",
       "\n",
       "    .dataframe thead th {\n",
       "        text-align: right;\n",
       "    }\n",
       "</style>\n",
       "<table border=\"1\" class=\"dataframe\">\n",
       "  <thead>\n",
       "    <tr style=\"text-align: right;\">\n",
       "      <th></th>\n",
       "      <th>Country</th>\n",
       "      <th>Total_area</th>\n",
       "      <th>Land_area</th>\n",
       "      <th>Water_area</th>\n",
       "      <th>Water_percentage</th>\n",
       "      <th>Notes</th>\n",
       "    </tr>\n",
       "  </thead>\n",
       "  <tbody>\n",
       "    <tr>\n",
       "      <th>NaN</th>\n",
       "      <td>Earth</td>\n",
       "      <td>510,072,000 (196,940,000)</td>\n",
       "      <td>148,940,000 (57,506,000)</td>\n",
       "      <td>361,132,000 (139,434,000)</td>\n",
       "      <td>70.8</td>\n",
       "      <td>NaN</td>\n",
       "    </tr>\n",
       "    <tr>\n",
       "      <th>1</th>\n",
       "      <td>Russia</td>\n",
       "      <td>17,098,246 (6,601,667)</td>\n",
       "      <td>16,376,870 (6,323,142)</td>\n",
       "      <td>721,380 (278,530)</td>\n",
       "      <td>4.2</td>\n",
       "      <td>[b]</td>\n",
       "    </tr>\n",
       "    <tr>\n",
       "      <th>NaN</th>\n",
       "      <td>Antarctica</td>\n",
       "      <td>14,200,000 (5,480,000)</td>\n",
       "      <td>14,200,000 (5,480,000)</td>\n",
       "      <td>0</td>\n",
       "      <td>0.0</td>\n",
       "      <td>[c]</td>\n",
       "    </tr>\n",
       "    <tr>\n",
       "      <th>2</th>\n",
       "      <td>Canada</td>\n",
       "      <td>9,984,670 (3,855,100)</td>\n",
       "      <td>9,093,507 (3,511,021)</td>\n",
       "      <td>891,163 (344,080)</td>\n",
       "      <td>8.9</td>\n",
       "      <td>[d]</td>\n",
       "    </tr>\n",
       "    <tr>\n",
       "      <th>3/4 [e]</th>\n",
       "      <td>China</td>\n",
       "      <td>9,596,960 (3,705,410)</td>\n",
       "      <td>9,326,410 (3,600,950)</td>\n",
       "      <td>270,550 (104,460)</td>\n",
       "      <td>2.8</td>\n",
       "      <td>[f]</td>\n",
       "    </tr>\n",
       "    <tr>\n",
       "      <th>...</th>\n",
       "      <td>...</td>\n",
       "      <td>...</td>\n",
       "      <td>...</td>\n",
       "      <td>...</td>\n",
       "      <td>...</td>\n",
       "      <td>...</td>\n",
       "    </tr>\n",
       "    <tr>\n",
       "      <th>NaN</th>\n",
       "      <td>Ashmore and Cartier Islands (Australia)</td>\n",
       "      <td>5.0 (1.9)</td>\n",
       "      <td>5.0 (1.9)</td>\n",
       "      <td>0</td>\n",
       "      <td>0.0</td>\n",
       "      <td>[q]</td>\n",
       "    </tr>\n",
       "    <tr>\n",
       "      <th>NaN</th>\n",
       "      <td>Coral Sea Islands (Australia)</td>\n",
       "      <td>3.0 (1.2)</td>\n",
       "      <td>3.0 (1.2)</td>\n",
       "      <td>0</td>\n",
       "      <td>0.0</td>\n",
       "      <td>[db]</td>\n",
       "    </tr>\n",
       "    <tr>\n",
       "      <th>NaN</th>\n",
       "      <td>Spratly Islands (disputed)</td>\n",
       "      <td>2.0 (0.77)</td>\n",
       "      <td>2.0 (0.77)</td>\n",
       "      <td>0</td>\n",
       "      <td>0.0</td>\n",
       "      <td>[55]</td>\n",
       "    </tr>\n",
       "    <tr>\n",
       "      <th>194</th>\n",
       "      <td>Monaco</td>\n",
       "      <td>2.0 (0.77)</td>\n",
       "      <td>2.0 (0.77)</td>\n",
       "      <td>0</td>\n",
       "      <td>0.0</td>\n",
       "      <td>[dc]</td>\n",
       "    </tr>\n",
       "    <tr>\n",
       "      <th>195</th>\n",
       "      <td>Vatican City</td>\n",
       "      <td>0.49 (0.19)</td>\n",
       "      <td>0.49 (0.19)</td>\n",
       "      <td>0</td>\n",
       "      <td>0.0</td>\n",
       "      <td>[dd]</td>\n",
       "    </tr>\n",
       "  </tbody>\n",
       "</table>\n",
       "<p>264 rows × 6 columns</p>\n",
       "</div>"
      ],
      "text/plain": [
       "                                         Country                 Total_area  \\\n",
       "NaN                                        Earth  510,072,000 (196,940,000)   \n",
       "1                                         Russia     17,098,246 (6,601,667)   \n",
       "NaN                                   Antarctica     14,200,000 (5,480,000)   \n",
       "2                                         Canada      9,984,670 (3,855,100)   \n",
       "3/4 [e]                                    China      9,596,960 (3,705,410)   \n",
       "...                                          ...                        ...   \n",
       "NaN      Ashmore and Cartier Islands (Australia)                  5.0 (1.9)   \n",
       "NaN                Coral Sea Islands (Australia)                  3.0 (1.2)   \n",
       "NaN                   Spratly Islands (disputed)                 2.0 (0.77)   \n",
       "194                                       Monaco                 2.0 (0.77)   \n",
       "195                                 Vatican City                0.49 (0.19)   \n",
       "\n",
       "                        Land_area                 Water_area  \\\n",
       "NaN      148,940,000 (57,506,000)  361,132,000 (139,434,000)   \n",
       "1          16,376,870 (6,323,142)          721,380 (278,530)   \n",
       "NaN        14,200,000 (5,480,000)                          0   \n",
       "2           9,093,507 (3,511,021)          891,163 (344,080)   \n",
       "3/4 [e]     9,326,410 (3,600,950)          270,550 (104,460)   \n",
       "...                           ...                        ...   \n",
       "NaN                     5.0 (1.9)                          0   \n",
       "NaN                     3.0 (1.2)                          0   \n",
       "NaN                    2.0 (0.77)                          0   \n",
       "194                    2.0 (0.77)                          0   \n",
       "195                   0.49 (0.19)                          0   \n",
       "\n",
       "         Water_percentage Notes  \n",
       "NaN                  70.8   NaN  \n",
       "1                     4.2   [b]  \n",
       "NaN                   0.0   [c]  \n",
       "2                     8.9   [d]  \n",
       "3/4 [e]               2.8   [f]  \n",
       "...                   ...   ...  \n",
       "NaN                   0.0   [q]  \n",
       "NaN                   0.0  [db]  \n",
       "NaN                   0.0  [55]  \n",
       "194                   0.0  [dc]  \n",
       "195                   0.0  [dd]  \n",
       "\n",
       "[264 rows x 6 columns]"
      ]
     },
     "execution_count": 122,
     "metadata": {},
     "output_type": "execute_result"
    }
   ],
   "source": [
    "df = table_of_countries # Assign the DataFrame to a variable\n",
    "# Rename columns\n",
    "df.columns = ['Country', 'Total_area', 'Land_area', 'Water_area', 'Water_percentage', 'Notes']\n",
    "df"
   ]
  },
  {
   "cell_type": "code",
   "execution_count": 123,
   "metadata": {},
   "outputs": [],
   "source": [
    "# Drop irrevant columns\n",
    "df = df.drop(columns=['Notes'])"
   ]
  },
  {
   "cell_type": "code",
   "execution_count": 124,
   "metadata": {},
   "outputs": [
    {
     "data": {
      "text/html": [
       "<div>\n",
       "<style scoped>\n",
       "    .dataframe tbody tr th:only-of-type {\n",
       "        vertical-align: middle;\n",
       "    }\n",
       "\n",
       "    .dataframe tbody tr th {\n",
       "        vertical-align: top;\n",
       "    }\n",
       "\n",
       "    .dataframe thead th {\n",
       "        text-align: right;\n",
       "    }\n",
       "</style>\n",
       "<table border=\"1\" class=\"dataframe\">\n",
       "  <thead>\n",
       "    <tr style=\"text-align: right;\">\n",
       "      <th></th>\n",
       "      <th>Country</th>\n",
       "      <th>Total_area</th>\n",
       "      <th>Land_area</th>\n",
       "      <th>Water_area</th>\n",
       "      <th>Water_percentage</th>\n",
       "    </tr>\n",
       "  </thead>\n",
       "  <tbody>\n",
       "    <tr>\n",
       "      <th>NaN</th>\n",
       "      <td>Earth</td>\n",
       "      <td>510,072,000 (196,940,000)</td>\n",
       "      <td>148,940,000 (57,506,000)</td>\n",
       "      <td>361,132,000 (139,434,000)</td>\n",
       "      <td>70.8</td>\n",
       "    </tr>\n",
       "    <tr>\n",
       "      <th>1</th>\n",
       "      <td>Russia</td>\n",
       "      <td>17,098,246 (6,601,667)</td>\n",
       "      <td>16,376,870 (6,323,142)</td>\n",
       "      <td>721,380 (278,530)</td>\n",
       "      <td>4.2</td>\n",
       "    </tr>\n",
       "    <tr>\n",
       "      <th>NaN</th>\n",
       "      <td>Antarctica</td>\n",
       "      <td>14,200,000 (5,480,000)</td>\n",
       "      <td>14,200,000 (5,480,000)</td>\n",
       "      <td>0</td>\n",
       "      <td>0.0</td>\n",
       "    </tr>\n",
       "    <tr>\n",
       "      <th>2</th>\n",
       "      <td>Canada</td>\n",
       "      <td>9,984,670 (3,855,100)</td>\n",
       "      <td>9,093,507 (3,511,021)</td>\n",
       "      <td>891,163 (344,080)</td>\n",
       "      <td>8.9</td>\n",
       "    </tr>\n",
       "    <tr>\n",
       "      <th>3/4 [e]</th>\n",
       "      <td>China</td>\n",
       "      <td>9,596,960 (3,705,410)</td>\n",
       "      <td>9,326,410 (3,600,950)</td>\n",
       "      <td>270,550 (104,460)</td>\n",
       "      <td>2.8</td>\n",
       "    </tr>\n",
       "    <tr>\n",
       "      <th>...</th>\n",
       "      <td>...</td>\n",
       "      <td>...</td>\n",
       "      <td>...</td>\n",
       "      <td>...</td>\n",
       "      <td>...</td>\n",
       "    </tr>\n",
       "    <tr>\n",
       "      <th>NaN</th>\n",
       "      <td>Ashmore and Cartier Islands (Australia)</td>\n",
       "      <td>5.0 (1.9)</td>\n",
       "      <td>5.0 (1.9)</td>\n",
       "      <td>0</td>\n",
       "      <td>0.0</td>\n",
       "    </tr>\n",
       "    <tr>\n",
       "      <th>NaN</th>\n",
       "      <td>Coral Sea Islands (Australia)</td>\n",
       "      <td>3.0 (1.2)</td>\n",
       "      <td>3.0 (1.2)</td>\n",
       "      <td>0</td>\n",
       "      <td>0.0</td>\n",
       "    </tr>\n",
       "    <tr>\n",
       "      <th>NaN</th>\n",
       "      <td>Spratly Islands (disputed)</td>\n",
       "      <td>2.0 (0.77)</td>\n",
       "      <td>2.0 (0.77)</td>\n",
       "      <td>0</td>\n",
       "      <td>0.0</td>\n",
       "    </tr>\n",
       "    <tr>\n",
       "      <th>194</th>\n",
       "      <td>Monaco</td>\n",
       "      <td>2.0 (0.77)</td>\n",
       "      <td>2.0 (0.77)</td>\n",
       "      <td>0</td>\n",
       "      <td>0.0</td>\n",
       "    </tr>\n",
       "    <tr>\n",
       "      <th>195</th>\n",
       "      <td>Vatican City</td>\n",
       "      <td>0.49 (0.19)</td>\n",
       "      <td>0.49 (0.19)</td>\n",
       "      <td>0</td>\n",
       "      <td>0.0</td>\n",
       "    </tr>\n",
       "  </tbody>\n",
       "</table>\n",
       "<p>264 rows × 5 columns</p>\n",
       "</div>"
      ],
      "text/plain": [
       "                                         Country                 Total_area  \\\n",
       "NaN                                        Earth  510,072,000 (196,940,000)   \n",
       "1                                         Russia     17,098,246 (6,601,667)   \n",
       "NaN                                   Antarctica     14,200,000 (5,480,000)   \n",
       "2                                         Canada      9,984,670 (3,855,100)   \n",
       "3/4 [e]                                    China      9,596,960 (3,705,410)   \n",
       "...                                          ...                        ...   \n",
       "NaN      Ashmore and Cartier Islands (Australia)                  5.0 (1.9)   \n",
       "NaN                Coral Sea Islands (Australia)                  3.0 (1.2)   \n",
       "NaN                   Spratly Islands (disputed)                 2.0 (0.77)   \n",
       "194                                       Monaco                 2.0 (0.77)   \n",
       "195                                 Vatican City                0.49 (0.19)   \n",
       "\n",
       "                        Land_area                 Water_area  Water_percentage  \n",
       "NaN      148,940,000 (57,506,000)  361,132,000 (139,434,000)              70.8  \n",
       "1          16,376,870 (6,323,142)          721,380 (278,530)               4.2  \n",
       "NaN        14,200,000 (5,480,000)                          0               0.0  \n",
       "2           9,093,507 (3,511,021)          891,163 (344,080)               8.9  \n",
       "3/4 [e]     9,326,410 (3,600,950)          270,550 (104,460)               2.8  \n",
       "...                           ...                        ...               ...  \n",
       "NaN                     5.0 (1.9)                          0               0.0  \n",
       "NaN                     3.0 (1.2)                          0               0.0  \n",
       "NaN                    2.0 (0.77)                          0               0.0  \n",
       "194                    2.0 (0.77)                          0               0.0  \n",
       "195                   0.49 (0.19)                          0               0.0  \n",
       "\n",
       "[264 rows x 5 columns]"
      ]
     },
     "execution_count": 124,
     "metadata": {},
     "output_type": "execute_result"
    }
   ],
   "source": [
    "df"
   ]
  },
  {
   "cell_type": "code",
   "execution_count": 125,
   "metadata": {},
   "outputs": [
    {
     "data": {
      "text/html": [
       "<div>\n",
       "<style scoped>\n",
       "    .dataframe tbody tr th:only-of-type {\n",
       "        vertical-align: middle;\n",
       "    }\n",
       "\n",
       "    .dataframe tbody tr th {\n",
       "        vertical-align: top;\n",
       "    }\n",
       "\n",
       "    .dataframe thead th {\n",
       "        text-align: right;\n",
       "    }\n",
       "</style>\n",
       "<table border=\"1\" class=\"dataframe\">\n",
       "  <thead>\n",
       "    <tr style=\"text-align: right;\">\n",
       "      <th></th>\n",
       "      <th>Country</th>\n",
       "      <th>Total_area</th>\n",
       "      <th>Land_area</th>\n",
       "      <th>Water_area</th>\n",
       "      <th>Water_percentage</th>\n",
       "    </tr>\n",
       "  </thead>\n",
       "  <tbody>\n",
       "    <tr>\n",
       "      <th>1</th>\n",
       "      <td>Russia</td>\n",
       "      <td>17,098,246 (6,601,667)</td>\n",
       "      <td>16,376,870 (6,323,142)</td>\n",
       "      <td>721,380 (278,530)</td>\n",
       "      <td>4.2</td>\n",
       "    </tr>\n",
       "    <tr>\n",
       "      <th>2</th>\n",
       "      <td>Canada</td>\n",
       "      <td>9,984,670 (3,855,100)</td>\n",
       "      <td>9,093,507 (3,511,021)</td>\n",
       "      <td>891,163 (344,080)</td>\n",
       "      <td>8.9</td>\n",
       "    </tr>\n",
       "    <tr>\n",
       "      <th>3/4 [e]</th>\n",
       "      <td>China</td>\n",
       "      <td>9,596,960 (3,705,410)</td>\n",
       "      <td>9,326,410 (3,600,950)</td>\n",
       "      <td>270,550 (104,460)</td>\n",
       "      <td>2.8</td>\n",
       "    </tr>\n",
       "    <tr>\n",
       "      <th>3/4 [e]</th>\n",
       "      <td>United States</td>\n",
       "      <td>9,525,067 (3,677,647)</td>\n",
       "      <td>9,147,593 (3,531,904)</td>\n",
       "      <td>377,424 (145,724)</td>\n",
       "      <td>4.0</td>\n",
       "    </tr>\n",
       "    <tr>\n",
       "      <th>5</th>\n",
       "      <td>Brazil</td>\n",
       "      <td>8,510,346 (3,285,862)</td>\n",
       "      <td>8,460,415 (3,266,583)</td>\n",
       "      <td>55,352 (21,372)</td>\n",
       "      <td>0.6</td>\n",
       "    </tr>\n",
       "    <tr>\n",
       "      <th>...</th>\n",
       "      <td>...</td>\n",
       "      <td>...</td>\n",
       "      <td>...</td>\n",
       "      <td>...</td>\n",
       "      <td>...</td>\n",
       "    </tr>\n",
       "    <tr>\n",
       "      <th>NaN</th>\n",
       "      <td>Ashmore and Cartier Islands (Australia)</td>\n",
       "      <td>5.0 (1.9)</td>\n",
       "      <td>5.0 (1.9)</td>\n",
       "      <td>0</td>\n",
       "      <td>0.0</td>\n",
       "    </tr>\n",
       "    <tr>\n",
       "      <th>NaN</th>\n",
       "      <td>Coral Sea Islands (Australia)</td>\n",
       "      <td>3.0 (1.2)</td>\n",
       "      <td>3.0 (1.2)</td>\n",
       "      <td>0</td>\n",
       "      <td>0.0</td>\n",
       "    </tr>\n",
       "    <tr>\n",
       "      <th>NaN</th>\n",
       "      <td>Spratly Islands (disputed)</td>\n",
       "      <td>2.0 (0.77)</td>\n",
       "      <td>2.0 (0.77)</td>\n",
       "      <td>0</td>\n",
       "      <td>0.0</td>\n",
       "    </tr>\n",
       "    <tr>\n",
       "      <th>194</th>\n",
       "      <td>Monaco</td>\n",
       "      <td>2.0 (0.77)</td>\n",
       "      <td>2.0 (0.77)</td>\n",
       "      <td>0</td>\n",
       "      <td>0.0</td>\n",
       "    </tr>\n",
       "    <tr>\n",
       "      <th>195</th>\n",
       "      <td>Vatican City</td>\n",
       "      <td>0.49 (0.19)</td>\n",
       "      <td>0.49 (0.19)</td>\n",
       "      <td>0</td>\n",
       "      <td>0.0</td>\n",
       "    </tr>\n",
       "  </tbody>\n",
       "</table>\n",
       "<p>262 rows × 5 columns</p>\n",
       "</div>"
      ],
      "text/plain": [
       "                                         Country              Total_area  \\\n",
       "1                                         Russia  17,098,246 (6,601,667)   \n",
       "2                                         Canada   9,984,670 (3,855,100)   \n",
       "3/4 [e]                                    China   9,596,960 (3,705,410)   \n",
       "3/4 [e]                            United States   9,525,067 (3,677,647)   \n",
       "5                                         Brazil   8,510,346 (3,285,862)   \n",
       "...                                          ...                     ...   \n",
       "NaN      Ashmore and Cartier Islands (Australia)               5.0 (1.9)   \n",
       "NaN                Coral Sea Islands (Australia)               3.0 (1.2)   \n",
       "NaN                   Spratly Islands (disputed)              2.0 (0.77)   \n",
       "194                                       Monaco              2.0 (0.77)   \n",
       "195                                 Vatican City             0.49 (0.19)   \n",
       "\n",
       "                      Land_area         Water_area  Water_percentage  \n",
       "1        16,376,870 (6,323,142)  721,380 (278,530)               4.2  \n",
       "2         9,093,507 (3,511,021)  891,163 (344,080)               8.9  \n",
       "3/4 [e]   9,326,410 (3,600,950)  270,550 (104,460)               2.8  \n",
       "3/4 [e]   9,147,593 (3,531,904)  377,424 (145,724)               4.0  \n",
       "5         8,460,415 (3,266,583)    55,352 (21,372)               0.6  \n",
       "...                         ...                ...               ...  \n",
       "NaN                   5.0 (1.9)                  0               0.0  \n",
       "NaN                   3.0 (1.2)                  0               0.0  \n",
       "NaN                  2.0 (0.77)                  0               0.0  \n",
       "194                  2.0 (0.77)                  0               0.0  \n",
       "195                 0.49 (0.19)                  0               0.0  \n",
       "\n",
       "[262 rows x 5 columns]"
      ]
     },
     "execution_count": 125,
     "metadata": {},
     "output_type": "execute_result"
    }
   ],
   "source": [
    "#  Drop non-country rows \n",
    "df = df[df['Country'] != 'Earth']\n",
    "df = df[df['Country'] != 'Antarctica']\n",
    "df"
   ]
  },
  {
   "cell_type": "code",
   "execution_count": 126,
   "metadata": {},
   "outputs": [
    {
     "data": {
      "text/html": [
       "<div>\n",
       "<style scoped>\n",
       "    .dataframe tbody tr th:only-of-type {\n",
       "        vertical-align: middle;\n",
       "    }\n",
       "\n",
       "    .dataframe tbody tr th {\n",
       "        vertical-align: top;\n",
       "    }\n",
       "\n",
       "    .dataframe thead th {\n",
       "        text-align: right;\n",
       "    }\n",
       "</style>\n",
       "<table border=\"1\" class=\"dataframe\">\n",
       "  <thead>\n",
       "    <tr style=\"text-align: right;\">\n",
       "      <th></th>\n",
       "      <th>Country</th>\n",
       "      <th>Total_area</th>\n",
       "      <th>Land_area</th>\n",
       "      <th>Water_area</th>\n",
       "      <th>Water_percentage</th>\n",
       "    </tr>\n",
       "  </thead>\n",
       "  <tbody>\n",
       "    <tr>\n",
       "      <th>1</th>\n",
       "      <td>Russia</td>\n",
       "      <td>17,098,246 (6,601,667)</td>\n",
       "      <td>16,376,870 (6,323,142)</td>\n",
       "      <td>721,380 (278,530)</td>\n",
       "      <td>4.2</td>\n",
       "    </tr>\n",
       "    <tr>\n",
       "      <th>2</th>\n",
       "      <td>Canada</td>\n",
       "      <td>9,984,670 (3,855,100)</td>\n",
       "      <td>9,093,507 (3,511,021)</td>\n",
       "      <td>891,163 (344,080)</td>\n",
       "      <td>8.9</td>\n",
       "    </tr>\n",
       "    <tr>\n",
       "      <th>3/4 [e]</th>\n",
       "      <td>China</td>\n",
       "      <td>9,596,960 (3,705,410)</td>\n",
       "      <td>9,326,410 (3,600,950)</td>\n",
       "      <td>270,550 (104,460)</td>\n",
       "      <td>2.8</td>\n",
       "    </tr>\n",
       "    <tr>\n",
       "      <th>3/4 [e]</th>\n",
       "      <td>United States</td>\n",
       "      <td>9,525,067 (3,677,647)</td>\n",
       "      <td>9,147,593 (3,531,904)</td>\n",
       "      <td>377,424 (145,724)</td>\n",
       "      <td>4.0</td>\n",
       "    </tr>\n",
       "    <tr>\n",
       "      <th>5</th>\n",
       "      <td>Brazil</td>\n",
       "      <td>8,510,346 (3,285,862)</td>\n",
       "      <td>8,460,415 (3,266,583)</td>\n",
       "      <td>55,352 (21,372)</td>\n",
       "      <td>0.6</td>\n",
       "    </tr>\n",
       "    <tr>\n",
       "      <th>...</th>\n",
       "      <td>...</td>\n",
       "      <td>...</td>\n",
       "      <td>...</td>\n",
       "      <td>...</td>\n",
       "      <td>...</td>\n",
       "    </tr>\n",
       "    <tr>\n",
       "      <th>NaN</th>\n",
       "      <td>Ashmore and Cartier Islands (Australia)</td>\n",
       "      <td>5.0 (1.9)</td>\n",
       "      <td>5.0 (1.9)</td>\n",
       "      <td>0</td>\n",
       "      <td>0.0</td>\n",
       "    </tr>\n",
       "    <tr>\n",
       "      <th>NaN</th>\n",
       "      <td>Coral Sea Islands (Australia)</td>\n",
       "      <td>3.0 (1.2)</td>\n",
       "      <td>3.0 (1.2)</td>\n",
       "      <td>0</td>\n",
       "      <td>0.0</td>\n",
       "    </tr>\n",
       "    <tr>\n",
       "      <th>NaN</th>\n",
       "      <td>Spratly Islands (disputed)</td>\n",
       "      <td>2.0 (0.77)</td>\n",
       "      <td>2.0 (0.77)</td>\n",
       "      <td>0</td>\n",
       "      <td>0.0</td>\n",
       "    </tr>\n",
       "    <tr>\n",
       "      <th>194</th>\n",
       "      <td>Monaco</td>\n",
       "      <td>2.0 (0.77)</td>\n",
       "      <td>2.0 (0.77)</td>\n",
       "      <td>0</td>\n",
       "      <td>0.0</td>\n",
       "    </tr>\n",
       "    <tr>\n",
       "      <th>195</th>\n",
       "      <td>Vatican City</td>\n",
       "      <td>0.49 (0.19)</td>\n",
       "      <td>0.49 (0.19)</td>\n",
       "      <td>0</td>\n",
       "      <td>0.0</td>\n",
       "    </tr>\n",
       "  </tbody>\n",
       "</table>\n",
       "<p>262 rows × 5 columns</p>\n",
       "</div>"
      ],
      "text/plain": [
       "                                         Country              Total_area  \\\n",
       "1                                         Russia  17,098,246 (6,601,667)   \n",
       "2                                         Canada   9,984,670 (3,855,100)   \n",
       "3/4 [e]                                    China   9,596,960 (3,705,410)   \n",
       "3/4 [e]                            United States   9,525,067 (3,677,647)   \n",
       "5                                         Brazil   8,510,346 (3,285,862)   \n",
       "...                                          ...                     ...   \n",
       "NaN      Ashmore and Cartier Islands (Australia)               5.0 (1.9)   \n",
       "NaN                Coral Sea Islands (Australia)               3.0 (1.2)   \n",
       "NaN                   Spratly Islands (disputed)              2.0 (0.77)   \n",
       "194                                       Monaco              2.0 (0.77)   \n",
       "195                                 Vatican City             0.49 (0.19)   \n",
       "\n",
       "                      Land_area         Water_area  Water_percentage  \n",
       "1        16,376,870 (6,323,142)  721,380 (278,530)               4.2  \n",
       "2         9,093,507 (3,511,021)  891,163 (344,080)               8.9  \n",
       "3/4 [e]   9,326,410 (3,600,950)  270,550 (104,460)               2.8  \n",
       "3/4 [e]   9,147,593 (3,531,904)  377,424 (145,724)               4.0  \n",
       "5         8,460,415 (3,266,583)    55,352 (21,372)               0.6  \n",
       "...                         ...                ...               ...  \n",
       "NaN                   5.0 (1.9)                  0               0.0  \n",
       "NaN                   3.0 (1.2)                  0               0.0  \n",
       "NaN                  2.0 (0.77)                  0               0.0  \n",
       "194                  2.0 (0.77)                  0               0.0  \n",
       "195                 0.49 (0.19)                  0               0.0  \n",
       "\n",
       "[262 rows x 5 columns]"
      ]
     },
     "execution_count": 126,
     "metadata": {},
     "output_type": "execute_result"
    }
   ],
   "source": [
    "df"
   ]
  },
  {
   "cell_type": "code",
   "execution_count": 130,
   "metadata": {},
   "outputs": [
    {
     "data": {
      "text/html": [
       "<div>\n",
       "<style scoped>\n",
       "    .dataframe tbody tr th:only-of-type {\n",
       "        vertical-align: middle;\n",
       "    }\n",
       "\n",
       "    .dataframe tbody tr th {\n",
       "        vertical-align: top;\n",
       "    }\n",
       "\n",
       "    .dataframe thead th {\n",
       "        text-align: right;\n",
       "    }\n",
       "</style>\n",
       "<table border=\"1\" class=\"dataframe\">\n",
       "  <thead>\n",
       "    <tr style=\"text-align: right;\">\n",
       "      <th></th>\n",
       "      <th>Country</th>\n",
       "      <th>Total_area</th>\n",
       "      <th>Land_area</th>\n",
       "      <th>Water_area</th>\n",
       "      <th>Water_percentage</th>\n",
       "    </tr>\n",
       "  </thead>\n",
       "  <tbody>\n",
       "    <tr>\n",
       "      <th>1</th>\n",
       "      <td>Russia</td>\n",
       "      <td>17098246.00</td>\n",
       "      <td>16376870.00</td>\n",
       "      <td>721380.0</td>\n",
       "      <td>4.2</td>\n",
       "    </tr>\n",
       "    <tr>\n",
       "      <th>2</th>\n",
       "      <td>Canada</td>\n",
       "      <td>9984670.00</td>\n",
       "      <td>9093507.00</td>\n",
       "      <td>891163.0</td>\n",
       "      <td>8.9</td>\n",
       "    </tr>\n",
       "    <tr>\n",
       "      <th>3/4 [e]</th>\n",
       "      <td>China</td>\n",
       "      <td>9596960.00</td>\n",
       "      <td>9326410.00</td>\n",
       "      <td>270550.0</td>\n",
       "      <td>2.8</td>\n",
       "    </tr>\n",
       "    <tr>\n",
       "      <th>3/4 [e]</th>\n",
       "      <td>United States</td>\n",
       "      <td>9525067.00</td>\n",
       "      <td>9147593.00</td>\n",
       "      <td>377424.0</td>\n",
       "      <td>4.0</td>\n",
       "    </tr>\n",
       "    <tr>\n",
       "      <th>5</th>\n",
       "      <td>Brazil</td>\n",
       "      <td>8510346.00</td>\n",
       "      <td>8460415.00</td>\n",
       "      <td>55352.0</td>\n",
       "      <td>0.6</td>\n",
       "    </tr>\n",
       "    <tr>\n",
       "      <th>...</th>\n",
       "      <td>...</td>\n",
       "      <td>...</td>\n",
       "      <td>...</td>\n",
       "      <td>...</td>\n",
       "      <td>...</td>\n",
       "    </tr>\n",
       "    <tr>\n",
       "      <th>NaN</th>\n",
       "      <td>Ashmore and Cartier Islands (Australia)</td>\n",
       "      <td>5.00</td>\n",
       "      <td>5.00</td>\n",
       "      <td>0.0</td>\n",
       "      <td>0.0</td>\n",
       "    </tr>\n",
       "    <tr>\n",
       "      <th>NaN</th>\n",
       "      <td>Coral Sea Islands (Australia)</td>\n",
       "      <td>3.00</td>\n",
       "      <td>3.00</td>\n",
       "      <td>0.0</td>\n",
       "      <td>0.0</td>\n",
       "    </tr>\n",
       "    <tr>\n",
       "      <th>NaN</th>\n",
       "      <td>Spratly Islands (disputed)</td>\n",
       "      <td>2.00</td>\n",
       "      <td>2.00</td>\n",
       "      <td>0.0</td>\n",
       "      <td>0.0</td>\n",
       "    </tr>\n",
       "    <tr>\n",
       "      <th>194</th>\n",
       "      <td>Monaco</td>\n",
       "      <td>2.00</td>\n",
       "      <td>2.00</td>\n",
       "      <td>0.0</td>\n",
       "      <td>0.0</td>\n",
       "    </tr>\n",
       "    <tr>\n",
       "      <th>195</th>\n",
       "      <td>Vatican City</td>\n",
       "      <td>0.49</td>\n",
       "      <td>0.49</td>\n",
       "      <td>0.0</td>\n",
       "      <td>0.0</td>\n",
       "    </tr>\n",
       "  </tbody>\n",
       "</table>\n",
       "<p>262 rows × 5 columns</p>\n",
       "</div>"
      ],
      "text/plain": [
       "                                         Country   Total_area    Land_area  \\\n",
       "1                                         Russia  17098246.00  16376870.00   \n",
       "2                                         Canada   9984670.00   9093507.00   \n",
       "3/4 [e]                                    China   9596960.00   9326410.00   \n",
       "3/4 [e]                            United States   9525067.00   9147593.00   \n",
       "5                                         Brazil   8510346.00   8460415.00   \n",
       "...                                          ...          ...          ...   \n",
       "NaN      Ashmore and Cartier Islands (Australia)         5.00         5.00   \n",
       "NaN                Coral Sea Islands (Australia)         3.00         3.00   \n",
       "NaN                   Spratly Islands (disputed)         2.00         2.00   \n",
       "194                                       Monaco         2.00         2.00   \n",
       "195                                 Vatican City         0.49         0.49   \n",
       "\n",
       "         Water_area  Water_percentage  \n",
       "1          721380.0               4.2  \n",
       "2          891163.0               8.9  \n",
       "3/4 [e]    270550.0               2.8  \n",
       "3/4 [e]    377424.0               4.0  \n",
       "5           55352.0               0.6  \n",
       "...             ...               ...  \n",
       "NaN             0.0               0.0  \n",
       "NaN             0.0               0.0  \n",
       "NaN             0.0               0.0  \n",
       "194             0.0               0.0  \n",
       "195             0.0               0.0  \n",
       "\n",
       "[262 rows x 5 columns]"
      ]
     },
     "execution_count": 130,
     "metadata": {},
     "output_type": "execute_result"
    }
   ],
   "source": [
    "# Convert the columns to string \n",
    "df['Total_area'] = df['Total_area'].astype(str)\n",
    "df['Land_area'] = df['Land_area'].astype(str)\n",
    "df['Water_area'] = df['Water_area'].astype(str)\n",
    "\n",
    "# Remove the values in parentheses for each relevant column using regex\n",
    "df['Total_area'] = df['Total_area'].str.replace(r'\\(.*\\)', '', regex=True).str.replace(',', '')\n",
    "df['Land_area'] = df['Land_area'].str.replace(r'\\(.*\\)', '', regex=True).str.replace(',', '')\n",
    "df['Water_area'] = df['Water_area'].str.replace(r'\\(.*\\)', '', regex=True).str.replace(',', '')\n",
    "\n",
    "# Convert columns back to numeric\n",
    "df['Total_area'] = pd.to_numeric(df['Total_area'], errors='coerce')\n",
    "df['Land_area'] = pd.to_numeric(df['Land_area'], errors='coerce')\n",
    "df['Water_area'] = pd.to_numeric(df['Water_area'], errors='coerce')\n",
    "\n",
    "df"
   ]
  },
  {
   "cell_type": "code",
   "execution_count": 132,
   "metadata": {},
   "outputs": [
    {
     "data": {
      "text/html": [
       "<div>\n",
       "<style scoped>\n",
       "    .dataframe tbody tr th:only-of-type {\n",
       "        vertical-align: middle;\n",
       "    }\n",
       "\n",
       "    .dataframe tbody tr th {\n",
       "        vertical-align: top;\n",
       "    }\n",
       "\n",
       "    .dataframe thead th {\n",
       "        text-align: right;\n",
       "    }\n",
       "</style>\n",
       "<table border=\"1\" class=\"dataframe\">\n",
       "  <thead>\n",
       "    <tr style=\"text-align: right;\">\n",
       "      <th></th>\n",
       "      <th>Country</th>\n",
       "      <th>Total_area</th>\n",
       "      <th>Land_area</th>\n",
       "      <th>Water_area</th>\n",
       "      <th>Water_percentage</th>\n",
       "    </tr>\n",
       "  </thead>\n",
       "  <tbody>\n",
       "    <tr>\n",
       "      <th>0</th>\n",
       "      <td>Russia</td>\n",
       "      <td>17098246.00</td>\n",
       "      <td>16376870.00</td>\n",
       "      <td>721380.0</td>\n",
       "      <td>4.2</td>\n",
       "    </tr>\n",
       "    <tr>\n",
       "      <th>1</th>\n",
       "      <td>Canada</td>\n",
       "      <td>9984670.00</td>\n",
       "      <td>9093507.00</td>\n",
       "      <td>891163.0</td>\n",
       "      <td>8.9</td>\n",
       "    </tr>\n",
       "    <tr>\n",
       "      <th>2</th>\n",
       "      <td>China</td>\n",
       "      <td>9596960.00</td>\n",
       "      <td>9326410.00</td>\n",
       "      <td>270550.0</td>\n",
       "      <td>2.8</td>\n",
       "    </tr>\n",
       "    <tr>\n",
       "      <th>3</th>\n",
       "      <td>United States</td>\n",
       "      <td>9525067.00</td>\n",
       "      <td>9147593.00</td>\n",
       "      <td>377424.0</td>\n",
       "      <td>4.0</td>\n",
       "    </tr>\n",
       "    <tr>\n",
       "      <th>4</th>\n",
       "      <td>Brazil</td>\n",
       "      <td>8510346.00</td>\n",
       "      <td>8460415.00</td>\n",
       "      <td>55352.0</td>\n",
       "      <td>0.6</td>\n",
       "    </tr>\n",
       "    <tr>\n",
       "      <th>...</th>\n",
       "      <td>...</td>\n",
       "      <td>...</td>\n",
       "      <td>...</td>\n",
       "      <td>...</td>\n",
       "      <td>...</td>\n",
       "    </tr>\n",
       "    <tr>\n",
       "      <th>257</th>\n",
       "      <td>Ashmore and Cartier Islands (Australia)</td>\n",
       "      <td>5.00</td>\n",
       "      <td>5.00</td>\n",
       "      <td>0.0</td>\n",
       "      <td>0.0</td>\n",
       "    </tr>\n",
       "    <tr>\n",
       "      <th>258</th>\n",
       "      <td>Coral Sea Islands (Australia)</td>\n",
       "      <td>3.00</td>\n",
       "      <td>3.00</td>\n",
       "      <td>0.0</td>\n",
       "      <td>0.0</td>\n",
       "    </tr>\n",
       "    <tr>\n",
       "      <th>259</th>\n",
       "      <td>Spratly Islands (disputed)</td>\n",
       "      <td>2.00</td>\n",
       "      <td>2.00</td>\n",
       "      <td>0.0</td>\n",
       "      <td>0.0</td>\n",
       "    </tr>\n",
       "    <tr>\n",
       "      <th>260</th>\n",
       "      <td>Monaco</td>\n",
       "      <td>2.00</td>\n",
       "      <td>2.00</td>\n",
       "      <td>0.0</td>\n",
       "      <td>0.0</td>\n",
       "    </tr>\n",
       "    <tr>\n",
       "      <th>261</th>\n",
       "      <td>Vatican City</td>\n",
       "      <td>0.49</td>\n",
       "      <td>0.49</td>\n",
       "      <td>0.0</td>\n",
       "      <td>0.0</td>\n",
       "    </tr>\n",
       "  </tbody>\n",
       "</table>\n",
       "<p>262 rows × 5 columns</p>\n",
       "</div>"
      ],
      "text/plain": [
       "                                     Country   Total_area    Land_area  \\\n",
       "0                                     Russia  17098246.00  16376870.00   \n",
       "1                                     Canada   9984670.00   9093507.00   \n",
       "2                                      China   9596960.00   9326410.00   \n",
       "3                              United States   9525067.00   9147593.00   \n",
       "4                                     Brazil   8510346.00   8460415.00   \n",
       "..                                       ...          ...          ...   \n",
       "257  Ashmore and Cartier Islands (Australia)         5.00         5.00   \n",
       "258            Coral Sea Islands (Australia)         3.00         3.00   \n",
       "259               Spratly Islands (disputed)         2.00         2.00   \n",
       "260                                   Monaco         2.00         2.00   \n",
       "261                             Vatican City         0.49         0.49   \n",
       "\n",
       "     Water_area  Water_percentage  \n",
       "0      721380.0               4.2  \n",
       "1      891163.0               8.9  \n",
       "2      270550.0               2.8  \n",
       "3      377424.0               4.0  \n",
       "4       55352.0               0.6  \n",
       "..          ...               ...  \n",
       "257         0.0               0.0  \n",
       "258         0.0               0.0  \n",
       "259         0.0               0.0  \n",
       "260         0.0               0.0  \n",
       "261         0.0               0.0  \n",
       "\n",
       "[262 rows x 5 columns]"
      ]
     },
     "execution_count": 132,
     "metadata": {},
     "output_type": "execute_result"
    }
   ],
   "source": [
    "# reset the index\n",
    "df.reset_index(drop=True, inplace=True)\n",
    "df"
   ]
  },
  {
   "cell_type": "code",
   "execution_count": 133,
   "metadata": {},
   "outputs": [
    {
     "name": "stdout",
     "output_type": "stream",
     "text": [
      "<class 'pandas.core.frame.DataFrame'>\n",
      "RangeIndex: 262 entries, 0 to 261\n",
      "Data columns (total 5 columns):\n",
      " #   Column            Non-Null Count  Dtype  \n",
      "---  ------            --------------  -----  \n",
      " 0   Country           262 non-null    object \n",
      " 1   Total_area        262 non-null    float64\n",
      " 2   Land_area         253 non-null    float64\n",
      " 3   Water_area        253 non-null    float64\n",
      " 4   Water_percentage  253 non-null    float64\n",
      "dtypes: float64(4), object(1)\n",
      "memory usage: 10.4+ KB\n"
     ]
    }
   ],
   "source": [
    "df.info()"
   ]
  },
  {
   "cell_type": "code",
   "execution_count": 134,
   "metadata": {},
   "outputs": [
    {
     "data": {
      "text/html": [
       "<div>\n",
       "<style scoped>\n",
       "    .dataframe tbody tr th:only-of-type {\n",
       "        vertical-align: middle;\n",
       "    }\n",
       "\n",
       "    .dataframe tbody tr th {\n",
       "        vertical-align: top;\n",
       "    }\n",
       "\n",
       "    .dataframe thead th {\n",
       "        text-align: right;\n",
       "    }\n",
       "</style>\n",
       "<table border=\"1\" class=\"dataframe\">\n",
       "  <thead>\n",
       "    <tr style=\"text-align: right;\">\n",
       "      <th></th>\n",
       "      <th>Total_area</th>\n",
       "      <th>Land_area</th>\n",
       "      <th>Water_area</th>\n",
       "      <th>Water_percentage</th>\n",
       "    </tr>\n",
       "  </thead>\n",
       "  <tbody>\n",
       "    <tr>\n",
       "      <th>count</th>\n",
       "      <td>2.620000e+02</td>\n",
       "      <td>2.530000e+02</td>\n",
       "      <td>253.000000</td>\n",
       "      <td>253.000000</td>\n",
       "    </tr>\n",
       "    <tr>\n",
       "      <th>mean</th>\n",
       "      <td>5.323232e+05</td>\n",
       "      <td>5.311727e+05</td>\n",
       "      <td>16753.924901</td>\n",
       "      <td>2.499209</td>\n",
       "    </tr>\n",
       "    <tr>\n",
       "      <th>std</th>\n",
       "      <td>1.677945e+06</td>\n",
       "      <td>1.639126e+06</td>\n",
       "      <td>80708.866464</td>\n",
       "      <td>5.589382</td>\n",
       "    </tr>\n",
       "    <tr>\n",
       "      <th>min</th>\n",
       "      <td>4.900000e-01</td>\n",
       "      <td>4.900000e-01</td>\n",
       "      <td>0.000000</td>\n",
       "      <td>0.000000</td>\n",
       "    </tr>\n",
       "    <tr>\n",
       "      <th>25%</th>\n",
       "      <td>7.862500e+02</td>\n",
       "      <td>8.110000e+02</td>\n",
       "      <td>0.000000</td>\n",
       "      <td>0.000000</td>\n",
       "    </tr>\n",
       "    <tr>\n",
       "      <th>50%</th>\n",
       "      <td>5.390150e+04</td>\n",
       "      <td>6.186000e+04</td>\n",
       "      <td>440.000000</td>\n",
       "      <td>0.700000</td>\n",
       "    </tr>\n",
       "    <tr>\n",
       "      <th>75%</th>\n",
       "      <td>3.536858e+05</td>\n",
       "      <td>3.644850e+05</td>\n",
       "      <td>6080.000000</td>\n",
       "      <td>2.600000</td>\n",
       "    </tr>\n",
       "    <tr>\n",
       "      <th>max</th>\n",
       "      <td>1.709825e+07</td>\n",
       "      <td>1.637687e+07</td>\n",
       "      <td>891163.000000</td>\n",
       "      <td>66.700000</td>\n",
       "    </tr>\n",
       "  </tbody>\n",
       "</table>\n",
       "</div>"
      ],
      "text/plain": [
       "         Total_area     Land_area     Water_area  Water_percentage\n",
       "count  2.620000e+02  2.530000e+02     253.000000        253.000000\n",
       "mean   5.323232e+05  5.311727e+05   16753.924901          2.499209\n",
       "std    1.677945e+06  1.639126e+06   80708.866464          5.589382\n",
       "min    4.900000e-01  4.900000e-01       0.000000          0.000000\n",
       "25%    7.862500e+02  8.110000e+02       0.000000          0.000000\n",
       "50%    5.390150e+04  6.186000e+04     440.000000          0.700000\n",
       "75%    3.536858e+05  3.644850e+05    6080.000000          2.600000\n",
       "max    1.709825e+07  1.637687e+07  891163.000000         66.700000"
      ]
     },
     "execution_count": 134,
     "metadata": {},
     "output_type": "execute_result"
    }
   ],
   "source": [
    "df.describe()"
   ]
  },
  {
   "cell_type": "code",
   "execution_count": null,
   "metadata": {},
   "outputs": [],
   "source": []
  }
 ],
 "metadata": {
  "kernelspec": {
   "display_name": "env",
   "language": "python",
   "name": "python3"
  },
  "language_info": {
   "codemirror_mode": {
    "name": "ipython",
    "version": 3
   },
   "file_extension": ".py",
   "mimetype": "text/x-python",
   "name": "python",
   "nbconvert_exporter": "python",
   "pygments_lexer": "ipython3",
   "version": "3.8.10"
  }
 },
 "nbformat": 4,
 "nbformat_minor": 2
}
