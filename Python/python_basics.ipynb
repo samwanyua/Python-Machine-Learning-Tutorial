{
 "cells": [
  {
   "cell_type": "code",
   "execution_count": 18,
   "metadata": {},
   "outputs": [
    {
     "name": "stdout",
     "output_type": "stream",
     "text": [
      "Hello  Sam, we are happy to have you!\n",
      "Hello  Obed, we are happy to have you!\n",
      "Hello  Steve, we are happy to have you!\n",
      "Hello  Kiarie, we are happy to have you!\n",
      "Hello  Martha, we are happy to have you!\n"
     ]
    }
   ],
   "source": [
    "names = [\"Sam\", \"Obed\", \"Steve\", \"Kiarie\", \"Martha\"]\n",
    "\n",
    "for name in names:\n",
    "    print(f\"Hello  {name}, we are happy to have you!\")"
   ]
  },
  {
   "cell_type": "markdown",
   "metadata": {},
   "source": [
    "### Lists"
   ]
  },
  {
   "cell_type": "code",
   "execution_count": 19,
   "metadata": {},
   "outputs": [
    {
     "name": "stdout",
     "output_type": "stream",
     "text": [
      "[]\n",
      "['Sam']\n"
     ]
    }
   ],
   "source": [
    "new_list = []\n",
    "names = list()\n",
    "print(names)\n",
    "names.append(\"Sam\")\n",
    "print(names)"
   ]
  },
  {
   "cell_type": "code",
   "execution_count": 20,
   "metadata": {},
   "outputs": [
    {
     "name": "stdout",
     "output_type": "stream",
     "text": [
      "False\n",
      "True\n",
      "['red', 'blue', 'purple', 'green', 'yellow']\n"
     ]
    }
   ],
   "source": [
    "colors = [\"red\", \"blue\", \"green\", \"yellow\"]\n",
    "print(\"White\" in colors)\n",
    "print(\"red\" in colors)\n",
    "colors.insert(2, \"purple\")\n",
    "print(colors)"
   ]
  },
  {
   "cell_type": "code",
   "execution_count": 21,
   "metadata": {},
   "outputs": [
    {
     "name": "stdout",
     "output_type": "stream",
     "text": [
      "red\n",
      "blue\n",
      "purple\n",
      "green\n",
      "yellow\n"
     ]
    }
   ],
   "source": [
    "for color in colors:\n",
    "    print(color)"
   ]
  },
  {
   "cell_type": "code",
   "execution_count": 22,
   "metadata": {},
   "outputs": [
    {
     "name": "stdout",
     "output_type": "stream",
     "text": [
      "['red']\n"
     ]
    }
   ],
   "source": [
    "print(colors[:1])"
   ]
  },
  {
   "cell_type": "code",
   "execution_count": 23,
   "metadata": {},
   "outputs": [
    {
     "name": "stdout",
     "output_type": "stream",
     "text": [
      "('apple', 'banana', 'cherry')\n",
      "banana\n"
     ]
    }
   ],
   "source": [
    "# Creating a tuple\n",
    "fruits = (\"apple\", \"banana\", \"cherry\")\n",
    "print(fruits)  # Output: ('apple', 'banana', 'cherry')\n",
    "\n",
    "# Accessing an item by index\n",
    "print(fruits[1])  # Output: 'banana'\n",
    "\n",
    "# Tuples are immutable, so you cannot add or remove items\n",
    "# fruits.append(\"orange\")  # This will raise an AttributeError"
   ]
  },
  {
   "cell_type": "code",
   "execution_count": 24,
   "metadata": {},
   "outputs": [
    {
     "name": "stdout",
     "output_type": "stream",
     "text": [
      "['apple', 'banana', 'cherry']\n",
      "['apple', 'banana', 'cherry', 'orange']\n",
      "banana\n",
      "['apple', 'cherry', 'orange']\n"
     ]
    }
   ],
   "source": [
    "# Creating a list\n",
    "fruits = [\"apple\", \"banana\", \"cherry\"]\n",
    "print(fruits)  # Output: ['apple', 'banana', 'cherry']\n",
    "\n",
    "# Adding an item to the list\n",
    "fruits.append(\"orange\")\n",
    "print(fruits)  # Output: ['apple', 'banana', 'cherry', 'orange']\n",
    "\n",
    "# Accessing an item by index\n",
    "print(fruits[1])  # Output: 'banana'\n",
    "\n",
    "# Removing an item from the list\n",
    "fruits.remove(\"banana\")\n",
    "print(fruits)  # Output: ['apple', 'cherry', 'orange']\n",
    "\n"
   ]
  },
  {
   "cell_type": "code",
   "execution_count": 25,
   "metadata": {},
   "outputs": [
    {
     "name": "stdout",
     "output_type": "stream",
     "text": [
      "{'apple': 'red', 'banana': 'yellow', 'cherry': 'red'}\n",
      "yellow\n",
      "{'apple': 'red', 'banana': 'yellow', 'cherry': 'red', 'orange': 'orange'}\n",
      "{'apple': 'red', 'cherry': 'red', 'orange': 'orange'}\n"
     ]
    }
   ],
   "source": [
    "# Creating a dictionary\n",
    "fruit_colors = {\"apple\": \"red\", \"banana\": \"yellow\", \"cherry\": \"red\"}\n",
    "print(fruit_colors)  # Output: {'apple': 'red', 'banana': 'yellow', 'cherry': 'red'}\n",
    "\n",
    "# Accessing a value by key\n",
    "print(fruit_colors[\"banana\"])  # Output: 'yellow'\n",
    "\n",
    "# Adding a new key-value pair\n",
    "fruit_colors[\"orange\"] = \"orange\"\n",
    "print(fruit_colors)  # Output: {'apple': 'red', 'banana': 'yellow', 'cherry': 'red', 'orange': 'orange'}\n",
    "\n",
    "# Removing a key-value pair\n",
    "del fruit_colors[\"banana\"]\n",
    "print(fruit_colors)  # Output: {'apple': 'red', 'cherry': 'red', 'orange': 'orange'}"
   ]
  },
  {
   "cell_type": "code",
   "execution_count": 26,
   "metadata": {},
   "outputs": [
    {
     "name": "stdout",
     "output_type": "stream",
     "text": [
      "Hello Alice\n",
      "Alice is 30 years old.\n",
      "Hello\n",
      "HELLO ALICE\n",
      "hello alice\n",
      "True\n",
      "Hello Bob\n"
     ]
    }
   ],
   "source": [
    "# String concatenation\n",
    "greeting = \"Hello\"\n",
    "name = \"Alice\"\n",
    "message = greeting + \" \" + name\n",
    "print(message)  # Output: Hello Alice\n",
    "\n",
    "# String formatting using f-strings\n",
    "age = 30\n",
    "formatted_message = f\"{name} is {age} years old.\"\n",
    "print(formatted_message)  # Output: Alice is 30 years old.\n",
    "\n",
    "# String slicing\n",
    "substring = message[0:5]\n",
    "print(substring)  # Output: Hello\n",
    "\n",
    "# String methods\n",
    "upper_case_message = message.upper()\n",
    "print(upper_case_message)  # Output: HELLO ALICE\n",
    "\n",
    "lower_case_message = message.lower()\n",
    "print(lower_case_message)  # Output: hello alice\n",
    "\n",
    "# Checking if a substring is in a string\n",
    "contains_hello = \"Hello\" in message\n",
    "print(contains_hello)  # Output: True\n",
    "\n",
    "# Replacing a substring\n",
    "new_message = message.replace(\"Alice\", \"Bob\")\n",
    "print(new_message)  # Output: Hello Bob"
   ]
  },
  {
   "cell_type": "markdown",
   "metadata": {},
   "source": [
    "### Sets, Tuples and Lists\n",
    "* Lists -> ordered mutable collection of items. Ex. marks = [1,2,2,3,4]\n",
    "* Tuple -> ordered immutable collection of items. Ex. marks =(1,2,2,3,4)\n",
    "* Sets -> Unordered mutable collection of unique items. Ex. marks = {1,2,3,4}"
   ]
  },
  {
   "cell_type": "code",
   "execution_count": 27,
   "metadata": {},
   "outputs": [
    {
     "name": "stdout",
     "output_type": "stream",
     "text": [
      "List: [1, 2, 3, 4, 5]\n",
      "List after append: [1, 2, 3, 4, 5, 6]\n",
      "Tuple: (1, 2, 3, 4, 5)\n",
      "Set: {1, 2, 3, 4, 5}\n",
      "Set after add: {1, 2, 3, 4, 5, 6}\n",
      "Set after adding duplicate: {1, 2, 3, 4, 5, 6}\n"
     ]
    }
   ],
   "source": [
    "# List example\n",
    "my_list = [1, 2, 3, 4, 5]\n",
    "print(\"List:\", my_list)  # Output: List: [1, 2, 3, 4, 5]\n",
    "\n",
    "# Lists are mutable, meaning you can change their content\n",
    "my_list.append(6)\n",
    "print(\"List after append:\", my_list)  # Output: List after append: [1, 2, 3, 4, 5, 6]\n",
    "\n",
    "# Tuple example\n",
    "my_tuple = (1, 2, 3, 4, 5)\n",
    "print(\"Tuple:\", my_tuple)  # Output: Tuple: (1, 2, 3, 4, 5)\n",
    "\n",
    "# Tuples are immutable, meaning you cannot change their content\n",
    "# my_tuple.append(6)  # This will raise an AttributeError\n",
    "\n",
    "# Set example\n",
    "my_set = {1, 2, 3, 4, 5}\n",
    "print(\"Set:\", my_set)  # Output: Set: {1, 2, 3, 4, 5}\n",
    "\n",
    "# Sets are mutable, but they do not allow duplicate elements\n",
    "my_set.add(6)\n",
    "print(\"Set after add:\", my_set)  # Output: Set after add: {1, 2, 3, 4, 5, 6}\n",
    "my_set.add(3)  # Adding a duplicate element has no effect\n",
    "print(\"Set after adding duplicate:\", my_set)  # Output: Set after adding duplicate: {1, 2, 3, 4, 5, 6}"
   ]
  },
  {
   "cell_type": "markdown",
   "metadata": {},
   "source": [
    "### Anonymous lamda"
   ]
  },
  {
   "cell_type": "code",
   "execution_count": 28,
   "metadata": {
    "vscode": {
     "languageId": "shellscript"
    }
   },
   "outputs": [
    {
     "name": "stdout",
     "output_type": "stream",
     "text": [
      "20\n",
      "9\n",
      "3\n"
     ]
    }
   ],
   "source": [
    "# function without a name\n",
    "multiply = lambda x, y: x * y\n",
    "print(multiply(4, 5))\n",
    "\n",
    "sum = lambda x, y: x + y\n",
    "print(sum(4, 5))\n",
    "\n",
    "remainder = lambda x, y: x % y\n",
    "print(remainder(23, 5))"
   ]
  },
  {
   "cell_type": "code",
   "execution_count": 29,
   "metadata": {},
   "outputs": [
    {
     "name": "stdout",
     "output_type": "stream",
     "text": [
      "2034568483\n"
     ]
    }
   ],
   "source": [
    "def test(n):\n",
    "    return lambda x: x * n\n",
    "\n",
    "test_1 = test(18797)\n",
    "print(test_1(108239))"
   ]
  },
  {
   "cell_type": "code",
   "execution_count": 30,
   "metadata": {},
   "outputs": [
    {
     "name": "stdout",
     "output_type": "stream",
     "text": [
      "There is no 'X' in the message\n"
     ]
    }
   ],
   "source": [
    "message = \"DeepSeek is taking on OpenAI\"\n",
    "for item in message:\n",
    "    if item == \"X\":\n",
    "        break\n",
    "\n",
    "else: \n",
    "    print(\"There is no 'X' in the message\")"
   ]
  },
  {
   "cell_type": "code",
   "execution_count": 31,
   "metadata": {},
   "outputs": [
    {
     "name": "stdout",
     "output_type": "stream",
     "text": [
      "Access granted\n"
     ]
    }
   ],
   "source": [
    "# password checking program\n",
    "attempts = 0\n",
    "while attempts < 3:\n",
    "    password = input(\"Enter your password: \")\n",
    "    if password == \"password\":\n",
    "        print(\"Access granted\")\n",
    "        break\n",
    "    else:\n",
    "        print(\"Access denied\")\n",
    "        attempts += 1\n",
    "if attempts == 3:\n",
    "    print(\"Access denied. You have exceeded the maximum number of attempts\")"
   ]
  },
  {
   "cell_type": "code",
   "execution_count": 32,
   "metadata": {},
   "outputs": [
    {
     "name": "stdout",
     "output_type": "stream",
     "text": [
      "red Toyota Corolla\n"
     ]
    }
   ],
   "source": [
    "class Car:\n",
    "    color = \"red\"\n",
    "    make = \"Toyota\"\n",
    "    model = \"Corolla\"\n",
    "model_1 = Car()\n",
    "print(model_1.color, model_1.make, model_1.model)\n",
    "\n"
   ]
  },
  {
   "cell_type": "markdown",
   "metadata": {},
   "source": [
    "#### Class"
   ]
  },
  {
   "cell_type": "code",
   "execution_count": 33,
   "metadata": {},
   "outputs": [
    {
     "name": "stdout",
     "output_type": "stream",
     "text": [
      "Color: red\n",
      "Make: Toyota\n",
      "Model: Corolla\n",
      "Color: blue\n",
      "Make: Toyota\n",
      "Model: Corolla\n",
      "Beep beep\n",
      "Color: red\n",
      "Make: Toyota\n",
      "Model: Corolla\n"
     ]
    }
   ],
   "source": [
    "class Vehicle:\n",
    "    def __init__(self, color, make, model):\n",
    "        self.color = color\n",
    "        self.make = make\n",
    "        self.model = model\n",
    "\n",
    "    def display_vehicle(self):\n",
    "        print(f\"Color: {self.color}\")\n",
    "        print(f\"Make: {self.make}\")\n",
    "        print(f\"Model: {self.model}\")\n",
    "    \n",
    "    def change_color(self, new_color):\n",
    "        self.color = new_color\n",
    "    \n",
    "    @staticmethod\n",
    "    def honk():\n",
    "        print(\"Beep beep\")\n",
    "    \n",
    "    @classmethod\n",
    "    def get_vehicle(cls):\n",
    "        return cls(\"red\", \"Toyota\", \"Corolla\")\n",
    "\n",
    "vehicle_1 = Vehicle(\"red\", \"Toyota\", \"Corolla\")\n",
    "vehicle_1.display_vehicle()\n",
    "\n",
    "vehicle_1.change_color(\"blue\")\n",
    "vehicle_1.display_vehicle()\n",
    "\n",
    "Vehicle.honk() # Output: Beep beep\n",
    "vehicle_2 = Vehicle.get_vehicle()\n",
    "\n",
    "vehicle_2.display_vehicle()\n",
    "vehicle_2.get_vehicle()\n",
    "\n",
    "del vehicle_2 \n"
   ]
  },
  {
   "cell_type": "markdown",
   "metadata": {},
   "source": [
    "### Inheritance"
   ]
  },
  {
   "cell_type": "code",
   "execution_count": 34,
   "metadata": {},
   "outputs": [
    {
     "name": "stdout",
     "output_type": "stream",
     "text": [
      "Mammal\n",
      "Roar\n",
      "Mammal\n",
      "Bark\n",
      "Bulldog\n"
     ]
    }
   ],
   "source": [
    "class Animal:\n",
    "    def __init__(self, species, sound):\n",
    "        self.species = species\n",
    "        self.sound = sound\n",
    "\n",
    "    def make_sound(self):\n",
    "        print(self.sound)\n",
    "\n",
    "    def display_species(self):\n",
    "        print(self.species)\n",
    "\n",
    "mammmal = Animal(\"Mammal\", \"Roar\")\n",
    "mammmal.display_species()\n",
    "mammmal.make_sound()\n",
    "\n",
    "class Dog(Animal):\n",
    "    def __init__(self, species, sound, breed):\n",
    "        super().__init__(species, sound) # Call the __init__ method of the parent class\n",
    "        self.breed = breed\n",
    "\n",
    "    def display_breed(self):\n",
    "        print(self.breed)\n",
    "\n",
    "dog = Dog(\"Mammal\", \"Bark\", \"Bulldog\")\n",
    "dog.display_species()\n",
    "dog.make_sound()\n",
    "dog.display_breed()"
   ]
  },
  {
   "cell_type": "markdown",
   "metadata": {},
   "source": [
    "### List comprehension"
   ]
  },
  {
   "cell_type": "code",
   "execution_count": 35,
   "metadata": {},
   "outputs": [
    {
     "name": "stdout",
     "output_type": "stream",
     "text": [
      "0\n",
      "2\n",
      "4\n",
      "6\n",
      "8\n"
     ]
    },
    {
     "data": {
      "text/plain": [
       "[None, None, None, None, None]"
      ]
     },
     "execution_count": 35,
     "metadata": {},
     "output_type": "execute_result"
    }
   ],
   "source": [
    "# [expression for item in iterable if condition]\n",
    "[print(i) for i in range(10) if i % 2 == 0]"
   ]
  },
  {
   "cell_type": "code",
   "execution_count": 36,
   "metadata": {},
   "outputs": [
    {
     "name": "stdout",
     "output_type": "stream",
     "text": [
      "Set comprehension: {0, 1, 64, 4, 36, 9, 16, 49, 81, 25}\n",
      "Tuple comprehension: (0, 1, 4, 9, 16, 25, 36, 49, 64, 81)\n"
     ]
    }
   ],
   "source": [
    "# Set comprehension\n",
    "set_comprehension = {x**2 for x in range(10)}\n",
    "print(\"Set comprehension:\", set_comprehension)\n",
    "\n",
    "# Tuple comprehension (Note: There is no direct tuple comprehension, but you can use a generator expression and convert it to a tuple)\n",
    "tuple_comprehension = tuple(x**2 for x in range(10))\n",
    "print(\"Tuple comprehension:\", tuple_comprehension)"
   ]
  },
  {
   "cell_type": "code",
   "execution_count": 37,
   "metadata": {},
   "outputs": [
    {
     "name": "stdout",
     "output_type": "stream",
     "text": [
      "Dictionary comprehension: {0: 0, 1: 1, 2: 4, 3: 9, 4: 16, 5: 25, 6: 36, 7: 49, 8: 64, 9: 81}\n"
     ]
    }
   ],
   "source": [
    "# Dictionary comprehension\n",
    "squares = {x: x**2 for x in range(10)}\n",
    "print(\"Dictionary comprehension:\", squares)"
   ]
  },
  {
   "cell_type": "markdown",
   "metadata": {},
   "source": [
    "### Built-in modules in Python"
   ]
  },
  {
   "cell_type": "code",
   "execution_count": 40,
   "metadata": {},
   "outputs": [
    {
     "name": "stdout",
     "output_type": "stream",
     "text": [
      "('_abc', '_ast', '_bisect', '_blake2', '_codecs', '_collections', '_csv', '_datetime', '_elementtree', '_functools', '_heapq', '_imp', '_io', '_locale', '_md5', '_operator', '_pickle', '_posixsubprocess', '_random', '_sha1', '_sha256', '_sha3', '_sha512', '_signal', '_socket', '_sre', '_stat', '_statistics', '_string', '_struct', '_symtable', '_thread', '_tracemalloc', '_warnings', '_weakref', 'array', 'atexit', 'binascii', 'builtins', 'cmath', 'errno', 'faulthandler', 'fcntl', 'gc', 'grp', 'itertools', 'marshal', 'math', 'posix', 'pwd', 'pyexpat', 'select', 'spwd', 'sys', 'syslog', 'time', 'unicodedata', 'xxsubtype', 'zlib')\n"
     ]
    }
   ],
   "source": [
    "import sys\n",
    "\n",
    "# List all built-in modules\n",
    "builtin_modules = sys.builtin_module_names\n",
    "print(builtin_modules)"
   ]
  },
  {
   "cell_type": "code",
   "execution_count": 48,
   "metadata": {},
   "outputs": [
    {
     "name": "stdout",
     "output_type": "stream",
     "text": [
      "Random integer between 1 and 9000000: 3214215\n",
      "Random float between 0 and 1: 0.9800258271176722\n",
      "Random color: blue\n",
      "Shuffled colors: ['blue', 'black', 'yellow', 'red', 'grey', 'green']\n",
      "Done!\n"
     ]
    }
   ],
   "source": [
    "import random #Altanatively: from random import randint, random, choice, shuffle\n",
    "\n",
    "# Generate a random integer between 1 and 10\n",
    "random_int = random.randint(4, 9000000)\n",
    "print(f\"Random integer between 1 and 9000000: {random_int}\")\n",
    "\n",
    "# Generate a random float between 0 and 1\n",
    "random_float = random.random()\n",
    "print(f\"Random float between 0 and 1: {random_float}\")\n",
    "\n",
    "# Choose a random element from a list\n",
    "colors = [\"red\", \"blue\", \"green\", \"yellow\",\"grey\", \"black\" ]\n",
    "random_color = random.choice(colors)\n",
    "print(f\"Random color: {random_color}\")\n",
    "\n",
    "# Shuffle a list\n",
    "random.shuffle(colors)\n",
    "print(f\"Shuffled colors: {colors}\")\n",
    "\n",
    "print(\"Done!\")"
   ]
  },
  {
   "cell_type": "markdown",
   "metadata": {},
   "source": [
    "#### Math module"
   ]
  },
  {
   "cell_type": "code",
   "execution_count": 57,
   "metadata": {},
   "outputs": [
    {
     "name": "stdout",
     "output_type": "stream",
     "text": [
      "2.718281828459045\n",
      "3.141592653589793\n",
      "180.0\n",
      "3.141592653589793\n"
     ]
    },
    {
     "data": {
      "text/plain": [
       "0.9986376117378207"
      ]
     },
     "execution_count": 57,
     "metadata": {},
     "output_type": "execute_result"
    }
   ],
   "source": [
    "import math\n",
    "\n",
    "math.sqrt(16) # Output: 4.0\n",
    "print(math.e)\n",
    "print(math.pi)\n",
    "print(math.degrees(math.pi))\n",
    "print(math.radians(180))\n",
    "math.sin(83.2)"
   ]
  },
  {
   "cell_type": "code",
   "execution_count": null,
   "metadata": {},
   "outputs": [],
   "source": []
  },
  {
   "cell_type": "code",
   "execution_count": null,
   "metadata": {},
   "outputs": [],
   "source": []
  }
 ],
 "metadata": {
  "kernelspec": {
   "display_name": "env",
   "language": "python",
   "name": "python3"
  },
  "language_info": {
   "codemirror_mode": {
    "name": "ipython",
    "version": 3
   },
   "file_extension": ".py",
   "mimetype": "text/x-python",
   "name": "python",
   "nbconvert_exporter": "python",
   "pygments_lexer": "ipython3",
   "version": "3.8.10"
  }
 },
 "nbformat": 4,
 "nbformat_minor": 2
}
