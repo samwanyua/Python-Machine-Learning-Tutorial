{
 "cells": [
  {
   "cell_type": "markdown",
   "metadata": {},
   "source": [
    "#### Clustering\n",
    "- Clustering is an unsupervised learning\n",
    "- It is the process of partitioning a set of data into meaningful sub-classes\n",
    "\n",
    "Application of clustering:\n",
    "- Pattern recognition\n",
    "- Spatial data analysis\n",
    "- Image processing\n",
    "- Document classification\n",
    "- Identification of similar entities\n",
    "- Finding pattern of weather behaviour\n",
    "\n",
    "Why we need clustering:\n",
    "- Clustering can be used for the following tasks:\n",
    "    - Analyzing research data\n",
    "    - Creating a summary\n",
    "    - Detecting noise\n",
    "    - Duplication detection\n",
    "\n",
    "Algorithms of clustering:\n",
    "- K-means clustering\n",
    "- Hierachical clustering\n",
    "- Density-based clustering\n",
    "\n",
    "\n",
    "#### K-means clustering\n",
    "- It is an iterative algorithm that divides the unlabeled dataset into k different clusters in such a way that each dataset belongs only one group that has similar properties.\n",
    "\n",
    "Algorithm of K-clustering:\n",
    "- Partition clustering\n",
    "- Without any cluster-internal structure, K-means  divides data into non-overlapping groups.\n",
    "- Within the cluster, examples are very similar.\n",
    "- Various clusters have quite different examples\n",
    "\n",
    "Determination of K in K-means clustering\n",
    "- The perfomance of the K-means clustering algorithm depends upon highly efficient clusters that it forms. But choosing the optimal number of clusters is a big task.\n",
    "\n",
    "**Elbow method** \n",
    "- It uses the concept of WCSS value (Within Cluster Sum of Squares) which defines the total variations within a cluster\n",
    "\n",
    "Steps of Elbow method:\n",
    "- It executes the K-means clustering on a given dataset for different K values (ranges from 1 - 10)\n",
    "- For each value of K, calculates the WCSS value\n",
    "- Plots a curve between calculated WCSS values and the number of clusters K\n",
    "- The sharp point of bend or a point of the plot that looks like an arm, then that point is considered as the best value of K.\n",
    "\n",
    "\n",
    "\n",
    "\n",
    "\n",
    "\n",
    "\n",
    "\n",
    "\n",
    "\n",
    "\n",
    "\n"
   ]
  },
  {
   "cell_type": "code",
   "execution_count": null,
   "metadata": {},
   "outputs": [
    {
     "data": {
      "text/plain": [
       "array([[-2.81031454,  3.7962009 ,  6.74904045],\n",
       "       [-1.93606152,  3.9581727 , -9.67625225],\n",
       "       [ 2.28793664, -4.29972926, -6.39700659],\n",
       "       ...,\n",
       "       [ 3.34258449, -4.3693951 , -8.26538745],\n",
       "       [ 1.05381772, -7.03249685, -5.32037082],\n",
       "       [-1.74086639,  2.79685687, -8.73532727]])"
      ]
     },
     "execution_count": 2,
     "metadata": {},
     "output_type": "execute_result"
    }
   ],
   "source": [
    "import numpy as np\n",
    "import matplotlib.pyplot as plt\n",
    "from mpl_toolkits.mplot3d import Axes3D # 3d plotting tool\n",
    "from sklearn.cluster import KMeans\n",
    "from sklearn.datasets import make_blobs # generate synthetic clustered data\n",
    "\n",
    "plt.rcParams['figure.figsize'] = (16,9) # plt.rcParams modifies global Matplotlib settings.\n",
    "# Generate Synthetic Dataset with 4 Clusters\n",
    "X,y = make_blobs(n_samples=800, n_features=3, centers=4) \n",
    "# make_blobs() creates a random dataset with multiple clusters.\n",
    "# n_samples=800 → 800 data points will be generated.\n",
    "# n_features=3 → Each data point has 3 features (for 3D plotting).\n",
    "# centers=4 → The dataset contains 4 clusters.\n",
    "X\n"
   ]
  },
  {
   "cell_type": "code",
   "execution_count": 3,
   "metadata": {},
   "outputs": [
    {
     "data": {
      "text/plain": [
       "array([1, 2, 0, 1, 3, 1, 3, 3, 2, 2, 1, 2, 1, 3, 2, 1, 3, 1, 3, 2, 1, 0,\n",
       "       2, 3, 2, 0, 2, 0, 1, 1, 1, 1, 3, 1, 0, 1, 1, 0, 1, 1, 1, 3, 1, 1,\n",
       "       0, 2, 3, 3, 2, 0, 2, 2, 2, 0, 2, 2, 0, 1, 2, 0, 0, 3, 0, 1, 0, 1,\n",
       "       3, 1, 3, 2, 1, 2, 2, 2, 1, 1, 1, 0, 1, 2, 3, 3, 0, 1, 2, 0, 1, 0,\n",
       "       3, 1, 3, 1, 3, 0, 0, 2, 2, 2, 2, 2, 1, 1, 2, 0, 0, 3, 0, 2, 2, 2,\n",
       "       1, 1, 1, 3, 2, 3, 3, 3, 3, 2, 1, 0, 3, 0, 2, 3, 3, 3, 0, 2, 0, 2,\n",
       "       0, 2, 1, 2, 0, 3, 0, 1, 2, 1, 2, 3, 1, 2, 0, 3, 2, 2, 1, 3, 2, 2,\n",
       "       3, 0, 0, 0, 3, 1, 2, 3, 3, 0, 1, 1, 0, 3, 3, 2, 1, 2, 1, 2, 0, 0,\n",
       "       0, 0, 1, 0, 2, 3, 1, 3, 1, 3, 1, 0, 2, 2, 1, 1, 2, 1, 1, 0, 1, 1,\n",
       "       0, 1, 1, 3, 3, 2, 0, 2, 1, 1, 1, 1, 3, 3, 3, 3, 2, 3, 1, 2, 3, 3,\n",
       "       1, 2, 3, 1, 2, 0, 3, 3, 2, 2, 2, 3, 1, 3, 2, 1, 2, 0, 1, 0, 0, 2,\n",
       "       1, 3, 0, 2, 1, 0, 3, 2, 3, 0, 2, 1, 2, 0, 0, 1, 1, 2, 2, 1, 1, 0,\n",
       "       3, 1, 2, 0, 1, 3, 1, 0, 1, 0, 2, 1, 3, 1, 0, 3, 0, 1, 3, 2, 1, 2,\n",
       "       3, 2, 1, 3, 3, 3, 1, 0, 3, 1, 1, 3, 3, 2, 1, 3, 2, 3, 3, 3, 2, 0,\n",
       "       3, 3, 3, 2, 3, 2, 0, 2, 1, 0, 0, 0, 2, 0, 3, 3, 2, 3, 3, 3, 1, 2,\n",
       "       3, 0, 0, 1, 1, 0, 2, 0, 0, 1, 1, 0, 0, 2, 1, 2, 2, 1, 3, 1, 2, 0,\n",
       "       1, 2, 3, 3, 3, 2, 3, 3, 2, 2, 0, 1, 0, 0, 1, 0, 3, 3, 1, 3, 0, 1,\n",
       "       0, 3, 1, 0, 0, 0, 0, 3, 3, 1, 3, 1, 3, 2, 1, 1, 1, 2, 1, 3, 2, 0,\n",
       "       2, 0, 0, 2, 0, 3, 0, 0, 1, 3, 2, 1, 1, 0, 1, 2, 3, 1, 0, 2, 0, 1,\n",
       "       3, 1, 2, 2, 2, 2, 0, 0, 3, 3, 2, 0, 2, 2, 3, 3, 1, 1, 1, 2, 3, 2,\n",
       "       0, 1, 0, 2, 2, 1, 0, 0, 1, 3, 2, 0, 0, 2, 1, 1, 0, 0, 1, 1, 0, 0,\n",
       "       2, 3, 2, 2, 0, 3, 0, 2, 0, 3, 2, 3, 3, 0, 3, 2, 3, 1, 0, 2, 1, 1,\n",
       "       0, 3, 2, 1, 0, 0, 2, 3, 3, 2, 1, 2, 1, 2, 1, 2, 0, 2, 3, 0, 2, 3,\n",
       "       2, 3, 3, 3, 2, 1, 3, 2, 1, 3, 3, 0, 0, 0, 1, 2, 2, 0, 2, 3, 2, 2,\n",
       "       3, 0, 0, 0, 2, 3, 0, 0, 0, 0, 1, 2, 0, 1, 1, 3, 1, 0, 0, 0, 3, 1,\n",
       "       3, 3, 3, 2, 3, 0, 1, 0, 1, 0, 0, 1, 1, 1, 1, 1, 0, 2, 1, 1, 2, 0,\n",
       "       3, 2, 2, 3, 3, 0, 2, 3, 0, 2, 3, 2, 2, 0, 3, 0, 2, 2, 0, 3, 2, 3,\n",
       "       0, 2, 1, 1, 3, 1, 3, 1, 1, 3, 1, 2, 3, 3, 1, 3, 0, 0, 0, 3, 1, 0,\n",
       "       3, 0, 3, 3, 0, 0, 0, 0, 1, 2, 1, 1, 0, 2, 1, 2, 3, 3, 1, 0, 3, 3,\n",
       "       2, 1, 2, 2, 0, 2, 3, 1, 0, 2, 1, 0, 0, 0, 2, 3, 2, 3, 2, 1, 0, 1,\n",
       "       2, 3, 1, 0, 1, 1, 3, 0, 3, 3, 1, 3, 1, 3, 1, 3, 3, 0, 0, 3, 0, 0,\n",
       "       1, 0, 1, 3, 1, 0, 0, 3, 0, 0, 1, 0, 1, 0, 0, 3, 0, 3, 2, 1, 3, 0,\n",
       "       0, 1, 0, 3, 0, 0, 0, 3, 3, 3, 2, 0, 3, 0, 1, 1, 3, 0, 2, 2, 3, 3,\n",
       "       1, 3, 3, 2, 2, 0, 0, 0, 2, 2, 2, 2, 3, 0, 2, 2, 2, 0, 0, 2, 2, 2,\n",
       "       2, 0, 2, 1, 1, 3, 3, 3, 1, 0, 3, 2, 2, 0, 2, 2, 0, 2, 1, 2, 1, 0,\n",
       "       2, 3, 3, 1, 1, 3, 2, 3, 2, 2, 3, 3, 0, 0, 1, 3, 2, 2, 0, 1, 3, 1,\n",
       "       1, 2, 1, 2, 1, 0, 3, 2])"
      ]
     },
     "execution_count": 3,
     "metadata": {},
     "output_type": "execute_result"
    }
   ],
   "source": [
    "y"
   ]
  },
  {
   "cell_type": "code",
   "execution_count": null,
   "metadata": {},
   "outputs": [],
   "source": []
  }
 ],
 "metadata": {
  "kernelspec": {
   "display_name": "env",
   "language": "python",
   "name": "python3"
  },
  "language_info": {
   "codemirror_mode": {
    "name": "ipython",
    "version": 3
   },
   "file_extension": ".py",
   "mimetype": "text/x-python",
   "name": "python",
   "nbconvert_exporter": "python",
   "pygments_lexer": "ipython3",
   "version": "3.8.10"
  }
 },
 "nbformat": 4,
 "nbformat_minor": 2
}
