{
 "cells": [
  {
   "cell_type": "markdown",
   "metadata": {},
   "source": [
    "#### Clustering\n",
    "- Clustering is an unsupervised learning\n",
    "- It is the process of partitioning a set of data into meaningful sub-classes\n",
    "\n",
    "Application of clustering:\n",
    "- Pattern recognition\n",
    "- Spatial data analysis\n",
    "- Image processing\n",
    "- Document classification\n",
    "- Identification of similar entities\n",
    "- Finding pattern of weather behaviour\n"
   ]
  },
  {
   "cell_type": "markdown",
   "metadata": {},
   "source": []
  }
 ],
 "metadata": {
  "language_info": {
   "name": "python"
  }
 },
 "nbformat": 4,
 "nbformat_minor": 2
}
