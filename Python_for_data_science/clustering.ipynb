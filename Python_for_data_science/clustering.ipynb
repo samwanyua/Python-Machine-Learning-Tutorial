{
 "cells": [
  {
   "cell_type": "markdown",
   "metadata": {},
   "source": [
    "#### Clustering\n",
    "- Clustering is an unsupervised learning\n",
    "- It is the process of partitioning a set of data into meaningful sub-classes\n",
    "\n",
    "Application of clustering:\n",
    "- Pattern recognition\n",
    "- Spatial data analysis\n",
    "- Image processing\n",
    "- Document classification\n",
    "- Identification of similar entities\n",
    "- Finding pattern of weather behaviour\n",
    "\n",
    "Why we need clustering:\n",
    "- Clustering can be used for the following tasks:\n",
    "    - Analyzing research data\n",
    "    - Creating a summary\n",
    "    - Detecting noise\n",
    "    - Duplication detection\n",
    "\n",
    "Algorithms of clustering:\n",
    "- K-means clustering\n",
    "- Hierachical clustering\n",
    "- Density-based clustering\n",
    "\n",
    "\n",
    "#### K-means clustering\n",
    "- It is an iterative algorithm that divides the unlabeled dataset into k different clusters in such a way that each dataset belongs only one group that has similar properties.\n",
    "\n",
    "Algorithm of K-clustering:\n",
    "- Partition clustering\n",
    "- Without any cluster-internal structure, K-means  divides data into non-overlapping groups.\n",
    "- Within the cluster, examples are very similar.\n",
    "- Various clusters have quite different examples\n",
    "\n",
    "Determination of K in K-means clustering\n",
    "- The perfomance of the K-means clustering algorithm depends upon highly efficient clusters that it forms. But choosing the optimal number of clusters is a big task.\n",
    "\n",
    "**Elbow method** \n",
    "- It uses the concept of WCSS value (Within Cluster Sum of Squares) which defines the total variations within a cluster\n",
    "\n",
    "Steps of Elbow method:\n",
    "- It executes the K-means clustering on a given dataset for different K values (ranges from 1 - 10)\n",
    "- For each value of K, calculates the WCSS value\n",
    "- Plots a curve between calculated WCSS values and the number of clusters K\n",
    "- The sharp point of bend or a point of the plot that looks like an arm, then that point is considered as the best value of K.\n",
    "\n",
    "\n",
    "\n",
    "\n",
    "\n",
    "\n",
    "\n",
    "\n",
    "\n",
    "\n",
    "\n",
    "\n"
   ]
  },
  {
   "cell_type": "code",
   "execution_count": 7,
   "metadata": {},
   "outputs": [
    {
     "data": {
      "text/plain": [
       "array([[  6.06192174,  -3.37479815, -11.62907766],\n",
       "       [  4.2063913 ,   4.51741229,   1.84906105],\n",
       "       [  4.63435619,   3.62900251,   0.1572558 ],\n",
       "       ...,\n",
       "       [  2.74313984,   6.31408464,  -7.54542399],\n",
       "       [  3.78224663,   6.90155729,  -6.35148864],\n",
       "       [  3.11743101,   4.47992407,   1.73045835]])"
      ]
     },
     "execution_count": 7,
     "metadata": {},
     "output_type": "execute_result"
    }
   ],
   "source": [
    "import numpy as np\n",
    "import matplotlib.pyplot as plt\n",
    "from mpl_toolkits.mplot3d import Axes3D # 3d plotting tool\n",
    "from sklearn.datasets import make_blobs # generate synthetic clustered data\n",
    "\n",
    "plt.rcParams['figure.figsize'] = (12,6) # plt.rcParams modifies global Matplotlib settings.\n",
    "# Generate Synthetic Dataset with 4 Clusters\n",
    "X,y = make_blobs(n_samples=800, n_features=3, centers=4) \n",
    "# make_blobs() creates a random dataset with multiple clusters.\n",
    "# n_samples=800 → 800 data points will be generated.\n",
    "# n_features=3 → Each data point has 3 features (for 3D plotting).\n",
    "# centers=4 → The dataset contains 4 clusters.\n",
    "X\n"
   ]
  },
  {
   "cell_type": "code",
   "execution_count": 3,
   "metadata": {},
   "outputs": [
    {
     "data": {
      "text/plain": [
       "array([1, 2, 0, 1, 3, 1, 3, 3, 2, 2, 1, 2, 1, 3, 2, 1, 3, 1, 3, 2, 1, 0,\n",
       "       2, 3, 2, 0, 2, 0, 1, 1, 1, 1, 3, 1, 0, 1, 1, 0, 1, 1, 1, 3, 1, 1,\n",
       "       0, 2, 3, 3, 2, 0, 2, 2, 2, 0, 2, 2, 0, 1, 2, 0, 0, 3, 0, 1, 0, 1,\n",
       "       3, 1, 3, 2, 1, 2, 2, 2, 1, 1, 1, 0, 1, 2, 3, 3, 0, 1, 2, 0, 1, 0,\n",
       "       3, 1, 3, 1, 3, 0, 0, 2, 2, 2, 2, 2, 1, 1, 2, 0, 0, 3, 0, 2, 2, 2,\n",
       "       1, 1, 1, 3, 2, 3, 3, 3, 3, 2, 1, 0, 3, 0, 2, 3, 3, 3, 0, 2, 0, 2,\n",
       "       0, 2, 1, 2, 0, 3, 0, 1, 2, 1, 2, 3, 1, 2, 0, 3, 2, 2, 1, 3, 2, 2,\n",
       "       3, 0, 0, 0, 3, 1, 2, 3, 3, 0, 1, 1, 0, 3, 3, 2, 1, 2, 1, 2, 0, 0,\n",
       "       0, 0, 1, 0, 2, 3, 1, 3, 1, 3, 1, 0, 2, 2, 1, 1, 2, 1, 1, 0, 1, 1,\n",
       "       0, 1, 1, 3, 3, 2, 0, 2, 1, 1, 1, 1, 3, 3, 3, 3, 2, 3, 1, 2, 3, 3,\n",
       "       1, 2, 3, 1, 2, 0, 3, 3, 2, 2, 2, 3, 1, 3, 2, 1, 2, 0, 1, 0, 0, 2,\n",
       "       1, 3, 0, 2, 1, 0, 3, 2, 3, 0, 2, 1, 2, 0, 0, 1, 1, 2, 2, 1, 1, 0,\n",
       "       3, 1, 2, 0, 1, 3, 1, 0, 1, 0, 2, 1, 3, 1, 0, 3, 0, 1, 3, 2, 1, 2,\n",
       "       3, 2, 1, 3, 3, 3, 1, 0, 3, 1, 1, 3, 3, 2, 1, 3, 2, 3, 3, 3, 2, 0,\n",
       "       3, 3, 3, 2, 3, 2, 0, 2, 1, 0, 0, 0, 2, 0, 3, 3, 2, 3, 3, 3, 1, 2,\n",
       "       3, 0, 0, 1, 1, 0, 2, 0, 0, 1, 1, 0, 0, 2, 1, 2, 2, 1, 3, 1, 2, 0,\n",
       "       1, 2, 3, 3, 3, 2, 3, 3, 2, 2, 0, 1, 0, 0, 1, 0, 3, 3, 1, 3, 0, 1,\n",
       "       0, 3, 1, 0, 0, 0, 0, 3, 3, 1, 3, 1, 3, 2, 1, 1, 1, 2, 1, 3, 2, 0,\n",
       "       2, 0, 0, 2, 0, 3, 0, 0, 1, 3, 2, 1, 1, 0, 1, 2, 3, 1, 0, 2, 0, 1,\n",
       "       3, 1, 2, 2, 2, 2, 0, 0, 3, 3, 2, 0, 2, 2, 3, 3, 1, 1, 1, 2, 3, 2,\n",
       "       0, 1, 0, 2, 2, 1, 0, 0, 1, 3, 2, 0, 0, 2, 1, 1, 0, 0, 1, 1, 0, 0,\n",
       "       2, 3, 2, 2, 0, 3, 0, 2, 0, 3, 2, 3, 3, 0, 3, 2, 3, 1, 0, 2, 1, 1,\n",
       "       0, 3, 2, 1, 0, 0, 2, 3, 3, 2, 1, 2, 1, 2, 1, 2, 0, 2, 3, 0, 2, 3,\n",
       "       2, 3, 3, 3, 2, 1, 3, 2, 1, 3, 3, 0, 0, 0, 1, 2, 2, 0, 2, 3, 2, 2,\n",
       "       3, 0, 0, 0, 2, 3, 0, 0, 0, 0, 1, 2, 0, 1, 1, 3, 1, 0, 0, 0, 3, 1,\n",
       "       3, 3, 3, 2, 3, 0, 1, 0, 1, 0, 0, 1, 1, 1, 1, 1, 0, 2, 1, 1, 2, 0,\n",
       "       3, 2, 2, 3, 3, 0, 2, 3, 0, 2, 3, 2, 2, 0, 3, 0, 2, 2, 0, 3, 2, 3,\n",
       "       0, 2, 1, 1, 3, 1, 3, 1, 1, 3, 1, 2, 3, 3, 1, 3, 0, 0, 0, 3, 1, 0,\n",
       "       3, 0, 3, 3, 0, 0, 0, 0, 1, 2, 1, 1, 0, 2, 1, 2, 3, 3, 1, 0, 3, 3,\n",
       "       2, 1, 2, 2, 0, 2, 3, 1, 0, 2, 1, 0, 0, 0, 2, 3, 2, 3, 2, 1, 0, 1,\n",
       "       2, 3, 1, 0, 1, 1, 3, 0, 3, 3, 1, 3, 1, 3, 1, 3, 3, 0, 0, 3, 0, 0,\n",
       "       1, 0, 1, 3, 1, 0, 0, 3, 0, 0, 1, 0, 1, 0, 0, 3, 0, 3, 2, 1, 3, 0,\n",
       "       0, 1, 0, 3, 0, 0, 0, 3, 3, 3, 2, 0, 3, 0, 1, 1, 3, 0, 2, 2, 3, 3,\n",
       "       1, 3, 3, 2, 2, 0, 0, 0, 2, 2, 2, 2, 3, 0, 2, 2, 2, 0, 0, 2, 2, 2,\n",
       "       2, 0, 2, 1, 1, 3, 3, 3, 1, 0, 3, 2, 2, 0, 2, 2, 0, 2, 1, 2, 1, 0,\n",
       "       2, 3, 3, 1, 1, 3, 2, 3, 2, 2, 3, 3, 0, 0, 1, 3, 2, 2, 0, 1, 3, 1,\n",
       "       1, 2, 1, 2, 1, 0, 3, 2])"
      ]
     },
     "execution_count": 3,
     "metadata": {},
     "output_type": "execute_result"
    }
   ],
   "source": [
    "y"
   ]
  },
  {
   "cell_type": "code",
   "execution_count": 5,
   "metadata": {},
   "outputs": [
    {
     "name": "stderr",
     "output_type": "stream",
     "text": [
      "/home/wanyua/Dev/Python-Machine-Learning-Tutorial/env/lib/python3.8/site-packages/sklearn/cluster/_kmeans.py:1416: FutureWarning: The default value of `n_init` will change from 10 to 'auto' in 1.4. Set the value of `n_init` explicitly to suppress the warning\n",
      "  super()._check_params_vs_input(X, default_n_init=10)\n",
      "/home/wanyua/Dev/Python-Machine-Learning-Tutorial/env/lib/python3.8/site-packages/sklearn/cluster/_kmeans.py:1416: FutureWarning: The default value of `n_init` will change from 10 to 'auto' in 1.4. Set the value of `n_init` explicitly to suppress the warning\n",
      "  super()._check_params_vs_input(X, default_n_init=10)\n",
      "/home/wanyua/Dev/Python-Machine-Learning-Tutorial/env/lib/python3.8/site-packages/sklearn/cluster/_kmeans.py:1416: FutureWarning: The default value of `n_init` will change from 10 to 'auto' in 1.4. Set the value of `n_init` explicitly to suppress the warning\n",
      "  super()._check_params_vs_input(X, default_n_init=10)\n",
      "/home/wanyua/Dev/Python-Machine-Learning-Tutorial/env/lib/python3.8/site-packages/sklearn/cluster/_kmeans.py:1416: FutureWarning: The default value of `n_init` will change from 10 to 'auto' in 1.4. Set the value of `n_init` explicitly to suppress the warning\n",
      "  super()._check_params_vs_input(X, default_n_init=10)\n",
      "/home/wanyua/Dev/Python-Machine-Learning-Tutorial/env/lib/python3.8/site-packages/sklearn/cluster/_kmeans.py:1416: FutureWarning: The default value of `n_init` will change from 10 to 'auto' in 1.4. Set the value of `n_init` explicitly to suppress the warning\n",
      "  super()._check_params_vs_input(X, default_n_init=10)\n",
      "/home/wanyua/Dev/Python-Machine-Learning-Tutorial/env/lib/python3.8/site-packages/sklearn/cluster/_kmeans.py:1416: FutureWarning: The default value of `n_init` will change from 10 to 'auto' in 1.4. Set the value of `n_init` explicitly to suppress the warning\n",
      "  super()._check_params_vs_input(X, default_n_init=10)\n",
      "/home/wanyua/Dev/Python-Machine-Learning-Tutorial/env/lib/python3.8/site-packages/sklearn/cluster/_kmeans.py:1416: FutureWarning: The default value of `n_init` will change from 10 to 'auto' in 1.4. Set the value of `n_init` explicitly to suppress the warning\n",
      "  super()._check_params_vs_input(X, default_n_init=10)\n",
      "/home/wanyua/Dev/Python-Machine-Learning-Tutorial/env/lib/python3.8/site-packages/sklearn/cluster/_kmeans.py:1416: FutureWarning: The default value of `n_init` will change from 10 to 'auto' in 1.4. Set the value of `n_init` explicitly to suppress the warning\n",
      "  super()._check_params_vs_input(X, default_n_init=10)\n",
      "/home/wanyua/Dev/Python-Machine-Learning-Tutorial/env/lib/python3.8/site-packages/sklearn/cluster/_kmeans.py:1416: FutureWarning: The default value of `n_init` will change from 10 to 'auto' in 1.4. Set the value of `n_init` explicitly to suppress the warning\n",
      "  super()._check_params_vs_input(X, default_n_init=10)\n",
      "/home/wanyua/Dev/Python-Machine-Learning-Tutorial/env/lib/python3.8/site-packages/sklearn/cluster/_kmeans.py:1416: FutureWarning: The default value of `n_init` will change from 10 to 'auto' in 1.4. Set the value of `n_init` explicitly to suppress the warning\n",
      "  super()._check_params_vs_input(X, default_n_init=10)\n"
     ]
    }
   ],
   "source": [
    "# finding optimal number of clusters using elbow method\n",
    "from sklearn.cluster import KMeans\n",
    "wcss_list = [] # Initializing the list for values of WCSS\n",
    "\n",
    "for i in range(1,11):\n",
    "    kmeans = KMeans(n_clusters=i, init='k-means++', random_state=42)\n",
    "    kmeans.fit(X)\n",
    "    wcss_list.append(kmeans.inertia_)"
   ]
  },
  {
   "cell_type": "code",
   "execution_count": 10,
   "metadata": {},
   "outputs": [
    {
     "data": {
      "image/png": "[encoded data removed]",
      "text/plain": [
       "<Figure size 1200x600 with 1 Axes>"
      ]
     },
     "metadata": {},
     "output_type": "display_data"
    }
   ],
   "source": [
    "plt.plot(range(1,11), wcss_list)\n",
    "plt.title(\"The Elbow methods\")\n",
    "plt.xlabel(\"Number of clusters\")\n",
    "plt.ylabel(\"WCSS List\")\n",
    "plt.show()"
   ]
  },
  {
   "cell_type": "code",
   "execution_count": 9,
   "metadata": {},
   "outputs": [
    {
     "data": {
      "text/plain": [
       "[60629.24072446403,\n",
       " 17924.25711882887,\n",
       " 3737.765325785489,\n",
       " 2385.197330932491,\n",
       " 2224.8257127064226,\n",
       " 2071.0010188033066,\n",
       " 1923.1100255271865,\n",
       " 1791.219803736072,\n",
       " 1680.01817976944,\n",
       " 1588.3205606610422]"
      ]
     },
     "execution_count": 9,
     "metadata": {},
     "output_type": "execute_result"
    }
   ],
   "source": [
    "wcss_list"
   ]
  },
  {
   "cell_type": "markdown",
   "metadata": {},
   "source": [
    "#### Hierachical Clustering\n",
    "- It is an algorithm that groups similar objects into groups called clusters\n",
    "- The endpoint is a set of clusters where each cluster is distict from the other and the objects within each cluster are broadly like each other. \n",
    "\n",
    "Type of hirachical clustering\n",
    "- Divisive clustering - is a top to down approach in which observations starts from large cluster and split into smaller ones\n",
    "- Agglomerative clustering - is a bottom to top approach in which observations start from many clusters and merged as one in the end.\n",
    "\n",
    "#### Density based clustering\n",
    "- It locates regions of high density and separate outliers\n",
    "- The regions of high density get separated from regions of low density\n",
    "\n",
    "**DBSCAN**\n",
    "- It can find out any arbitrary shape cluster without getting affected by noise.\n",
    "\n",
    "Advantages:\n",
    "- It can discover arbitrarily shaped cluster\n",
    "- Find cluster surrounded by different cluster\n",
    "- Robust towards noise detection\n"
   ]
  },
  {
   "cell_type": "code",
   "execution_count": 11,
   "metadata": {},
   "outputs": [],
   "source": [
    "# Implementation\n",
    "%matplotlib inline\n",
    "from copy import deepcopy\n",
    "import numpy as np\n",
    "import pandas as pd\n",
    "import matplotlib.pyplot as plt\n",
    "\n",
    "plt.rcParams['figure.figsize'] = (12,6)\n",
    "plt.style.use('ggplot')\n",
    "\n"
   ]
  },
  {
   "cell_type": "code",
   "execution_count": 12,
   "metadata": {},
   "outputs": [
    {
     "data": {
      "text/html": [
       "<div>\n",
       "<style scoped>\n",
       "    .dataframe tbody tr th:only-of-type {\n",
       "        vertical-align: middle;\n",
       "    }\n",
       "\n",
       "    .dataframe tbody tr th {\n",
       "        vertical-align: top;\n",
       "    }\n",
       "\n",
       "    .dataframe thead th {\n",
       "        text-align: right;\n",
       "    }\n",
       "</style>\n",
       "<table border=\"1\" class=\"dataframe\">\n",
       "  <thead>\n",
       "    <tr style=\"text-align: right;\">\n",
       "      <th></th>\n",
       "      <th>CustomerID</th>\n",
       "      <th>Gender</th>\n",
       "      <th>Age</th>\n",
       "      <th>Annual Income (k$)</th>\n",
       "      <th>Spending Score (1-100)</th>\n",
       "    </tr>\n",
       "  </thead>\n",
       "  <tbody>\n",
       "    <tr>\n",
       "      <th>0</th>\n",
       "      <td>1</td>\n",
       "      <td>Male</td>\n",
       "      <td>19</td>\n",
       "      <td>15</td>\n",
       "      <td>39</td>\n",
       "    </tr>\n",
       "    <tr>\n",
       "      <th>1</th>\n",
       "      <td>2</td>\n",
       "      <td>Male</td>\n",
       "      <td>21</td>\n",
       "      <td>15</td>\n",
       "      <td>81</td>\n",
       "    </tr>\n",
       "    <tr>\n",
       "      <th>2</th>\n",
       "      <td>3</td>\n",
       "      <td>Female</td>\n",
       "      <td>20</td>\n",
       "      <td>16</td>\n",
       "      <td>6</td>\n",
       "    </tr>\n",
       "    <tr>\n",
       "      <th>3</th>\n",
       "      <td>4</td>\n",
       "      <td>Female</td>\n",
       "      <td>23</td>\n",
       "      <td>16</td>\n",
       "      <td>77</td>\n",
       "    </tr>\n",
       "    <tr>\n",
       "      <th>4</th>\n",
       "      <td>5</td>\n",
       "      <td>Female</td>\n",
       "      <td>31</td>\n",
       "      <td>17</td>\n",
       "      <td>40</td>\n",
       "    </tr>\n",
       "  </tbody>\n",
       "</table>\n",
       "</div>"
      ],
      "text/plain": [
       "   CustomerID  Gender  Age  Annual Income (k$)  Spending Score (1-100)\n",
       "0           1    Male   19                  15                      39\n",
       "1           2    Male   21                  15                      81\n",
       "2           3  Female   20                  16                       6\n",
       "3           4  Female   23                  16                      77\n",
       "4           5  Female   31                  17                      40"
      ]
     },
     "execution_count": 12,
     "metadata": {},
     "output_type": "execute_result"
    }
   ],
   "source": [
    "data = pd.read_csv('Data/mallCustomerData.txt', sep=\",\")\n",
    "data.head()"
   ]
  },
  {
   "cell_type": "code",
   "execution_count": 13,
   "metadata": {},
   "outputs": [
    {
     "data": {
      "text/plain": [
       "(200, 5)"
      ]
     },
     "execution_count": 13,
     "metadata": {},
     "output_type": "execute_result"
    }
   ],
   "source": [
    "data.shape"
   ]
  },
  {
   "cell_type": "code",
   "execution_count": null,
   "metadata": {},
   "outputs": [
    {
     "data": {
      "text/plain": [
       "Gender\n",
       "Female    112\n",
       "Male       88\n",
       "Name: count, dtype: int64"
      ]
     },
     "execution_count": 15,
     "metadata": {},
     "output_type": "execute_result"
    }
   ],
   "source": [
    "data['Gender'].value_counts()"
   ]
  },
  {
   "cell_type": "code",
   "execution_count": null,
   "metadata": {},
   "outputs": [],
   "source": []
  }
 ],
 "metadata": {
  "kernelspec": {
   "display_name": "env",
   "language": "python",
   "name": "python3"
  },
  "language_info": {
   "codemirror_mode": {
    "name": "ipython",
    "version": 3
   },
   "file_extension": ".py",
   "mimetype": "text/x-python",
   "name": "python",
   "nbconvert_exporter": "python",
   "pygments_lexer": "ipython3",
   "version": "3.8.10"
  }
 },
 "nbformat": 4,
 "nbformat_minor": 2
}
