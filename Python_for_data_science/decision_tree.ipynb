{
 "cells": [
  {
   "cell_type": "markdown",
   "metadata": {},
   "source": [
    "#### Decision tree\n",
    "- It is a kind of Supervised machine learning in which data is continually segmented based on a parameter.\n",
    "- Breaks down data into smaller subsets\n",
    "- The final results is a tree wit decision nodes and leaf nodes\n",
    "\n",
    "How it works:\n",
    "- Chooses a feature from a given dataset\n",
    "- Determines the importance of feature in segmenting of data\n",
    "- Data segmenting depends upon the best attribute\n",
    "- Repeat\n",
    "\n",
    "#### Entropy\n",
    "It is measure the amount of uncertainty or randomness in data\n",
    "- Low value (0) -> no randomness\n",
    "- High value(1) -> High randomness [decision tree uses the one with high entropy]\n",
    "\n",
    "\n",
    "\n",
    "\n"
   ]
  },
  {
   "cell_type": "markdown",
   "metadata": {},
   "source": []
  }
 ],
 "metadata": {
  "language_info": {
   "name": "python"
  }
 },
 "nbformat": 4,
 "nbformat_minor": 2
}
