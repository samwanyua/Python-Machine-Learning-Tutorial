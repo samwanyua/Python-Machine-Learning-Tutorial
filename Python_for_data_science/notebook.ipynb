{
 "cells": [
  {
   "cell_type": "code",
   "execution_count": null,
   "metadata": {},
   "outputs": [
    {
     "name": "stdout",
     "output_type": "stream",
     "text": [
      "[1 2 3 4 5]\n",
      "1\n"
     ]
    }
   ],
   "source": [
    "# Numpy arrays are more efficient that Python lists in terms of memory consumption and speed\n",
    "import numpy as np\n",
    "\n",
    "# create a numpy array\n",
    "arr = np.array([1, 2, 3, 4, 5])\n",
    "print(arr)\n",
    "print(arr.ndim) # number of dimensions"
   ]
  },
  {
   "cell_type": "code",
   "execution_count": null,
   "metadata": {},
   "outputs": [
    {
     "name": "stdout",
     "output_type": "stream",
     "text": [
      "1\n",
      "2\n",
      "3\n",
      "4\n",
      "5\n",
      "6\n",
      "7\n",
      "8\n",
      "9\n",
      "10\n",
      "11\n",
      "12\n"
     ]
    }
   ],
   "source": [
    "# create a 3D numpy array\n",
    "arr_3d = np.array([[[1, 2], [3, 4]], [[5, 6], [7, 8]], [[9, 10], [11, 12]]])\n",
    "\n",
    "# iterate through the 3D numpy array\n",
    "for i in range(arr_3d.shape[0]): # shape is a tuple that contains the dimensions of the array\n",
    "    for j in range(arr_3d.shape[1]): # shape[0] is the number of rows, shape[1] is the number of columns\n",
    "        for k in range(arr_3d.shape[2]): # shape[2] is the number of layers\n",
    "            print(arr_3d[i, j, k])"
   ]
  },
  {
   "cell_type": "code",
   "execution_count": 8,
   "metadata": {},
   "outputs": [
    {
     "name": "stdout",
     "output_type": "stream",
     "text": [
      "Matrix multiplication of 2D arrays:\n",
      " [[19 22]\n",
      " [43 50]]\n",
      "Matrix multiplication of 1D and 2D arrays:\n",
      " [13 16]\n",
      "Matrix multiplication of 3D arrays:\n",
      " [[[ 31  34]\n",
      "  [ 71  78]]\n",
      "\n",
      " [[155 166]\n",
      "  [211 226]]]\n"
     ]
    }
   ],
   "source": [
    "# Example 1: Matrix multiplication of 2D arrays\n",
    "A = np.array([[1, 2], [3, 4]])\n",
    "B = np.array([[5, 6], [7, 8]])\n",
    "\n",
    "# Perform matrix multiplication\n",
    "result_2d = np.matmul(A, B)\n",
    "print(\"Matrix multiplication of 2D arrays:\\n\", result_2d)\n",
    "\n",
    "# Example 2: Matrix multiplication of 1D and 2D arrays\n",
    "C = np.array([1, 2])\n",
    "D = np.array([[3, 4], [5, 6]])\n",
    "\n",
    "# Perform matrix multiplication\n",
    "result_1d_2d = np.matmul(C, D)\n",
    "print(\"Matrix multiplication of 1D and 2D arrays:\\n\", result_1d_2d)\n",
    "\n",
    "# Example 3: Matrix multiplication of 3D arrays\n",
    "E = np.array([[[1, 2], [3, 4]], [[5, 6], [7, 8]]])\n",
    "F = np.array([[[9, 10], [11, 12]], [[13, 14], [15, 16]]])\n",
    "\n",
    "# Perform matrix multiplication\n",
    "result_3d = np.matmul(E, F)\n",
    "print(\"Matrix multiplication of 3D arrays:\\n\", result_3d)"
   ]
  },
  {
   "cell_type": "code",
   "execution_count": 13,
   "metadata": {},
   "outputs": [
    {
     "name": "stdout",
     "output_type": "stream",
     "text": [
      "[]\n",
      "[]\n",
      "[4.5]\n",
      "[4.5]\n",
      "[4.5]\n",
      "[4.5, 5.0]\n",
      "[4.5, 5.0, 78.0]\n"
     ]
    }
   ],
   "source": [
    "# Median-based anomaly detection\n",
    "import pandas as pd\n",
    "import numpy as np\n",
    "x = pd.Series([2.1, 2.3, 4.5, 2.2, 2.4, 5,78])\n",
    "threshold = 2.0 \n",
    "median = np.median(x)\n",
    "outliers = []\n",
    "for i in range(len(x)):\n",
    "    if abs(x[i] - median) > threshold:\n",
    "        outliers.append(x[i])\n",
    "    print(outliers)"
   ]
  },
  {
   "cell_type": "code",
   "execution_count": 15,
   "metadata": {},
   "outputs": [
    {
     "name": "stdout",
     "output_type": "stream",
     "text": [
      "[]\n",
      "[]\n",
      "[]\n",
      "[]\n",
      "[]\n",
      "[]\n",
      "[78.0]\n"
     ]
    }
   ],
   "source": [
    "# Mean-based anomaly detection\n",
    "mean = np. mean(x)\n",
    "std = np.std(x)\n",
    "outliers = []\n",
    "for i in x:\n",
    "    if (i < mean - std) or (i > mean + std):\n",
    "        outliers.append(i)\n",
    "    print(outliers)\n",
    "\n"
   ]
  },
  {
   "cell_type": "code",
   "execution_count": 16,
   "metadata": {},
   "outputs": [
    {
     "name": "stdout",
     "output_type": "stream",
     "text": [
      "[78.0]\n",
      "[78.0]\n",
      "[78.0]\n",
      "[78.0]\n",
      "[78.0]\n",
      "[78.0]\n",
      "[78.0, 78.0]\n"
     ]
    }
   ],
   "source": [
    "# z-score based anomaly detection\n",
    "for item in x:\n",
    "    z_score = (item - mean) / std\n",
    "    if z_score > 1.5:\n",
    "        outliers.append(item)\n",
    "    print(outliers)"
   ]
  },
  {
   "cell_type": "code",
   "execution_count": 17,
   "metadata": {},
   "outputs": [
    {
     "name": "stdout",
     "output_type": "stream",
     "text": [
      "[]\n",
      "[]\n",
      "[]\n",
      "[]\n",
      "[]\n",
      "[]\n",
      "[78.0]\n"
     ]
    }
   ],
   "source": [
    "# Interquartile range (IQR) based anomaly detection\n",
    "Q1, Q3 = np.percentile(x, [25, 75])\n",
    "IQR = Q3 - Q1\n",
    "outliers = []\n",
    "for item in x:\n",
    "    if (item < Q1 - 1.5 * IQR) or (item > Q3 + 1.5 * IQR):\n",
    "        outliers.append(item)\n",
    "    print(outliers)\n"
   ]
  },
  {
   "cell_type": "code",
   "execution_count": 19,
   "metadata": {},
   "outputs": [
    {
     "name": "stdout",
     "output_type": "stream",
     "text": [
      "Matches: ['rain', 'Spain', 'plain']\n",
      "First match: rain\n",
      "Replaced text: The XYZ in XYZ stays mainly in the XYZ.\n",
      "Split text: ['The', 'rain', 'in', 'Spain', 'stays', 'mainly', 'in', 'the', 'plain.']\n",
      "Matches with compiled pattern: ['rain', 'Spain', 'plain']\n"
     ]
    }
   ],
   "source": [
    "import re\n",
    "\n",
    "# Sample text\n",
    "text = \"The rain in Spain stays mainly in the plain.\"\n",
    "\n",
    "# 1. Find all occurrences of a pattern\n",
    "pattern = r'\\b\\w*ain\\b'\n",
    "matches = re.findall(pattern, text)\n",
    "print(\"Matches:\", matches)\n",
    "\n",
    "# 2. Search for the first occurrence of a pattern\n",
    "match = re.search(pattern, text)\n",
    "if match:\n",
    "    print(\"First match:\", match.group())\n",
    "\n",
    "# 3. Replace all occurrences of a pattern\n",
    "replaced_text = re.sub(pattern, 'XYZ', text)\n",
    "print(\"Replaced text:\", replaced_text)\n",
    "\n",
    "# 4. Split text by a pattern\n",
    "split_text = re.split(r'\\s+', text)\n",
    "print(\"Split text:\", split_text)\n",
    "\n",
    "# 5. Compile a regular expression for repeated use\n",
    "compiled_pattern = re.compile(pattern)\n",
    "matches = compiled_pattern.findall(text)\n",
    "print(\"Matches with compiled pattern:\", matches)"
   ]
  },
  {
   "cell_type": "code",
   "execution_count": null,
   "metadata": {},
   "outputs": [
    {
     "name": "stdout",
     "output_type": "stream",
     "text": [
      "Min-Max Scaled Data:\n",
      "    Feature1  Feature2\n",
      "0      0.00      0.00\n",
      "1      0.25      0.25\n",
      "2      0.50      0.50\n",
      "3      0.75      0.75\n",
      "4      1.00      1.00\n",
      "Standard Scaled Data:\n",
      "    Feature1  Feature2\n",
      "0 -1.414214 -1.414214\n",
      "1 -0.707107 -0.707107\n",
      "2  0.000000  0.000000\n",
      "3  0.707107  0.707107\n",
      "4  1.414214  1.414214\n",
      "Robust Scaled Data:\n",
      "    Feature1  Feature2\n",
      "0      -1.0      -1.0\n",
      "1      -0.5      -0.5\n",
      "2       0.0       0.0\n",
      "3       0.5       0.5\n",
      "4       1.0       1.0\n",
      "MaxAbs Scaled Data:\n",
      "    Feature1  Feature2\n",
      "0       0.2       0.2\n",
      "1       0.4       0.4\n",
      "2       0.6       0.6\n",
      "3       0.8       0.8\n",
      "4       1.0       1.0\n"
     ]
    }
   ],
   "source": [
    "from sklearn.preprocessing import MinMaxScaler, StandardScaler, RobustScaler, MaxAbsScaler\n",
    "import pandas as pd\n",
    "\n",
    "# Sample data\n",
    "data = {'Feature1': [10, 20, 30, 40, 50],\n",
    "    'Feature2': [100, 200, 300, 400, 500]}\n",
    "df = pd.DataFrame(data)\n",
    "\n",
    "# Min-Max Scaling ==> normalization\n",
    "# Goal: Scale data to a fixed range [0, 1].\n",
    "# Min-Max scaling is recommended when the data does not follow a normal distribution.\n",
    "min_max_scaler = MinMaxScaler()\n",
    "df_min_max_scaled = pd.DataFrame(min_max_scaler.fit_transform(df), columns=df.columns)\n",
    "print(\"Min-Max Scaled Data:\\n\", df_min_max_scaled)\n",
    "\n",
    "# Standardization\n",
    "# Goal: Scale data to have a mean of 0 and a standard deviation of 1.\n",
    "# Standardization is recommended when the data follows a normal distribution.\n",
    "\n",
    "standard_scaler = StandardScaler()\n",
    "df_standard_scaled = pd.DataFrame(standard_scaler.fit_transform(df), columns=df.columns)\n",
    "print(\"Standard Scaled Data:\\n\", df_standard_scaled)\n",
    "\n",
    "# Robust Scaling\n",
    "# Goal: Scale data based on the IQR (Interquartile Range).\n",
    "# Robust scaling is recommended when the data contains outliers.\n",
    "robust_scaler = RobustScaler()\n",
    "df_robust_scaled = pd.DataFrame(robust_scaler.fit_transform(df), columns=df.columns)\n",
    "print(\"Robust Scaled Data:\\n\", df_robust_scaled)\n",
    "\n",
    "# MaxAbs Scaling\n",
    "# Goal: Scale data based on the maximum absolute value\n",
    "# MaxAbs scaling is recommended when the data contains both positive and negative values.\n",
    "max_abs_scaler = MaxAbsScaler()\n",
    "df_max_abs_scaled = pd.DataFrame(max_abs_scaler.fit_transform(df), columns=df.columns)\n",
    "print(\"MaxAbs Scaled Data:\\n\", df_max_abs_scaled)"
   ]
  },
  {
   "cell_type": "code",
   "execution_count": null,
   "metadata": {},
   "outputs": [],
   "source": []
  }
 ],
 "metadata": {
  "kernelspec": {
   "display_name": "env",
   "language": "python",
   "name": "python3"
  },
  "language_info": {
   "codemirror_mode": {
    "name": "ipython",
    "version": 3
   },
   "file_extension": ".py",
   "mimetype": "text/x-python",
   "name": "python",
   "nbconvert_exporter": "python",
   "pygments_lexer": "ipython3",
   "version": "3.8.10"
  }
 },
 "nbformat": 4,
 "nbformat_minor": 2
}
