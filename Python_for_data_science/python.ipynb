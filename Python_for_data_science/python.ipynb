{
 "cells": [
  {
   "cell_type": "code",
   "execution_count": 3,
   "id": "ccc28d2a",
   "metadata": {},
   "outputs": [
    {
     "name": "stdout",
     "output_type": "stream",
     "text": [
      "{\"name\": \"Sam\", \"age\": 34}\n",
      "{'name': 'Sam', 'age': 34}\n",
      "<class 'dict'>\n"
     ]
    }
   ],
   "source": [
    "# Data serialization\n",
    "import json  \n",
    "data = {'name': 'Sam', 'age': 34}\n",
    "json_str = json.dumps(data)\n",
    "print(json_str)\n",
    "\n",
    "parsed_data = json.loads(json_str)\n",
    "print(parsed_data)\n",
    "print(type(parsed_data))\n"
   ]
  },
  {
   "cell_type": "code",
   "execution_count": 5,
   "id": "f91b6997",
   "metadata": {},
   "outputs": [
    {
     "name": "stdout",
     "output_type": "stream",
     "text": [
      "['name', 'age']\n",
      "['Sam', '43']\n"
     ]
    }
   ],
   "source": [
    "# csv\n",
    "import csv\n",
    "with open('example.csv', mode='w', newline='') as file:\n",
    "    writer = csv.writer(file)\n",
    "    writer.writerow(['name', 'age'])\n",
    "    writer.writerow(['Sam', 43])\n",
    "\n",
    "# read\n",
    "with open('example.csv', mode='r') as file:\n",
    "    reader = csv.reader(file)\n",
    "    for row in reader:\n",
    "        print(row)"
   ]
  },
  {
   "cell_type": "code",
   "execution_count": 7,
   "id": "e78af0c4",
   "metadata": {},
   "outputs": [
    {
     "name": "stdout",
     "output_type": "stream",
     "text": [
      "2025-05-14 14:35:28.727505\n",
      "2025-05-13 14:35:28.727505\n"
     ]
    }
   ],
   "source": [
    "# datetime\n",
    "from datetime import datetime, timedelta\n",
    "now = datetime.now()\n",
    "print(now)\n",
    "\n",
    "yesterday = now - timedelta(days=1)\n",
    "print(yesterday)"
   ]
  },
  {
   "cell_type": "code",
   "execution_count": 9,
   "id": "3104b38d",
   "metadata": {},
   "outputs": [
    {
     "name": "stdout",
     "output_type": "stream",
     "text": [
      "1747222597.405282\n",
      "1747222599.40748\n"
     ]
    }
   ],
   "source": [
    "# time\n",
    "import time\n",
    "\n",
    "print(time.time())\n",
    "time.sleep(2)\n",
    "print(time.time())"
   ]
  },
  {
   "cell_type": "code",
   "execution_count": 10,
   "id": "80344acc",
   "metadata": {},
   "outputs": [
    {
     "name": "stdout",
     "output_type": "stream",
     "text": [
      "123\n"
     ]
    }
   ],
   "source": [
    "# regular expressions\n",
    "import re\n",
    "\n",
    "pattern = r'\\d+' # d -> digits\n",
    "text = 'There are 123 apples'\n",
    "match = re.search(pattern, text)\n",
    "print(match.group())"
   ]
  },
  {
   "cell_type": "code",
   "execution_count": null,
   "id": "6dbe80bc",
   "metadata": {},
   "outputs": [
    {
     "name": "stdout",
     "output_type": "stream",
     "text": [
      "\"sepal.length\",\"sepal.width\",\"petal.length\",\"petal.width\",\"variety\"\n",
      "5.1,3.5,1.4,.2,\"Setosa\"\n",
      "4.9,3,1.4,.2,\"Setosa\"\n",
      "4.7,3.2,1.3,.2,\"Setosa\"\n",
      "4.6,3.1,1.5,.2,\"Setosa\"\n",
      "5,3.6,1.4,.2,\"Setosa\"\n",
      "5.4,3.9,1.7,.4,\"Setosa\"\n",
      "4.6,3.4,1.4,.3,\"Setosa\"\n",
      "5,3.4,1.5,.2,\"Setosa\"\n",
      "4.4,2.9,1.4,.2,\"Setosa\"\n",
      "4.9,3.1,1.5,.1,\"Setosa\"\n",
      "5.4,3.7,1.5,.2,\"Setosa\"\n",
      "4.8,3.4,1.6,.2,\"Setosa\"\n",
      "4.8,3,1.4,.1,\"Setosa\"\n",
      "4.3,3,1.1,.1,\"Setosa\"\n",
      "5.8,4,1.2,.2,\"Setosa\"\n",
      "5.7,4.4,1.5,.4,\"Setosa\"\n",
      "5.4,3.9,1.3,.4,\"Setosa\"\n",
      "5.1,3.5,1.4,.3,\"Setosa\"\n",
      "5.7,3.8,1.7,.3,\"Setosa\"\n",
      "5.1,3.8,1.5,.3,\"Setosa\"\n",
      "5.4,3.4,1.7,.2,\"Setosa\"\n",
      "5.1,3.7,1.5,.4,\"Setosa\"\n",
      "4.6,3.6,1,.2,\"Setosa\"\n",
      "5.1,3.3,1.7,.5,\"Setosa\"\n",
      "4.8,3.4,1.9,.2,\"Setosa\"\n",
      "5,3,1.6,.2,\"Setosa\"\n",
      "5,3.4,1.6,.4,\"Setosa\"\n",
      "5.2,3.5,1.5,.2,\"Setosa\"\n",
      "5.2,3.4,1.4,.2,\"Setosa\"\n",
      "4.7,3.2,1.6,.2,\"Setosa\"\n",
      "4.8,3.1,1.6,.2,\"Setosa\"\n",
      "5.4,3.4,1.5,.4,\"Setosa\"\n",
      "5.2,4.1,1.5,.1,\"Setosa\"\n",
      "5.5,4.2,1.4,.2,\"Setosa\"\n",
      "4.9,3.1,1.5,.2,\"Setosa\"\n",
      "5,3.2,1.2,.2,\"Setosa\"\n",
      "5.5,3.5,1.3,.2,\"Setosa\"\n",
      "4.9,3.6,1.4,.1,\"Setosa\"\n",
      "4.4,3,1.3,.2,\"Setosa\"\n",
      "5.1,3.4,1.5,.2,\"Setosa\"\n",
      "5,3.5,1.3,.3,\"Setosa\"\n",
      "4.5,2.3,1.3,.3,\"Setosa\"\n",
      "4.4,3.2,1.3,.2,\"Setosa\"\n",
      "5,3.5,1.6,.6,\"Setosa\"\n",
      "5.1,3.8,1.9,.4,\"Setosa\"\n",
      "4.8,3,1.4,.3,\"Setosa\"\n",
      "5.1,3.8,1.6,.2,\"Setosa\"\n",
      "4.6,3.2,1.4,.2,\"Setosa\"\n",
      "5.3,3.7,1.5,.2,\"Setosa\"\n",
      "5,3.3,1.4,.2,\"Setosa\"\n",
      "7,3.2,4.7,1.4,\"Versicolor\"\n",
      "6.4,3.2,4.5,1.5,\"Versicolor\"\n",
      "6.9,3.1,4.9,1.5,\"Versicolor\"\n",
      "5.5,2.3,4,1.3,\"Versicolor\"\n",
      "6.5,2.8,4.6,1.5,\"Versicolor\"\n",
      "5.7,2.8,4.5,1.3,\"Versicolor\"\n",
      "6.3,3.3,4.7,1.6,\"Versicolor\"\n",
      "4.9,2.4,3.3,1,\"Versicolor\"\n",
      "6.6,2.9,4.6,1.3,\"Versicolor\"\n",
      "5.2,2.7,3.9,1.4,\"Versicolor\"\n",
      "5,2,3.5,1,\"Versicolor\"\n",
      "5.9,3,4.2,1.5,\"Versicolor\"\n",
      "6,2.2,4,1,\"Versicolor\"\n",
      "6.1,2.9,4.7,1.4,\"Versicolor\"\n",
      "5.6,2.9,3.6,1.3,\"Versicolor\"\n",
      "6.7,3.1,4.4,1.4,\"Versicolor\"\n",
      "5.6,3,4.5,1.5,\"Versicolor\"\n",
      "5.8,2.7,4.1,1,\"Versicolor\"\n",
      "6.2,2.2,4.5,1.5,\"Versicolor\"\n",
      "5.6,2.5,3.9,1.1,\"Versicolor\"\n",
      "5.9,3.2,4.8,1.8,\"Versicolor\"\n",
      "6.1,2.8,4,1.3,\"Versicolor\"\n",
      "6.3,2.5,4.9,1.5,\"Versicolor\"\n",
      "6.1,2.8,4.7,1.2,\"Versicolor\"\n",
      "6.4,2.9,4.3,1.3,\"Versicolor\"\n",
      "6.6,3,4.4,1.4,\"Versicolor\"\n",
      "6.8,2.8,4.8,1.4,\"Versicolor\"\n",
      "6.7,3,5,1.7,\"Versicolor\"\n",
      "6,2.9,4.5,1.5,\"Versicolor\"\n",
      "5.7,2.6,3.5,1,\"Versicolor\"\n",
      "5.5,2.4,3.8,1.1,\"Versicolor\"\n",
      "5.5,2.4,3.7,1,\"Versicolor\"\n",
      "5.8,2.7,3.9,1.2,\"Versicolor\"\n",
      "6,2.7,5.1,1.6,\"Versicolor\"\n",
      "5.4,3,4.5,1.5,\"Versicolor\"\n",
      "6,3.4,4.5,1.6,\"Versicolor\"\n",
      "6.7,3.1,4.7,1.5,\"Versicolor\"\n",
      "6.3,2.3,4.4,1.3,\"Versicolor\"\n",
      "5.6,3,4.1,1.3,\"Versicolor\"\n",
      "5.5,2.5,4,1.3,\"Versicolor\"\n",
      "5.5,2.6,4.4,1.2,\"Versicolor\"\n",
      "6.1,3,4.6,1.4,\"Versicolor\"\n",
      "5.8,2.6,4,1.2,\"Versicolor\"\n",
      "5,2.3,3.3,1,\"Versicolor\"\n",
      "5.6,2.7,4.2,1.3,\"Versicolor\"\n",
      "5.7,3,4.2,1.2,\"Versicolor\"\n",
      "5.7,2.9,4.2,1.3,\"Versicolor\"\n",
      "6.2,2.9,4.3,1.3,\"Versicolor\"\n",
      "5.1,2.5,3,1.1,\"Versicolor\"\n",
      "5.7,2.8,4.1,1.3,\"Versicolor\"\n",
      "6.3,3.3,6,2.5,\"Virginica\"\n",
      "5.8,2.7,5.1,1.9,\"Virginica\"\n",
      "7.1,3,5.9,2.1,\"Virginica\"\n",
      "6.3,2.9,5.6,1.8,\"Virginica\"\n",
      "6.5,3,5.8,2.2,\"Virginica\"\n",
      "7.6,3,6.6,2.1,\"Virginica\"\n",
      "4.9,2.5,4.5,1.7,\"Virginica\"\n",
      "7.3,2.9,6.3,1.8,\"Virginica\"\n",
      "6.7,2.5,5.8,1.8,\"Virginica\"\n",
      "7.2,3.6,6.1,2.5,\"Virginica\"\n",
      "6.5,3.2,5.1,2,\"Virginica\"\n",
      "6.4,2.7,5.3,1.9,\"Virginica\"\n",
      "6.8,3,5.5,2.1,\"Virginica\"\n",
      "5.7,2.5,5,2,\"Virginica\"\n",
      "5.8,2.8,5.1,2.4,\"Virginica\"\n",
      "6.4,3.2,5.3,2.3,\"Virginica\"\n",
      "6.5,3,5.5,1.8,\"Virginica\"\n",
      "7.7,3.8,6.7,2.2,\"Virginica\"\n",
      "7.7,2.6,6.9,2.3,\"Virginica\"\n",
      "6,2.2,5,1.5,\"Virginica\"\n",
      "6.9,3.2,5.7,2.3,\"Virginica\"\n",
      "5.6,2.8,4.9,2,\"Virginica\"\n",
      "7.7,2.8,6.7,2,\"Virginica\"\n",
      "6.3,2.7,4.9,1.8,\"Virginica\"\n",
      "6.7,3.3,5.7,2.1,\"Virginica\"\n",
      "7.2,3.2,6,1.8,\"Virginica\"\n",
      "6.2,2.8,4.8,1.8,\"Virginica\"\n",
      "6.1,3,4.9,1.8,\"Virginica\"\n",
      "6.4,2.8,5.6,2.1,\"Virginica\"\n",
      "7.2,3,5.8,1.6,\"Virginica\"\n",
      "7.4,2.8,6.1,1.9,\"Virginica\"\n",
      "7.9,3.8,6.4,2,\"Virginica\"\n",
      "6.4,2.8,5.6,2.2,\"Virginica\"\n",
      "6.3,2.8,5.1,1.5,\"Virginica\"\n",
      "6.1,2.6,5.6,1.4,\"Virginica\"\n",
      "7.7,3,6.1,2.3,\"Virginica\"\n",
      "6.3,3.4,5.6,2.4,\"Virginica\"\n",
      "6.4,3.1,5.5,1.8,\"Virginica\"\n",
      "6,3,4.8,1.8,\"Virginica\"\n",
      "6.9,3.1,5.4,2.1,\"Virginica\"\n",
      "6.7,3.1,5.6,2.4,\"Virginica\"\n",
      "6.9,3.1,5.1,2.3,\"Virginica\"\n",
      "5.8,2.7,5.1,1.9,\"Virginica\"\n",
      "6.8,3.2,5.9,2.3,\"Virginica\"\n",
      "6.7,3.3,5.7,2.5,\"Virginica\"\n",
      "6.7,3,5.2,2.3,\"Virginica\"\n",
      "6.3,2.5,5,1.9,\"Virginica\"\n",
      "6.5,3,5.2,2,\"Virginica\"\n",
      "6.2,3.4,5.4,2.3,\"Virginica\"\n",
      "5.9,3,5.1,1.8,\"Virginica\"\n"
     ]
    }
   ],
   "source": [
    "# file operations\n",
    "# Read a file\n",
    "with open('iris.csv', mode='r') as file:\n",
    "    content = file.read()\n",
    "    print(content)"
   ]
  },
  {
   "cell_type": "code",
   "execution_count": 14,
   "id": "1c0cf926",
   "metadata": {},
   "outputs": [
    {
     "name": "stdout",
     "output_type": "stream",
     "text": [
      "name,age\n",
      "Sam,43\n"
     ]
    }
   ],
   "source": [
    "# read line by line\n",
    "with open('example.csv', 'r') as file:\n",
    "    for line in file:\n",
    "        print(line.strip())"
   ]
  },
  {
   "cell_type": "code",
   "execution_count": null,
   "id": "92f833e0",
   "metadata": {},
   "outputs": [],
   "source": [
    "# writing a file\n",
    "with open('example.txt', 'a') as file: # a -> append, w -> write, w+ -> read and write\n",
    "    file.write('This is my new file')\n",
    "    file.write('Hello world')\n",
    "\n",
    "# writing a list of lines to a file\n",
    "lines=['First line\\n', 'Second line\\n', 'Third line \\n']\n",
    "with open('example.txt', 'a') as file:\n",
    "    file.writelines(lines)"
   ]
  },
  {
   "cell_type": "code",
   "execution_count": 19,
   "id": "abe702d4",
   "metadata": {},
   "outputs": [],
   "source": [
    "# Binary files\n",
    "# writing to a binary file\n",
    "data = b'\\x00\\x01\\x02\\x03\\x04'\n",
    "with open('example.bin', 'wb') as file:\n",
    "    file.write(data)"
   ]
  },
  {
   "cell_type": "code",
   "execution_count": 20,
   "id": "924ef713",
   "metadata": {},
   "outputs": [
    {
     "name": "stdout",
     "output_type": "stream",
     "text": [
      "b'\\x00\\x01\\x02\\x03\\x04'\n"
     ]
    }
   ],
   "source": [
    "# read binary file\n",
    "with open('example.bin', 'rb') as file:\n",
    "    content = file.read()\n",
    "    print(content)"
   ]
  },
  {
   "cell_type": "code",
   "execution_count": 21,
   "id": "b75965ea",
   "metadata": {},
   "outputs": [],
   "source": [
    "with open('example.txt', 'r') as source_file:\n",
    "    content = source_file.read()\n",
    "\n",
    "with open('destination.txt', 'w') as destination_file:\n",
    "    destination_file.write(content)"
   ]
  },
  {
   "cell_type": "code",
   "execution_count": 25,
   "id": "05f82286",
   "metadata": {},
   "outputs": [
    {
     "name": "stdout",
     "output_type": "stream",
     "text": [
      "lines: 3, words: 21, characters: 125\n"
     ]
    }
   ],
   "source": [
    "# read a text fiel and count the nuber of lines, words and characters\n",
    "def count_text_file(file_path):\n",
    "    with open(file_path, 'r') as file:\n",
    "        lines = file.readlines()\n",
    "        line_count = len(lines)\n",
    "        word_count = sum(len(line.split()) for line in lines)\n",
    "        char_count = sum(len(line) for line in lines)\n",
    "    return line_count, word_count, char_count\n",
    "\n",
    "file_path = 'example.txt'\n",
    "lines, words, characters = count_text_file(file_path)\n",
    "print(f'lines: {lines}, words: {words}, characters: {characters}')"
   ]
  },
  {
   "cell_type": "code",
   "execution_count": 28,
   "id": "b85678d7",
   "metadata": {},
   "outputs": [
    {
     "name": "stdout",
     "output_type": "stream",
     "text": [
      "I love Singapore\n",
      "Also Illinois\n",
      "\n"
     ]
    }
   ],
   "source": [
    "# writing then reading the fiel\n",
    "with open('example2.txt', 'w+') as file:\n",
    "    file.write('I love Singapore\\n')\n",
    "    file.write('Also Illinois\\n')\n",
    "\n",
    "    # move the file cursor to the beginning\n",
    "    file.seek(0)\n",
    "    content = file.read()\n",
    "    print(content)"
   ]
  },
  {
   "cell_type": "code",
   "execution_count": 29,
   "id": "754598ca",
   "metadata": {},
   "outputs": [
    {
     "name": "stdout",
     "output_type": "stream",
     "text": [
      "Directory package is created\n"
     ]
    }
   ],
   "source": [
    "# create new directory\n",
    "import os\n",
    "new_directory = \"package\"\n",
    "os.mkdir(new_directory)\n",
    "print(f\"Directory {new_directory} is created\")"
   ]
  },
  {
   "cell_type": "code",
   "execution_count": 30,
   "id": "50986328",
   "metadata": {},
   "outputs": [
    {
     "name": "stdout",
     "output_type": "stream",
     "text": [
      "['python.ipynb', 'destination.txt', 'example.bin', 'example.txt', 'Recommeder_system.ipynb', 'Data', 'package', 'ETH_1h.csv', 'example2.txt', 'iris.csv', 'notebook.ipynb', 'logistic_regression.ipynb', 'classification.ipynb', 'clustering.ipynb', 'decision_tree.ipynb', 'example.csv', 'titanic.csv']\n"
     ]
    }
   ],
   "source": [
    "# listing Files and directories\n",
    "items = os.listdir('.')\n",
    "print(items)"
   ]
  },
  {
   "cell_type": "code",
   "execution_count": null,
   "id": "443f7396",
   "metadata": {},
   "outputs": [],
   "source": [
    "# Joining paths"
   ]
  }
 ],
 "metadata": {
  "kernelspec": {
   "display_name": "env",
   "language": "python",
   "name": "python3"
  },
  "language_info": {
   "codemirror_mode": {
    "name": "ipython",
    "version": 3
   },
   "file_extension": ".py",
   "mimetype": "text/x-python",
   "name": "python",
   "nbconvert_exporter": "python",
   "pygments_lexer": "ipython3",
   "version": "3.8.10"
  }
 },
 "nbformat": 4,
 "nbformat_minor": 5
}
