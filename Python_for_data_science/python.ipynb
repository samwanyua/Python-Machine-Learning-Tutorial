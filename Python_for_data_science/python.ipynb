{
 "cells": [
  {
   "cell_type": "code",
   "execution_count": 1,
   "id": "ccc28d2a",
   "metadata": {},
   "outputs": [
    {
     "name": "stdout",
     "output_type": "stream",
     "text": [
      "{\"name\": \"Sam\", \"age\": 34}\n",
      "{'name': 'Sam', 'age': 34}\n",
      "<class 'dict'>\n"
     ]
    }
   ],
   "source": [
    "# Data serialization\n",
    "import json  \n",
    "data = {'name': 'Sam', 'age': 34}\n",
    "json_str = json.dumps(data)\n",
    "print(json_str)\n",
    "\n",
    "parsed_data = json.loads(json_str)\n",
    "print(parsed_data)\n",
    "print(type(parsed_data))\n"
   ]
  },
  {
   "cell_type": "code",
   "execution_count": 2,
   "id": "f91b6997",
   "metadata": {},
   "outputs": [
    {
     "name": "stdout",
     "output_type": "stream",
     "text": [
      "['name', 'age']\n",
      "['Sam', '43']\n"
     ]
    }
   ],
   "source": [
    "# csv\n",
    "import csv\n",
    "with open('example.csv', mode='w', newline='') as file:\n",
    "    writer = csv.writer(file)\n",
    "    writer.writerow(['name', 'age'])\n",
    "    writer.writerow(['Sam', 43])\n",
    "\n",
    "# read\n",
    "with open('example.csv', mode='r') as file:\n",
    "    reader = csv.reader(file)\n",
    "    for row in reader:\n",
    "        print(row)"
   ]
  },
  {
   "cell_type": "code",
   "execution_count": 3,
   "id": "e78af0c4",
   "metadata": {},
   "outputs": [
    {
     "name": "stdout",
     "output_type": "stream",
     "text": [
      "2025-05-19 19:22:08.414953\n",
      "2025-05-18 19:22:08.414953\n"
     ]
    }
   ],
   "source": [
    "# datetime\n",
    "from datetime import datetime, timedelta\n",
    "now = datetime.now()\n",
    "print(now)\n",
    "\n",
    "yesterday = now - timedelta(days=1)\n",
    "print(yesterday)"
   ]
  },
  {
   "cell_type": "code",
   "execution_count": 4,
   "id": "3104b38d",
   "metadata": {},
   "outputs": [
    {
     "name": "stdout",
     "output_type": "stream",
     "text": [
      "1747671728.4340484\n",
      "1747671730.437085\n"
     ]
    }
   ],
   "source": [
    "# time\n",
    "import time\n",
    "\n",
    "print(time.time())\n",
    "time.sleep(2)\n",
    "print(time.time())"
   ]
  },
  {
   "cell_type": "code",
   "execution_count": 5,
   "id": "80344acc",
   "metadata": {},
   "outputs": [
    {
     "name": "stdout",
     "output_type": "stream",
     "text": [
      "123\n"
     ]
    }
   ],
   "source": [
    "# regular expressions\n",
    "import re\n",
    "\n",
    "pattern = r'\\d+' # d -> digits\n",
    "text = 'There are 123 apples'\n",
    "match = re.search(pattern, text)\n",
    "print(match.group())"
   ]
  },
  {
   "cell_type": "code",
   "execution_count": 6,
   "id": "6dbe80bc",
   "metadata": {},
   "outputs": [
    {
     "name": "stdout",
     "output_type": "stream",
     "text": [
      "\"sepal.length\",\"sepal.width\",\"petal.length\",\"petal.width\",\"variety\"\n",
      "5.1,3.5,1.4,.2,\"Setosa\"\n",
      "4.9,3,1.4,.2,\"Setosa\"\n",
      "4.7,3.2,1.3,.2,\"Setosa\"\n",
      "4.6,3.1,1.5,.2,\"Setosa\"\n",
      "5,3.6,1.4,.2,\"Setosa\"\n",
      "5.4,3.9,1.7,.4,\"Setosa\"\n",
      "4.6,3.4,1.4,.3,\"Setosa\"\n",
      "5,3.4,1.5,.2,\"Setosa\"\n",
      "4.4,2.9,1.4,.2,\"Setosa\"\n",
      "4.9,3.1,1.5,.1,\"Setosa\"\n",
      "5.4,3.7,1.5,.2,\"Setosa\"\n",
      "4.8,3.4,1.6,.2,\"Setosa\"\n",
      "4.8,3,1.4,.1,\"Setosa\"\n",
      "4.3,3,1.1,.1,\"Setosa\"\n",
      "5.8,4,1.2,.2,\"Setosa\"\n",
      "5.7,4.4,1.5,.4,\"Setosa\"\n",
      "5.4,3.9,1.3,.4,\"Setosa\"\n",
      "5.1,3.5,1.4,.3,\"Setosa\"\n",
      "5.7,3.8,1.7,.3,\"Setosa\"\n",
      "5.1,3.8,1.5,.3,\"Setosa\"\n",
      "5.4,3.4,1.7,.2,\"Setosa\"\n",
      "5.1,3.7,1.5,.4,\"Setosa\"\n",
      "4.6,3.6,1,.2,\"Setosa\"\n",
      "5.1,3.3,1.7,.5,\"Setosa\"\n",
      "4.8,3.4,1.9,.2,\"Setosa\"\n",
      "5,3,1.6,.2,\"Setosa\"\n",
      "5,3.4,1.6,.4,\"Setosa\"\n",
      "5.2,3.5,1.5,.2,\"Setosa\"\n",
      "5.2,3.4,1.4,.2,\"Setosa\"\n",
      "4.7,3.2,1.6,.2,\"Setosa\"\n",
      "4.8,3.1,1.6,.2,\"Setosa\"\n",
      "5.4,3.4,1.5,.4,\"Setosa\"\n",
      "5.2,4.1,1.5,.1,\"Setosa\"\n",
      "5.5,4.2,1.4,.2,\"Setosa\"\n",
      "4.9,3.1,1.5,.2,\"Setosa\"\n",
      "5,3.2,1.2,.2,\"Setosa\"\n",
      "5.5,3.5,1.3,.2,\"Setosa\"\n",
      "4.9,3.6,1.4,.1,\"Setosa\"\n",
      "4.4,3,1.3,.2,\"Setosa\"\n",
      "5.1,3.4,1.5,.2,\"Setosa\"\n",
      "5,3.5,1.3,.3,\"Setosa\"\n",
      "4.5,2.3,1.3,.3,\"Setosa\"\n",
      "4.4,3.2,1.3,.2,\"Setosa\"\n",
      "5,3.5,1.6,.6,\"Setosa\"\n",
      "5.1,3.8,1.9,.4,\"Setosa\"\n",
      "4.8,3,1.4,.3,\"Setosa\"\n",
      "5.1,3.8,1.6,.2,\"Setosa\"\n",
      "4.6,3.2,1.4,.2,\"Setosa\"\n",
      "5.3,3.7,1.5,.2,\"Setosa\"\n",
      "5,3.3,1.4,.2,\"Setosa\"\n",
      "7,3.2,4.7,1.4,\"Versicolor\"\n",
      "6.4,3.2,4.5,1.5,\"Versicolor\"\n",
      "6.9,3.1,4.9,1.5,\"Versicolor\"\n",
      "5.5,2.3,4,1.3,\"Versicolor\"\n",
      "6.5,2.8,4.6,1.5,\"Versicolor\"\n",
      "5.7,2.8,4.5,1.3,\"Versicolor\"\n",
      "6.3,3.3,4.7,1.6,\"Versicolor\"\n",
      "4.9,2.4,3.3,1,\"Versicolor\"\n",
      "6.6,2.9,4.6,1.3,\"Versicolor\"\n",
      "5.2,2.7,3.9,1.4,\"Versicolor\"\n",
      "5,2,3.5,1,\"Versicolor\"\n",
      "5.9,3,4.2,1.5,\"Versicolor\"\n",
      "6,2.2,4,1,\"Versicolor\"\n",
      "6.1,2.9,4.7,1.4,\"Versicolor\"\n",
      "5.6,2.9,3.6,1.3,\"Versicolor\"\n",
      "6.7,3.1,4.4,1.4,\"Versicolor\"\n",
      "5.6,3,4.5,1.5,\"Versicolor\"\n",
      "5.8,2.7,4.1,1,\"Versicolor\"\n",
      "6.2,2.2,4.5,1.5,\"Versicolor\"\n",
      "5.6,2.5,3.9,1.1,\"Versicolor\"\n",
      "5.9,3.2,4.8,1.8,\"Versicolor\"\n",
      "6.1,2.8,4,1.3,\"Versicolor\"\n",
      "6.3,2.5,4.9,1.5,\"Versicolor\"\n",
      "6.1,2.8,4.7,1.2,\"Versicolor\"\n",
      "6.4,2.9,4.3,1.3,\"Versicolor\"\n",
      "6.6,3,4.4,1.4,\"Versicolor\"\n",
      "6.8,2.8,4.8,1.4,\"Versicolor\"\n",
      "6.7,3,5,1.7,\"Versicolor\"\n",
      "6,2.9,4.5,1.5,\"Versicolor\"\n",
      "5.7,2.6,3.5,1,\"Versicolor\"\n",
      "5.5,2.4,3.8,1.1,\"Versicolor\"\n",
      "5.5,2.4,3.7,1,\"Versicolor\"\n",
      "5.8,2.7,3.9,1.2,\"Versicolor\"\n",
      "6,2.7,5.1,1.6,\"Versicolor\"\n",
      "5.4,3,4.5,1.5,\"Versicolor\"\n",
      "6,3.4,4.5,1.6,\"Versicolor\"\n",
      "6.7,3.1,4.7,1.5,\"Versicolor\"\n",
      "6.3,2.3,4.4,1.3,\"Versicolor\"\n",
      "5.6,3,4.1,1.3,\"Versicolor\"\n",
      "5.5,2.5,4,1.3,\"Versicolor\"\n",
      "5.5,2.6,4.4,1.2,\"Versicolor\"\n",
      "6.1,3,4.6,1.4,\"Versicolor\"\n",
      "5.8,2.6,4,1.2,\"Versicolor\"\n",
      "5,2.3,3.3,1,\"Versicolor\"\n",
      "5.6,2.7,4.2,1.3,\"Versicolor\"\n",
      "5.7,3,4.2,1.2,\"Versicolor\"\n",
      "5.7,2.9,4.2,1.3,\"Versicolor\"\n",
      "6.2,2.9,4.3,1.3,\"Versicolor\"\n",
      "5.1,2.5,3,1.1,\"Versicolor\"\n",
      "5.7,2.8,4.1,1.3,\"Versicolor\"\n",
      "6.3,3.3,6,2.5,\"Virginica\"\n",
      "5.8,2.7,5.1,1.9,\"Virginica\"\n",
      "7.1,3,5.9,2.1,\"Virginica\"\n",
      "6.3,2.9,5.6,1.8,\"Virginica\"\n",
      "6.5,3,5.8,2.2,\"Virginica\"\n",
      "7.6,3,6.6,2.1,\"Virginica\"\n",
      "4.9,2.5,4.5,1.7,\"Virginica\"\n",
      "7.3,2.9,6.3,1.8,\"Virginica\"\n",
      "6.7,2.5,5.8,1.8,\"Virginica\"\n",
      "7.2,3.6,6.1,2.5,\"Virginica\"\n",
      "6.5,3.2,5.1,2,\"Virginica\"\n",
      "6.4,2.7,5.3,1.9,\"Virginica\"\n",
      "6.8,3,5.5,2.1,\"Virginica\"\n",
      "5.7,2.5,5,2,\"Virginica\"\n",
      "5.8,2.8,5.1,2.4,\"Virginica\"\n",
      "6.4,3.2,5.3,2.3,\"Virginica\"\n",
      "6.5,3,5.5,1.8,\"Virginica\"\n",
      "7.7,3.8,6.7,2.2,\"Virginica\"\n",
      "7.7,2.6,6.9,2.3,\"Virginica\"\n",
      "6,2.2,5,1.5,\"Virginica\"\n",
      "6.9,3.2,5.7,2.3,\"Virginica\"\n",
      "5.6,2.8,4.9,2,\"Virginica\"\n",
      "7.7,2.8,6.7,2,\"Virginica\"\n",
      "6.3,2.7,4.9,1.8,\"Virginica\"\n",
      "6.7,3.3,5.7,2.1,\"Virginica\"\n",
      "7.2,3.2,6,1.8,\"Virginica\"\n",
      "6.2,2.8,4.8,1.8,\"Virginica\"\n",
      "6.1,3,4.9,1.8,\"Virginica\"\n",
      "6.4,2.8,5.6,2.1,\"Virginica\"\n",
      "7.2,3,5.8,1.6,\"Virginica\"\n",
      "7.4,2.8,6.1,1.9,\"Virginica\"\n",
      "7.9,3.8,6.4,2,\"Virginica\"\n",
      "6.4,2.8,5.6,2.2,\"Virginica\"\n",
      "6.3,2.8,5.1,1.5,\"Virginica\"\n",
      "6.1,2.6,5.6,1.4,\"Virginica\"\n",
      "7.7,3,6.1,2.3,\"Virginica\"\n",
      "6.3,3.4,5.6,2.4,\"Virginica\"\n",
      "6.4,3.1,5.5,1.8,\"Virginica\"\n",
      "6,3,4.8,1.8,\"Virginica\"\n",
      "6.9,3.1,5.4,2.1,\"Virginica\"\n",
      "6.7,3.1,5.6,2.4,\"Virginica\"\n",
      "6.9,3.1,5.1,2.3,\"Virginica\"\n",
      "5.8,2.7,5.1,1.9,\"Virginica\"\n",
      "6.8,3.2,5.9,2.3,\"Virginica\"\n",
      "6.7,3.3,5.7,2.5,\"Virginica\"\n",
      "6.7,3,5.2,2.3,\"Virginica\"\n",
      "6.3,2.5,5,1.9,\"Virginica\"\n",
      "6.5,3,5.2,2,\"Virginica\"\n",
      "6.2,3.4,5.4,2.3,\"Virginica\"\n",
      "5.9,3,5.1,1.8,\"Virginica\"\n"
     ]
    }
   ],
   "source": [
    "# file operations\n",
    "# Read a file\n",
    "with open('iris.csv', mode='r') as file:\n",
    "    content = file.read()\n",
    "    print(content)"
   ]
  },
  {
   "cell_type": "code",
   "execution_count": 7,
   "id": "1c0cf926",
   "metadata": {},
   "outputs": [
    {
     "name": "stdout",
     "output_type": "stream",
     "text": [
      "name,age\n",
      "Sam,43\n"
     ]
    }
   ],
   "source": [
    "# read line by line\n",
    "with open('example.csv', 'r') as file:\n",
    "    for line in file:\n",
    "        print(line.strip())"
   ]
  },
  {
   "cell_type": "code",
   "execution_count": 8,
   "id": "92f833e0",
   "metadata": {},
   "outputs": [],
   "source": [
    "# writing a file\n",
    "with open('example.txt', 'a') as file: # a -> append, w -> write, w+ -> read and write\n",
    "    file.write('This is my new file')\n",
    "    file.write('Hello world')\n",
    "\n",
    "# writing a list of lines to a file\n",
    "lines=['First line\\n', 'Second line\\n', 'Third line \\n']\n",
    "with open('example.txt', 'a') as file:\n",
    "    file.writelines(lines)"
   ]
  },
  {
   "cell_type": "code",
   "execution_count": 9,
   "id": "abe702d4",
   "metadata": {},
   "outputs": [],
   "source": [
    "# Binary files\n",
    "# writing to a binary file\n",
    "data = b'\\x00\\x01\\x02\\x03\\x04'\n",
    "with open('example.bin', 'wb') as file:\n",
    "    file.write(data)"
   ]
  },
  {
   "cell_type": "code",
   "execution_count": 10,
   "id": "924ef713",
   "metadata": {},
   "outputs": [
    {
     "name": "stdout",
     "output_type": "stream",
     "text": [
      "b'\\x00\\x01\\x02\\x03\\x04'\n"
     ]
    }
   ],
   "source": [
    "# read binary file\n",
    "with open('example.bin', 'rb') as file:\n",
    "    content = file.read()\n",
    "    print(content)"
   ]
  },
  {
   "cell_type": "code",
   "execution_count": 11,
   "id": "b75965ea",
   "metadata": {},
   "outputs": [],
   "source": [
    "with open('example.txt', 'r') as source_file:\n",
    "    content = source_file.read()\n",
    "\n",
    "with open('destination.txt', 'w') as destination_file:\n",
    "    destination_file.write(content)"
   ]
  },
  {
   "cell_type": "code",
   "execution_count": 12,
   "id": "05f82286",
   "metadata": {},
   "outputs": [
    {
     "name": "stdout",
     "output_type": "stream",
     "text": [
      "lines: 12, words: 54, characters: 320\n"
     ]
    }
   ],
   "source": [
    "# read a text fiel and count the nuber of lines, words and characters\n",
    "def count_text_file(file_path):\n",
    "    with open(file_path, 'r') as file:\n",
    "        lines = file.readlines()\n",
    "        line_count = len(lines)\n",
    "        word_count = sum(len(line.split()) for line in lines)\n",
    "        char_count = sum(len(line) for line in lines)\n",
    "    return line_count, word_count, char_count\n",
    "\n",
    "file_path = 'example.txt'\n",
    "lines, words, characters = count_text_file(file_path)\n",
    "print(f'lines: {lines}, words: {words}, characters: {characters}')"
   ]
  },
  {
   "cell_type": "code",
   "execution_count": null,
   "id": "b85678d7",
   "metadata": {},
   "outputs": [
    {
     "name": "stdout",
     "output_type": "stream",
     "text": [
      "I love Singapore\n",
      "Also Illinois\n",
      "\n"
     ]
    }
   ],
   "source": [
    "# writing then reading the fiel\n",
    "with open('example2.txt', 'w+') as file:\n",
    "    file.write('I love UK\\n')\n",
    "    file.write('Also Illinois\\n')\n",
    "\n",
    "    # move the file cursor to the beginning\n",
    "    file.seek(0)\n",
    "    content = file.read()\n",
    "    print(content)"
   ]
  },
  {
   "cell_type": "code",
   "execution_count": 14,
   "id": "754598ca",
   "metadata": {},
   "outputs": [
    {
     "ename": "FileExistsError",
     "evalue": "[Errno 17] File exists: 'package'",
     "output_type": "error",
     "traceback": [
      "\u001b[0;31m---------------------------------------------------------------------------\u001b[0m",
      "\u001b[0;31mFileExistsError\u001b[0m                           Traceback (most recent call last)",
      "Cell \u001b[0;32mIn[14], line 4\u001b[0m\n\u001b[1;32m      2\u001b[0m \u001b[38;5;28;01mimport\u001b[39;00m\u001b[38;5;250m \u001b[39m\u001b[38;5;21;01mos\u001b[39;00m\n\u001b[1;32m      3\u001b[0m new_directory \u001b[38;5;241m=\u001b[39m \u001b[38;5;124m\"\u001b[39m\u001b[38;5;124mpackage\u001b[39m\u001b[38;5;124m\"\u001b[39m\n\u001b[0;32m----> 4\u001b[0m \u001b[43mos\u001b[49m\u001b[38;5;241;43m.\u001b[39;49m\u001b[43mmkdir\u001b[49m\u001b[43m(\u001b[49m\u001b[43mnew_directory\u001b[49m\u001b[43m)\u001b[49m\n\u001b[1;32m      5\u001b[0m \u001b[38;5;28mprint\u001b[39m(\u001b[38;5;124mf\u001b[39m\u001b[38;5;124m\"\u001b[39m\u001b[38;5;124mDirectory \u001b[39m\u001b[38;5;132;01m{\u001b[39;00mnew_directory\u001b[38;5;132;01m}\u001b[39;00m\u001b[38;5;124m is created\u001b[39m\u001b[38;5;124m\"\u001b[39m)\n",
      "\u001b[0;31mFileExistsError\u001b[0m: [Errno 17] File exists: 'package'"
     ]
    }
   ],
   "source": [
    "# create new directory\n",
    "import os\n",
    "new_directory = \"package\"\n",
    "os.mkdir(new_directory)\n",
    "print(f\"Directory {new_directory} is created\")"
   ]
  },
  {
   "cell_type": "code",
   "execution_count": null,
   "id": "50986328",
   "metadata": {},
   "outputs": [
    {
     "name": "stdout",
     "output_type": "stream",
     "text": [
      "['python.ipynb', 'destination.txt', 'example.bin', 'example.txt', 'Recommeder_system.ipynb', 'Data', 'package', 'ETH_1h.csv', 'example2.txt', 'iris.csv', 'notebook.ipynb', 'logistic_regression.ipynb', 'classification.ipynb', 'clustering.ipynb', 'decision_tree.ipynb', 'example.csv', 'titanic.csv']\n"
     ]
    }
   ],
   "source": [
    "# listing Files and directories\n",
    "items = os.listdir('.')\n",
    "print(items)"
   ]
  },
  {
   "cell_type": "code",
   "execution_count": null,
   "id": "443f7396",
   "metadata": {},
   "outputs": [
    {
     "name": "stdout",
     "output_type": "stream",
     "text": [
      "/home/wanyua/Dev/ML/Python-Machine-Learning-Tutorial/Python_for_data_science/new_folder/file.txt\n"
     ]
    }
   ],
   "source": [
    "# Joining paths\n",
    "dir_name = \"new_folder\"\n",
    "file_name = \"file.txt\"\n",
    "full_path = os.path.join(os.getcwd(),dir_name, file_name)\n",
    "print(full_path)"
   ]
  },
  {
   "cell_type": "code",
   "execution_count": null,
   "id": "104d3910",
   "metadata": {},
   "outputs": [
    {
     "name": "stdout",
     "output_type": "stream",
     "text": [
      "The path example3.txt does not exist\n"
     ]
    }
   ],
   "source": [
    "path = 'example3.txt'\n",
    "if os.path.exists(path):\n",
    "    print(f\"The path {path} exists\")\n",
    "else:\n",
    "    print(f\"The path {path} does not exist\")"
   ]
  },
  {
   "cell_type": "code",
   "execution_count": null,
   "id": "b8a71236",
   "metadata": {},
   "outputs": [
    {
     "name": "stdout",
     "output_type": "stream",
     "text": [
      "The path example.txt is a file\n"
     ]
    }
   ],
   "source": [
    "# Checking if a path is file or directory\n",
    "import os\n",
    "path = 'example.txt'\n",
    "if os.path.isfile(path):\n",
    "    print(f\"The path {path} is a file\")\n",
    "elif os.path.isdir(path):\n",
    "    print(f\"The path {path} is a directory\")\n",
    "else:\n",
    "    print(f\"The path {path} is neither a file nor a directory\")\n"
   ]
  },
  {
   "cell_type": "code",
   "execution_count": null,
   "id": "317c06ad",
   "metadata": {},
   "outputs": [
    {
     "name": "stdout",
     "output_type": "stream",
     "text": [
      "/home/wanyua/Dev/ML/Python-Machine-Learning-Tutorial/Python_for_data_science/example.bin\n"
     ]
    }
   ],
   "source": [
    "# getting the absolute path\n",
    "relative_path = 'example.bin'\n",
    "absolute_path = os.path.abspath(relative_path)\n",
    "print(absolute_path)"
   ]
  },
  {
   "cell_type": "code",
   "execution_count": null,
   "id": "c8ec8fce",
   "metadata": {},
   "outputs": [
    {
     "name": "stdout",
     "output_type": "stream",
     "text": [
      "\u0000\u0001\u0002\u0003\u0004\n",
      "File closed\n"
     ]
    }
   ],
   "source": [
    "# exceptions handling\n",
    "try:\n",
    "    file= open('example.bin', 'r')\n",
    "    content = file.read()\n",
    "    print(content)\n",
    "except FileNotFoundError:\n",
    "    print(\"The file does not exist\")\n",
    "except Exception as ex:\n",
    "    print(ex)\n",
    "finally:\n",
    "    if 'file' in locals() and not file.closed:\n",
    "        file.close()\n",
    "        print('File closed')"
   ]
  },
  {
   "cell_type": "code",
   "execution_count": null,
   "id": "f74ff56a",
   "metadata": {},
   "outputs": [
    {
     "name": "stdout",
     "output_type": "stream",
     "text": [
      "Collecting numpy\n",
      "  Using cached numpy-1.24.4-cp38-cp38-manylinux_2_17_x86_64.manylinux2014_x86_64.whl (17.3 MB)\n",
      "Installing collected packages: numpy\n",
      "Successfully installed numpy-1.24.4\n",
      "[[1 2 3]\n",
      " [3 4 5]\n",
      " [5 4 6]]\n"
     ]
    }
   ],
   "source": [
    "!pip install numpy\n",
    "import numpy as np\n",
    "arr = np.array([[1,2,3], [3,4,5], [5,4,6]])\n",
    "print(arr)\n"
   ]
  },
  {
   "cell_type": "code",
   "execution_count": null,
   "id": "9f8d1f38",
   "metadata": {},
   "outputs": [
    {
     "data": {
      "text/plain": [
       "array([[1, 2, 3]])"
      ]
     },
     "execution_count": 2,
     "metadata": {},
     "output_type": "execute_result"
    }
   ],
   "source": [
    "arr[:1]"
   ]
  },
  {
   "cell_type": "code",
   "execution_count": null,
   "id": "2a5dd497",
   "metadata": {},
   "outputs": [
    {
     "data": {
      "text/plain": [
       "array([3, 5, 6])"
      ]
     },
     "execution_count": 7,
     "metadata": {},
     "output_type": "execute_result"
    }
   ],
   "source": [
    "arr[:,2]"
   ]
  },
  {
   "cell_type": "code",
   "execution_count": null,
   "id": "511cb136",
   "metadata": {},
   "outputs": [
    {
     "data": {
      "text/plain": [
       "array([[2, 3],\n",
       "       [4, 5]])"
      ]
     },
     "execution_count": 20,
     "metadata": {},
     "output_type": "execute_result"
    }
   ],
   "source": [
    "arr[0:2, 1:]"
   ]
  },
  {
   "cell_type": "code",
   "execution_count": null,
   "id": "10151930",
   "metadata": {},
   "outputs": [
    {
     "name": "stdout",
     "output_type": "stream",
     "text": [
      "[5 6]\n",
      "Mean: 4.5, Standard deviation : 2.29128784747792\n",
      "Normalized data: [-1.52752523 -1.09108945 -0.65465367 -0.21821789  0.21821789  0.65465367\n",
      "  1.09108945  1.52752523]\n"
     ]
    }
   ],
   "source": [
    "# standardization and normalization\n",
    "data = np.array([1,2,3,4,5,6,7,8])\n",
    "print(data[(data > 4) & (data<7)])\n",
    "# mean and standard deviation \n",
    "# standard deviation -> tells you how much the values vary from the average\n",
    "mean = np.mean(data)\n",
    "standard_deviation = np.std(data) # standardization -> mean = 0, standardard deviation = 1\n",
    "print(f\"Mean: {mean}, Standard deviation : {standard_deviation}\")\n",
    "\n",
    "\n",
    "# normalize the data -> rescales values so they lie between 0 and 1\n",
    "norm_data = (data - mean)/ standard_deviation\n",
    "print(f\"Normalized data: {norm_data}\")\n"
   ]
  },
  {
   "cell_type": "code",
   "execution_count": null,
   "id": "fd8c8946",
   "metadata": {},
   "outputs": [
    {
     "name": "stdout",
     "output_type": "stream",
     "text": [
      "Collecting pandas\n",
      "  Using cached pandas-2.0.3-cp38-cp38-manylinux_2_17_x86_64.manylinux2014_x86_64.whl (12.4 MB)\n",
      "Collecting pytz>=2020.1\n",
      "  Downloading pytz-2025.2-py2.py3-none-any.whl (509 kB)\n",
      "\u001b[K     |████████████████████████████████| 509 kB 365 kB/s eta 0:00:01\n",
      "\u001b[?25hRequirement already satisfied: numpy>=1.20.3; python_version < \"3.10\" in /home/wanyua/Dev/ML/Python-Machine-Learning-Tutorial/env/lib/python3.8/site-packages (from pandas) (1.24.4)\n",
      "Requirement already satisfied: python-dateutil>=2.8.2 in /home/wanyua/Dev/ML/Python-Machine-Learning-Tutorial/env/lib/python3.8/site-packages (from pandas) (2.9.0.post0)\n",
      "Collecting tzdata>=2022.1\n",
      "  Downloading tzdata-2025.2-py2.py3-none-any.whl (347 kB)\n",
      "\u001b[K     |████████████████████████████████| 347 kB 144 kB/s eta 0:00:01\n",
      "\u001b[?25hRequirement already satisfied: six>=1.5 in /home/wanyua/Dev/ML/Python-Machine-Learning-Tutorial/env/lib/python3.8/site-packages (from python-dateutil>=2.8.2->pandas) (1.17.0)\n",
      "Installing collected packages: pytz, tzdata, pandas\n",
      "Successfully installed pandas-2.0.3 pytz-2025.2 tzdata-2025.2\n"
     ]
    }
   ],
   "source": [
    "# pandas -dataframes and series\n",
    "!pip install pandas\n",
    "import pandas as pd"
   ]
  },
  {
   "cell_type": "code",
   "execution_count": null,
   "id": "c1b2bb5d",
   "metadata": {},
   "outputs": [
    {
     "data": {
      "text/plain": [
       "0    1\n",
       "1    2\n",
       "2    3\n",
       "3    4\n",
       "4    5\n",
       "dtype: int64"
      ]
     },
     "execution_count": 35,
     "metadata": {},
     "output_type": "execute_result"
    }
   ],
   "source": [
    "# series - one dimension array like object. Similar like a column in a table\n",
    "data = [1,2,3,4,5]\n",
    "series = pd.Series(data)\n",
    "series"
   ]
  },
  {
   "cell_type": "code",
   "execution_count": null,
   "id": "5cede446",
   "metadata": {},
   "outputs": [
    {
     "data": {
      "text/plain": [
       "a    1\n",
       "b    2\n",
       "c    3\n",
       "dtype: int64"
      ]
     },
     "execution_count": 36,
     "metadata": {},
     "output_type": "execute_result"
    }
   ],
   "source": [
    "# creating a series from a dictionary\n",
    "data = {'a': 1, 'b': 2, 'c': 3}\n",
    "series_dict = pd.Series(data)\n",
    "series_dict"
   ]
  },
  {
   "cell_type": "code",
   "execution_count": null,
   "id": "e142bbd5",
   "metadata": {},
   "outputs": [
    {
     "name": "stdout",
     "output_type": "stream",
     "text": [
      "[3, 4.3, 5.3]\n"
     ]
    },
    {
     "data": {
      "text/plain": [
       "a    {'name': 'Sam', 'age': 25, 'city': 'new jersey'}\n",
       "b    {'name': 'Sam', 'age': 25, 'city': 'new jersey'}\n",
       "c    {'name': 'Sam', 'age': 25, 'city': 'new jersey'}\n",
       "d    {'name': 'Sam', 'age': 25, 'city': 'new jersey'}\n",
       "e    {'name': 'Sam', 'age': 25, 'city': 'new jersey'}\n",
       "dtype: object"
      ]
     },
     "execution_count": 74,
     "metadata": {},
     "output_type": "execute_result"
    }
   ],
   "source": [
    "arr = [1,2,3,4.3,5.3]\n",
    "print(arr[-3:])\n",
    "ind = ['a', 'b', 'c', 'd', 'e']\n",
    "pd.Series(data, index = ind)"
   ]
  },
  {
   "cell_type": "code",
   "execution_count": null,
   "id": "5b15917d",
   "metadata": {},
   "outputs": [
    {
     "name": "stdout",
     "output_type": "stream",
     "text": [
      "    Name  Age        City\n",
      "0    Sam   23  New Mexico\n",
      "1   Vule   23     Nairobi\n",
      "2  Chels   45    Pretoria\n",
      "3    Ros   43       Cairo\n",
      "[['Sam' 23 'New Mexico']\n",
      " ['Vule' 23 'Nairobi']\n",
      " ['Chels' 45 'Pretoria']\n",
      " ['Ros' 43 'Cairo']]\n"
     ]
    }
   ],
   "source": [
    "# Data frame - similar to a table or a multidimensional array\n",
    "# creating a df from a dictionary\n",
    "data = {\n",
    "    'Name': ['Sam', 'Vule', 'Chels', 'Ros'],\n",
    "    'Age': [23,23,45,43],\n",
    "    'City': [\"New Mexico\", 'Nairobi', \"Pretoria\", \"Cairo\"]\n",
    "}\n",
    "\n",
    "print(pd.DataFrame(data))\n",
    "print(np.array(pd.DataFrame(data)))"
   ]
  },
  {
   "cell_type": "code",
   "execution_count": null,
   "id": "832aeb05",
   "metadata": {},
   "outputs": [
    {
     "name": "stdout",
     "output_type": "stream",
     "text": [
      "  name  age        city\n",
      "0  Sam   25  new jersey\n",
      "1  Sam   25  new jersey\n",
      "2  Sam   25  new jersey\n",
      "3  Sam   25  new jersey\n",
      "4  Sam   25  new jersey\n"
     ]
    }
   ],
   "source": [
    "# creating a df from a list of dictionary\n",
    "data = [\n",
    "    {'name': 'Sam', 'age': 25, 'city': 'new jersey'},\n",
    "    {'name': 'Sam', 'age': 25, 'city': 'new jersey'},\n",
    "    {'name': 'Sam', 'age': 25, 'city': 'new jersey'},\n",
    "    {'name': 'Sam', 'age': 25, 'city': 'new jersey'},\n",
    "    {'name': 'Sam', 'age': 25, 'city': 'new jersey'},\n",
    "]\n",
    "\n",
    "print(pd.DataFrame(data))"
   ]
  },
  {
   "cell_type": "code",
   "execution_count": null,
   "id": "ea090325",
   "metadata": {},
   "outputs": [
    {
     "name": "stdout",
     "output_type": "stream",
     "text": [
      "Collecting kagglehub\n",
      "\u001b[33m  WARNING: Retrying (Retry(total=4, connect=None, read=None, redirect=None, status=None)) after connection broken by 'NewConnectionError('<urllib3.connection.VerifiedHTTPSConnection object at 0x7f6d3e3d2760>: Failed to establish a new connection: [Errno -3] Temporary failure in name resolution')': /packages/5c/e7/71927b088047132317c14eb513d69c8375ddba3c9029d4154a054f6c8765/kagglehub-0.2.9-py3-none-any.whl\u001b[0m\n",
      "  Downloading kagglehub-0.2.9-py3-none-any.whl (39 kB)\n",
      "Collecting tqdm\n",
      "  Downloading tqdm-4.67.1-py3-none-any.whl (78 kB)\n",
      "\u001b[K     |████████████████████████████████| 78 kB 412 kB/s eta 0:00:01\n",
      "\u001b[?25hCollecting requests\n",
      "  Downloading requests-2.32.3-py3-none-any.whl (64 kB)\n",
      "\u001b[K     |████████████████████████████████| 64 kB 304 kB/s eta 0:00:01\n",
      "\u001b[?25hRequirement already satisfied: packaging in /home/wanyua/Dev/ML/Python-Machine-Learning-Tutorial/env/lib/python3.8/site-packages (from kagglehub) (25.0)\n",
      "Collecting charset-normalizer<4,>=2\n",
      "  Downloading charset_normalizer-3.4.2-cp38-cp38-manylinux_2_17_x86_64.manylinux2014_x86_64.whl (147 kB)\n",
      "\u001b[K     |████████████████████████████████| 147 kB 262 kB/s eta 0:00:01\n",
      "\u001b[?25hCollecting idna<4,>=2.5\n",
      "  Downloading idna-3.10-py3-none-any.whl (70 kB)\n",
      "\u001b[K     |████████████████████████████████| 70 kB 157 kB/s eta 0:00:01\n",
      "\u001b[?25hCollecting urllib3<3,>=1.21.1\n",
      "  Downloading urllib3-2.2.3-py3-none-any.whl (126 kB)\n",
      "\u001b[K     |████████████████████████████████| 126 kB 147 kB/s eta 0:00:01\n",
      "\u001b[?25hCollecting certifi>=2017.4.17\n",
      "  Downloading certifi-2025.4.26-py3-none-any.whl (159 kB)\n",
      "\u001b[K     |████████████████████████████████| 159 kB 202 kB/s eta 0:00:01\n",
      "\u001b[?25hInstalling collected packages: tqdm, charset-normalizer, idna, urllib3, certifi, requests, kagglehub\n",
      "Successfully installed certifi-2025.4.26 charset-normalizer-3.4.2 idna-3.10 kagglehub-0.2.9 requests-2.32.3 tqdm-4.67.1 urllib3-2.2.3\n"
     ]
    },
    {
     "name": "stderr",
     "output_type": "stream",
     "text": [
      "/home/wanyua/Dev/ML/Python-Machine-Learning-Tutorial/env/lib/python3.8/site-packages/tqdm/auto.py:21: TqdmWarning: IProgress not found. Please update jupyter and ipywidgets. See https://ipywidgets.readthedocs.io/en/stable/user_install.html\n",
      "  from .autonotebook import tqdm as notebook_tqdm\n"
     ]
    },
    {
     "name": "stdout",
     "output_type": "stream",
     "text": [
      "Warning: Looks like you're using an outdated `kagglehub` version, please consider updating (latest version: 0.3.12)\n",
      "Downloading from https://www.kaggle.com/api/v1/datasets/download/ivankmk/thousand-ml-jobs-in-usa?dataset_version_number=1...\n"
     ]
    },
    {
     "name": "stderr",
     "output_type": "stream",
     "text": [
      "100%|██████████| 1.60M/1.60M [00:02<00:00, 794kB/s]"
     ]
    },
    {
     "name": "stdout",
     "output_type": "stream",
     "text": [
      "Extracting model files...\n",
      "Path to dataset files: /home/wanyua/.cache/kagglehub/datasets/ivankmk/thousand-ml-jobs-in-usa/versions/1\n"
     ]
    },
    {
     "name": "stderr",
     "output_type": "stream",
     "text": [
      "\n"
     ]
    }
   ],
   "source": [
    "!pip install kagglehub\n",
    "import kagglehub\n",
    "\n",
    "# Download latest version\n",
    "path = kagglehub.dataset_download(\"ivankmk/thousand-ml-jobs-in-usa\")\n",
    "\n",
    "print(\"Path to dataset files:\", path)"
   ]
  },
  {
   "cell_type": "code",
   "execution_count": null,
   "id": "538b7d26",
   "metadata": {},
   "outputs": [
    {
     "data": {
      "text/html": [
       "<div>\n",
       "<style scoped>\n",
       "    .dataframe tbody tr th:only-of-type {\n",
       "        vertical-align: middle;\n",
       "    }\n",
       "\n",
       "    .dataframe tbody tr th {\n",
       "        vertical-align: top;\n",
       "    }\n",
       "\n",
       "    .dataframe thead th {\n",
       "        text-align: right;\n",
       "    }\n",
       "</style>\n",
       "<table border=\"1\" class=\"dataframe\">\n",
       "  <thead>\n",
       "    <tr style=\"text-align: right;\">\n",
       "      <th></th>\n",
       "      <th>Unnamed: 0</th>\n",
       "      <th>job_posted_date</th>\n",
       "      <th>company_address_locality</th>\n",
       "      <th>company_address_region</th>\n",
       "      <th>company_name</th>\n",
       "      <th>company_website</th>\n",
       "      <th>company_description</th>\n",
       "      <th>job_description_text</th>\n",
       "      <th>seniority_level</th>\n",
       "      <th>job_title</th>\n",
       "    </tr>\n",
       "  </thead>\n",
       "  <tbody>\n",
       "    <tr>\n",
       "      <th>0</th>\n",
       "      <td>0</td>\n",
       "      <td>2024-10-31</td>\n",
       "      <td>Indianapolis</td>\n",
       "      <td>Indiana</td>\n",
       "      <td>Upper Hand</td>\n",
       "      <td>https://upperhand.com</td>\n",
       "      <td>Upper Hand is the leading provider of full-sui...</td>\n",
       "      <td>OverviewUpper Hand is embarking on an exciting...</td>\n",
       "      <td>Internship</td>\n",
       "      <td>Internship - Machine Learning Engineer &amp; Data ...</td>\n",
       "    </tr>\n",
       "    <tr>\n",
       "      <th>1</th>\n",
       "      <td>1</td>\n",
       "      <td>2025-03-14</td>\n",
       "      <td>San Francisco</td>\n",
       "      <td>California</td>\n",
       "      <td>Ikigai</td>\n",
       "      <td>https://www.ikigailabs.io</td>\n",
       "      <td>Built upon years of MIT research, Ikigai is a ...</td>\n",
       "      <td>Company DescriptionThe Ikigai platform unlocks...</td>\n",
       "      <td>Mid-Senior level</td>\n",
       "      <td>Machine Learning Engineer</td>\n",
       "    </tr>\n",
       "    <tr>\n",
       "      <th>2</th>\n",
       "      <td>2</td>\n",
       "      <td>2025-04-09</td>\n",
       "      <td>San Jose</td>\n",
       "      <td>CA</td>\n",
       "      <td>Adobe</td>\n",
       "      <td>http://www.adobe.com</td>\n",
       "      <td>Adobe is the global leader in digital media an...</td>\n",
       "      <td>Our CompanyChanging the world through digital ...</td>\n",
       "      <td>Entry level</td>\n",
       "      <td>Machine Learning Engineer</td>\n",
       "    </tr>\n",
       "    <tr>\n",
       "      <th>3</th>\n",
       "      <td>3</td>\n",
       "      <td>2025-03-22</td>\n",
       "      <td>Mountain View</td>\n",
       "      <td>California</td>\n",
       "      <td>Waymo</td>\n",
       "      <td>https://waymo.com/careers/</td>\n",
       "      <td>On the journey to be the world's most trusted ...</td>\n",
       "      <td>Waymo is an autonomous driving technology comp...</td>\n",
       "      <td>Entry level</td>\n",
       "      <td>Machine Learning Engineer, Training</td>\n",
       "    </tr>\n",
       "    <tr>\n",
       "      <th>4</th>\n",
       "      <td>4</td>\n",
       "      <td>2025-03-28</td>\n",
       "      <td>Boston</td>\n",
       "      <td>Massachusetts</td>\n",
       "      <td>HMH</td>\n",
       "      <td>http://www.hmhco.com</td>\n",
       "      <td>We are an adaptive learning company that empow...</td>\n",
       "      <td>Job Title: Machine Learning EngineerLocation: ...</td>\n",
       "      <td>Mid-Senior level</td>\n",
       "      <td>Machine Learning Engineer</td>\n",
       "    </tr>\n",
       "  </tbody>\n",
       "</table>\n",
       "</div>"
      ],
      "text/plain": [
       "   Unnamed: 0 job_posted_date company_address_locality company_address_region  \\\n",
       "0           0      2024-10-31             Indianapolis                Indiana   \n",
       "1           1      2025-03-14            San Francisco             California   \n",
       "2           2      2025-04-09                 San Jose                     CA   \n",
       "3           3      2025-03-22            Mountain View             California   \n",
       "4           4      2025-03-28                   Boston          Massachusetts   \n",
       "\n",
       "  company_name             company_website  \\\n",
       "0   Upper Hand       https://upperhand.com   \n",
       "1       Ikigai   https://www.ikigailabs.io   \n",
       "2        Adobe        http://www.adobe.com   \n",
       "3        Waymo  https://waymo.com/careers/   \n",
       "4          HMH        http://www.hmhco.com   \n",
       "\n",
       "                                 company_description  \\\n",
       "0  Upper Hand is the leading provider of full-sui...   \n",
       "1  Built upon years of MIT research, Ikigai is a ...   \n",
       "2  Adobe is the global leader in digital media an...   \n",
       "3  On the journey to be the world's most trusted ...   \n",
       "4  We are an adaptive learning company that empow...   \n",
       "\n",
       "                                job_description_text   seniority_level  \\\n",
       "0  OverviewUpper Hand is embarking on an exciting...        Internship   \n",
       "1  Company DescriptionThe Ikigai platform unlocks...  Mid-Senior level   \n",
       "2  Our CompanyChanging the world through digital ...       Entry level   \n",
       "3  Waymo is an autonomous driving technology comp...       Entry level   \n",
       "4  Job Title: Machine Learning EngineerLocation: ...  Mid-Senior level   \n",
       "\n",
       "                                           job_title  \n",
       "0  Internship - Machine Learning Engineer & Data ...  \n",
       "1                          Machine Learning Engineer  \n",
       "2                          Machine Learning Engineer  \n",
       "3                Machine Learning Engineer, Training  \n",
       "4                          Machine Learning Engineer  "
      ]
     },
     "execution_count": 49,
     "metadata": {},
     "output_type": "execute_result"
    }
   ],
   "source": [
    "df = pd.read_csv('1000_ml_jobs_us.csv')\n",
    "df.head()"
   ]
  },
  {
   "cell_type": "code",
   "execution_count": null,
   "id": "2e9cc3a3",
   "metadata": {},
   "outputs": [
    {
     "data": {
      "text/plain": [
       "Unnamed: 0                                                                  2\n",
       "job_posted_date                                                    2025-04-09\n",
       "company_address_locality                                             San Jose\n",
       "company_address_region                                                     CA\n",
       "company_name                                                            Adobe\n",
       "company_website                                          http://www.adobe.com\n",
       "company_description         Adobe is the global leader in digital media an...\n",
       "job_description_text        Our CompanyChanging the world through digital ...\n",
       "seniority_level                                                   Entry level\n",
       "job_title                                           Machine Learning Engineer\n",
       "Name: 2, dtype: object"
      ]
     },
     "execution_count": 50,
     "metadata": {},
     "output_type": "execute_result"
    }
   ],
   "source": [
    "df.loc[2] # this is a row"
   ]
  },
  {
   "cell_type": "code",
   "execution_count": null,
   "id": "2cd9714b",
   "metadata": {},
   "outputs": [
    {
     "data": {
      "text/plain": [
       "0            Indiana\n",
       "1         California\n",
       "2                 CA\n",
       "3         California\n",
       "4      Massachusetts\n",
       "           ...      \n",
       "992               CA\n",
       "993            Texas\n",
       "994               NY\n",
       "995               CA\n",
       "996    Massachusetts\n",
       "Name: company_address_region, Length: 997, dtype: object"
      ]
     },
     "execution_count": 57,
     "metadata": {},
     "output_type": "execute_result"
    }
   ],
   "source": [
    "df.iloc[0:,3] # column 3"
   ]
  },
  {
   "cell_type": "code",
   "execution_count": null,
   "id": "468d4a35",
   "metadata": {},
   "outputs": [
    {
     "data": {
      "text/plain": [
       "Index(['job_posted_date', 'company_address_locality', 'company_address_region',\n",
       "       'company_name', 'company_website', 'company_description',\n",
       "       'job_description_text', 'seniority_level', 'job_title'],\n",
       "      dtype='object')"
      ]
     },
     "execution_count": 64,
     "metadata": {},
     "output_type": "execute_result"
    }
   ],
   "source": [
    "# remove a column\n",
    "df.drop('Unnamed: 0', axis=1, inplace = True)\n",
    "df.columns"
   ]
  },
  {
   "cell_type": "code",
   "execution_count": null,
   "id": "c2584ad6",
   "metadata": {},
   "outputs": [
    {
     "data": {
      "text/html": [
       "<div>\n",
       "<style scoped>\n",
       "    .dataframe tbody tr th:only-of-type {\n",
       "        vertical-align: middle;\n",
       "    }\n",
       "\n",
       "    .dataframe tbody tr th {\n",
       "        vertical-align: top;\n",
       "    }\n",
       "\n",
       "    .dataframe thead th {\n",
       "        text-align: right;\n",
       "    }\n",
       "</style>\n",
       "<table border=\"1\" class=\"dataframe\">\n",
       "  <thead>\n",
       "    <tr style=\"text-align: right;\">\n",
       "      <th></th>\n",
       "      <th>job_posted_date</th>\n",
       "      <th>company_address_locality</th>\n",
       "      <th>company_address_region</th>\n",
       "      <th>company_name</th>\n",
       "      <th>company_website</th>\n",
       "      <th>company_description</th>\n",
       "      <th>job_description_text</th>\n",
       "      <th>seniority_level</th>\n",
       "      <th>job_title</th>\n",
       "    </tr>\n",
       "  </thead>\n",
       "  <tbody>\n",
       "    <tr>\n",
       "      <th>2</th>\n",
       "      <td>2025-04-09</td>\n",
       "      <td>San Jose</td>\n",
       "      <td>CA</td>\n",
       "      <td>Adobe</td>\n",
       "      <td>http://www.adobe.com</td>\n",
       "      <td>Adobe is the global leader in digital media an...</td>\n",
       "      <td>Our CompanyChanging the world through digital ...</td>\n",
       "      <td>Entry level</td>\n",
       "      <td>Machine Learning Engineer</td>\n",
       "    </tr>\n",
       "    <tr>\n",
       "      <th>3</th>\n",
       "      <td>2025-03-22</td>\n",
       "      <td>Mountain View</td>\n",
       "      <td>California</td>\n",
       "      <td>Waymo</td>\n",
       "      <td>https://waymo.com/careers/</td>\n",
       "      <td>On the journey to be the world's most trusted ...</td>\n",
       "      <td>Waymo is an autonomous driving technology comp...</td>\n",
       "      <td>Entry level</td>\n",
       "      <td>Machine Learning Engineer, Training</td>\n",
       "    </tr>\n",
       "    <tr>\n",
       "      <th>4</th>\n",
       "      <td>2025-03-28</td>\n",
       "      <td>Boston</td>\n",
       "      <td>Massachusetts</td>\n",
       "      <td>HMH</td>\n",
       "      <td>http://www.hmhco.com</td>\n",
       "      <td>We are an adaptive learning company that empow...</td>\n",
       "      <td>Job Title: Machine Learning EngineerLocation: ...</td>\n",
       "      <td>Mid-Senior level</td>\n",
       "      <td>Machine Learning Engineer</td>\n",
       "    </tr>\n",
       "    <tr>\n",
       "      <th>5</th>\n",
       "      <td>2025-04-02</td>\n",
       "      <td>San Jose</td>\n",
       "      <td>CA</td>\n",
       "      <td>Adobe</td>\n",
       "      <td>http://www.adobe.com</td>\n",
       "      <td>Adobe is the global leader in digital media an...</td>\n",
       "      <td>Our CompanyChanging the world through digital ...</td>\n",
       "      <td>Internship</td>\n",
       "      <td>2025 Intern - Machine Learning Engineer AI/ML</td>\n",
       "    </tr>\n",
       "    <tr>\n",
       "      <th>6</th>\n",
       "      <td>2025-03-25</td>\n",
       "      <td>Deerfield</td>\n",
       "      <td>IL</td>\n",
       "      <td>Walgreens</td>\n",
       "      <td>http://www.walgreens.com</td>\n",
       "      <td>Walgreens (www.walgreens.com) is included in t...</td>\n",
       "      <td>Job SummaryApplies advanced data analysis tool...</td>\n",
       "      <td>Not Applicable</td>\n",
       "      <td>Data Scientist - Healthcare &amp; Clinical Data (R...</td>\n",
       "    </tr>\n",
       "    <tr>\n",
       "      <th>...</th>\n",
       "      <td>...</td>\n",
       "      <td>...</td>\n",
       "      <td>...</td>\n",
       "      <td>...</td>\n",
       "      <td>...</td>\n",
       "      <td>...</td>\n",
       "      <td>...</td>\n",
       "      <td>...</td>\n",
       "      <td>...</td>\n",
       "    </tr>\n",
       "    <tr>\n",
       "      <th>992</th>\n",
       "      <td>2025-04-03</td>\n",
       "      <td>Menlo Park</td>\n",
       "      <td>CA</td>\n",
       "      <td>Meta</td>\n",
       "      <td>https://www.metacareers.com/</td>\n",
       "      <td>Meta's mission is to build the future of human...</td>\n",
       "      <td>Reality Labs at Meta is building products that...</td>\n",
       "      <td>Not Applicable</td>\n",
       "      <td>Software Engineer, Computer Vision - Reality Labs</td>\n",
       "    </tr>\n",
       "    <tr>\n",
       "      <th>993</th>\n",
       "      <td>2025-04-01</td>\n",
       "      <td>Houston</td>\n",
       "      <td>Texas</td>\n",
       "      <td>The Lab Consulting</td>\n",
       "      <td>http://www.thelabconsulting.com</td>\n",
       "      <td>The Lab is a management consulting firm that h...</td>\n",
       "      <td>We are a mid-sized Management Consulting, Auto...</td>\n",
       "      <td>Mid-Senior level</td>\n",
       "      <td>Data Scientist</td>\n",
       "    </tr>\n",
       "    <tr>\n",
       "      <th>994</th>\n",
       "      <td>2025-04-02</td>\n",
       "      <td>New York</td>\n",
       "      <td>NY</td>\n",
       "      <td>FanDuel</td>\n",
       "      <td>https://www.fanduel.careers/</td>\n",
       "      <td>FanDuel Group is an innovative sports-tech ent...</td>\n",
       "      <td>About FanduelFanDuel Group is the premier mobi...</td>\n",
       "      <td>Director</td>\n",
       "      <td>Software Engineer - React</td>\n",
       "    </tr>\n",
       "    <tr>\n",
       "      <th>995</th>\n",
       "      <td>2025-04-01</td>\n",
       "      <td>Mountain View</td>\n",
       "      <td>CA</td>\n",
       "      <td>X, The Moonshot Factory</td>\n",
       "      <td>https://x.company</td>\n",
       "      <td>We create breakthrough technologies to help so...</td>\n",
       "      <td>About The TeamTapestry, is X’s moonshot for th...</td>\n",
       "      <td>Mid-Senior level</td>\n",
       "      <td>Machine Learning Engineer, Tapestry</td>\n",
       "    </tr>\n",
       "    <tr>\n",
       "      <th>996</th>\n",
       "      <td>2025-02-03</td>\n",
       "      <td>Watertown</td>\n",
       "      <td>Massachusetts</td>\n",
       "      <td>Tutor Intelligence</td>\n",
       "      <td>https://tutorintelligence.com/</td>\n",
       "      <td>Tutor Intelligence is a full-service robotics ...</td>\n",
       "      <td>The Company:Tutor Intelligence is a startup bu...</td>\n",
       "      <td>Not Applicable</td>\n",
       "      <td>Robotics Machine Learning Engineer</td>\n",
       "    </tr>\n",
       "  </tbody>\n",
       "</table>\n",
       "<p>995 rows × 9 columns</p>\n",
       "</div>"
      ],
      "text/plain": [
       "    job_posted_date company_address_locality company_address_region  \\\n",
       "2        2025-04-09                 San Jose                     CA   \n",
       "3        2025-03-22            Mountain View             California   \n",
       "4        2025-03-28                   Boston          Massachusetts   \n",
       "5        2025-04-02                 San Jose                     CA   \n",
       "6        2025-03-25                Deerfield                     IL   \n",
       "..              ...                      ...                    ...   \n",
       "992      2025-04-03               Menlo Park                     CA   \n",
       "993      2025-04-01                  Houston                  Texas   \n",
       "994      2025-04-02                 New York                     NY   \n",
       "995      2025-04-01            Mountain View                     CA   \n",
       "996      2025-02-03                Watertown          Massachusetts   \n",
       "\n",
       "                company_name                  company_website  \\\n",
       "2                      Adobe             http://www.adobe.com   \n",
       "3                      Waymo       https://waymo.com/careers/   \n",
       "4                        HMH             http://www.hmhco.com   \n",
       "5                      Adobe             http://www.adobe.com   \n",
       "6                  Walgreens         http://www.walgreens.com   \n",
       "..                       ...                              ...   \n",
       "992                     Meta     https://www.metacareers.com/   \n",
       "993       The Lab Consulting  http://www.thelabconsulting.com   \n",
       "994                  FanDuel     https://www.fanduel.careers/   \n",
       "995  X, The Moonshot Factory                https://x.company   \n",
       "996       Tutor Intelligence   https://tutorintelligence.com/   \n",
       "\n",
       "                                   company_description  \\\n",
       "2    Adobe is the global leader in digital media an...   \n",
       "3    On the journey to be the world's most trusted ...   \n",
       "4    We are an adaptive learning company that empow...   \n",
       "5    Adobe is the global leader in digital media an...   \n",
       "6    Walgreens (www.walgreens.com) is included in t...   \n",
       "..                                                 ...   \n",
       "992  Meta's mission is to build the future of human...   \n",
       "993  The Lab is a management consulting firm that h...   \n",
       "994  FanDuel Group is an innovative sports-tech ent...   \n",
       "995  We create breakthrough technologies to help so...   \n",
       "996  Tutor Intelligence is a full-service robotics ...   \n",
       "\n",
       "                                  job_description_text   seniority_level  \\\n",
       "2    Our CompanyChanging the world through digital ...       Entry level   \n",
       "3    Waymo is an autonomous driving technology comp...       Entry level   \n",
       "4    Job Title: Machine Learning EngineerLocation: ...  Mid-Senior level   \n",
       "5    Our CompanyChanging the world through digital ...        Internship   \n",
       "6    Job SummaryApplies advanced data analysis tool...    Not Applicable   \n",
       "..                                                 ...               ...   \n",
       "992  Reality Labs at Meta is building products that...    Not Applicable   \n",
       "993  We are a mid-sized Management Consulting, Auto...  Mid-Senior level   \n",
       "994  About FanduelFanDuel Group is the premier mobi...          Director   \n",
       "995  About The TeamTapestry, is X’s moonshot for th...  Mid-Senior level   \n",
       "996  The Company:Tutor Intelligence is a startup bu...    Not Applicable   \n",
       "\n",
       "                                             job_title  \n",
       "2                            Machine Learning Engineer  \n",
       "3                  Machine Learning Engineer, Training  \n",
       "4                            Machine Learning Engineer  \n",
       "5        2025 Intern - Machine Learning Engineer AI/ML  \n",
       "6    Data Scientist - Healthcare & Clinical Data (R...  \n",
       "..                                                 ...  \n",
       "992  Software Engineer, Computer Vision - Reality Labs  \n",
       "993                                     Data Scientist  \n",
       "994                          Software Engineer - React  \n",
       "995                Machine Learning Engineer, Tapestry  \n",
       "996                 Robotics Machine Learning Engineer  \n",
       "\n",
       "[995 rows x 9 columns]"
      ]
     },
     "execution_count": 68,
     "metadata": {},
     "output_type": "execute_result"
    }
   ],
   "source": [
    "# drop a row\n",
    "df.drop(1, inplace= True)\n",
    "df"
   ]
  },
  {
   "cell_type": "code",
   "execution_count": null,
   "id": "02ba32c7",
   "metadata": {},
   "outputs": [
    {
     "data": {
      "text/plain": [
       "job_posted_date             object\n",
       "company_address_locality    object\n",
       "company_address_region      object\n",
       "company_name                object\n",
       "company_website             object\n",
       "company_description         object\n",
       "job_description_text        object\n",
       "seniority_level             object\n",
       "job_title                   object\n",
       "dtype: object"
      ]
     },
     "execution_count": 69,
     "metadata": {},
     "output_type": "execute_result"
    }
   ],
   "source": [
    "df.dtypes"
   ]
  },
  {
   "cell_type": "code",
   "execution_count": null,
   "id": "910cc8b5",
   "metadata": {},
   "outputs": [
    {
     "data": {
      "text/html": [
       "<div>\n",
       "<style scoped>\n",
       "    .dataframe tbody tr th:only-of-type {\n",
       "        vertical-align: middle;\n",
       "    }\n",
       "\n",
       "    .dataframe tbody tr th {\n",
       "        vertical-align: top;\n",
       "    }\n",
       "\n",
       "    .dataframe thead th {\n",
       "        text-align: right;\n",
       "    }\n",
       "</style>\n",
       "<table border=\"1\" class=\"dataframe\">\n",
       "  <thead>\n",
       "    <tr style=\"text-align: right;\">\n",
       "      <th></th>\n",
       "      <th>job_posted_date</th>\n",
       "      <th>company_address_locality</th>\n",
       "      <th>company_address_region</th>\n",
       "      <th>company_name</th>\n",
       "      <th>company_website</th>\n",
       "      <th>company_description</th>\n",
       "      <th>job_description_text</th>\n",
       "      <th>seniority_level</th>\n",
       "      <th>job_title</th>\n",
       "    </tr>\n",
       "  </thead>\n",
       "  <tbody>\n",
       "    <tr>\n",
       "      <th>count</th>\n",
       "      <td>995</td>\n",
       "      <td>948</td>\n",
       "      <td>882</td>\n",
       "      <td>995</td>\n",
       "      <td>981</td>\n",
       "      <td>983</td>\n",
       "      <td>994</td>\n",
       "      <td>986</td>\n",
       "      <td>995</td>\n",
       "    </tr>\n",
       "    <tr>\n",
       "      <th>unique</th>\n",
       "      <td>116</td>\n",
       "      <td>178</td>\n",
       "      <td>87</td>\n",
       "      <td>486</td>\n",
       "      <td>476</td>\n",
       "      <td>478</td>\n",
       "      <td>793</td>\n",
       "      <td>7</td>\n",
       "      <td>449</td>\n",
       "    </tr>\n",
       "    <tr>\n",
       "      <th>top</th>\n",
       "      <td>2025-04-09</td>\n",
       "      <td>San Francisco</td>\n",
       "      <td>California</td>\n",
       "      <td>TikTok</td>\n",
       "      <td>https://www.tiktok.com/about?lang=en</td>\n",
       "      <td>TikTok is the world's leading destination for ...</td>\n",
       "      <td>Meta is embarking on the most transformative c...</td>\n",
       "      <td>Mid-Senior level</td>\n",
       "      <td>Machine Learning Engineer</td>\n",
       "    </tr>\n",
       "    <tr>\n",
       "      <th>freq</th>\n",
       "      <td>87</td>\n",
       "      <td>147</td>\n",
       "      <td>307</td>\n",
       "      <td>88</td>\n",
       "      <td>88</td>\n",
       "      <td>88</td>\n",
       "      <td>12</td>\n",
       "      <td>370</td>\n",
       "      <td>242</td>\n",
       "    </tr>\n",
       "  </tbody>\n",
       "</table>\n",
       "</div>"
      ],
      "text/plain": [
       "       job_posted_date company_address_locality company_address_region  \\\n",
       "count              995                      948                    882   \n",
       "unique             116                      178                     87   \n",
       "top         2025-04-09            San Francisco             California   \n",
       "freq                87                      147                    307   \n",
       "\n",
       "       company_name                       company_website  \\\n",
       "count           995                                   981   \n",
       "unique          486                                   476   \n",
       "top          TikTok  https://www.tiktok.com/about?lang=en   \n",
       "freq             88                                    88   \n",
       "\n",
       "                                      company_description  \\\n",
       "count                                                 983   \n",
       "unique                                                478   \n",
       "top     TikTok is the world's leading destination for ...   \n",
       "freq                                                   88   \n",
       "\n",
       "                                     job_description_text   seniority_level  \\\n",
       "count                                                 994               986   \n",
       "unique                                                793                 7   \n",
       "top     Meta is embarking on the most transformative c...  Mid-Senior level   \n",
       "freq                                                   12               370   \n",
       "\n",
       "                        job_title  \n",
       "count                         995  \n",
       "unique                        449  \n",
       "top     Machine Learning Engineer  \n",
       "freq                          242  "
      ]
     },
     "execution_count": 70,
     "metadata": {},
     "output_type": "execute_result"
    }
   ],
   "source": [
    "df.describe()"
   ]
  },
  {
   "cell_type": "code",
   "execution_count": null,
   "id": "27874e0a",
   "metadata": {},
   "outputs": [
    {
     "data": {
      "text/plain": [
       "job_posted_date               0\n",
       "company_address_locality     47\n",
       "company_address_region      113\n",
       "company_name                  0\n",
       "company_website              14\n",
       "company_description          12\n",
       "job_description_text          1\n",
       "seniority_level               9\n",
       "job_title                     0\n",
       "dtype: int64"
      ]
     },
     "execution_count": 75,
     "metadata": {},
     "output_type": "execute_result"
    }
   ],
   "source": [
    "df.isnull().sum()"
   ]
  },
  {
   "cell_type": "code",
   "execution_count": null,
   "id": "8d7a49c5",
   "metadata": {},
   "outputs": [
    {
     "data": {
      "text/plain": [
       "job_posted_date               0\n",
       "company_address_locality     47\n",
       "company_address_region      113\n",
       "company_name                  0\n",
       "company_website              14\n",
       "company_description          12\n",
       "job_description_text          0\n",
       "seniority_level               8\n",
       "job_title                     0\n",
       "dtype: int64"
      ]
     },
     "execution_count": 78,
     "metadata": {},
     "output_type": "execute_result"
    }
   ],
   "source": [
    "df.dropna(subset=['job_description_text'], inplace=True) # for a specific column\n",
    "df.isnull().sum()"
   ]
  },
  {
   "cell_type": "code",
   "execution_count": null,
   "id": "1600b57d",
   "metadata": {},
   "outputs": [
    {
     "data": {
      "text/plain": [
       "job_posted_date             object\n",
       "company_address_locality    object\n",
       "company_address_region      object\n",
       "company_name                object\n",
       "company_website             object\n",
       "company_description         object\n",
       "job_description_text        object\n",
       "seniority_level             object\n",
       "job_title                   object\n",
       "dtype: object"
      ]
     },
     "execution_count": 76,
     "metadata": {},
     "output_type": "execute_result"
    }
   ],
   "source": [
    "df.dtypes"
   ]
  },
  {
   "cell_type": "code",
   "execution_count": null,
   "id": "6ee15678",
   "metadata": {},
   "outputs": [
    {
     "data": {
      "text/plain": [
       "Index(['job_posted_date', 'company_address_locality', 'company_address_region',\n",
       "       'company_name', 'company_website', 'company_description',\n",
       "       'job_description_text', 'seniority_level', 'job_title'],\n",
       "      dtype='object')"
      ]
     },
     "execution_count": 80,
     "metadata": {},
     "output_type": "execute_result"
    }
   ],
   "source": [
    "df.columns"
   ]
  },
  {
   "cell_type": "code",
   "execution_count": null,
   "id": "c3a627ef",
   "metadata": {},
   "outputs": [
    {
     "data": {
      "text/html": [
       "<div>\n",
       "<style scoped>\n",
       "    .dataframe tbody tr th:only-of-type {\n",
       "        vertical-align: middle;\n",
       "    }\n",
       "\n",
       "    .dataframe tbody tr th {\n",
       "        vertical-align: top;\n",
       "    }\n",
       "\n",
       "    .dataframe thead th {\n",
       "        text-align: right;\n",
       "    }\n",
       "</style>\n",
       "<table border=\"1\" class=\"dataframe\">\n",
       "  <thead>\n",
       "    <tr style=\"text-align: right;\">\n",
       "      <th></th>\n",
       "      <th>job_posted_date</th>\n",
       "      <th>company_location</th>\n",
       "      <th>company_address_region</th>\n",
       "      <th>company_name</th>\n",
       "      <th>company_website</th>\n",
       "      <th>company_description</th>\n",
       "      <th>job_description_text</th>\n",
       "      <th>seniority_level</th>\n",
       "      <th>job_title</th>\n",
       "    </tr>\n",
       "  </thead>\n",
       "  <tbody>\n",
       "    <tr>\n",
       "      <th>2</th>\n",
       "      <td>2025-04-09</td>\n",
       "      <td>San Jose</td>\n",
       "      <td>CA</td>\n",
       "      <td>Adobe</td>\n",
       "      <td>http://www.adobe.com</td>\n",
       "      <td>Adobe is the global leader in digital media an...</td>\n",
       "      <td>Our CompanyChanging the world through digital ...</td>\n",
       "      <td>Entry level</td>\n",
       "      <td>Machine Learning Engineer</td>\n",
       "    </tr>\n",
       "    <tr>\n",
       "      <th>3</th>\n",
       "      <td>2025-03-22</td>\n",
       "      <td>Mountain View</td>\n",
       "      <td>California</td>\n",
       "      <td>Waymo</td>\n",
       "      <td>https://waymo.com/careers/</td>\n",
       "      <td>On the journey to be the world's most trusted ...</td>\n",
       "      <td>Waymo is an autonomous driving technology comp...</td>\n",
       "      <td>Entry level</td>\n",
       "      <td>Machine Learning Engineer, Training</td>\n",
       "    </tr>\n",
       "    <tr>\n",
       "      <th>4</th>\n",
       "      <td>2025-03-28</td>\n",
       "      <td>Boston</td>\n",
       "      <td>Massachusetts</td>\n",
       "      <td>HMH</td>\n",
       "      <td>http://www.hmhco.com</td>\n",
       "      <td>We are an adaptive learning company that empow...</td>\n",
       "      <td>Job Title: Machine Learning EngineerLocation: ...</td>\n",
       "      <td>Mid-Senior level</td>\n",
       "      <td>Machine Learning Engineer</td>\n",
       "    </tr>\n",
       "    <tr>\n",
       "      <th>5</th>\n",
       "      <td>2025-04-02</td>\n",
       "      <td>San Jose</td>\n",
       "      <td>CA</td>\n",
       "      <td>Adobe</td>\n",
       "      <td>http://www.adobe.com</td>\n",
       "      <td>Adobe is the global leader in digital media an...</td>\n",
       "      <td>Our CompanyChanging the world through digital ...</td>\n",
       "      <td>Internship</td>\n",
       "      <td>2025 Intern - Machine Learning Engineer AI/ML</td>\n",
       "    </tr>\n",
       "    <tr>\n",
       "      <th>6</th>\n",
       "      <td>2025-03-25</td>\n",
       "      <td>Deerfield</td>\n",
       "      <td>IL</td>\n",
       "      <td>Walgreens</td>\n",
       "      <td>http://www.walgreens.com</td>\n",
       "      <td>Walgreens (www.walgreens.com) is included in t...</td>\n",
       "      <td>Job SummaryApplies advanced data analysis tool...</td>\n",
       "      <td>Not Applicable</td>\n",
       "      <td>Data Scientist - Healthcare &amp; Clinical Data (R...</td>\n",
       "    </tr>\n",
       "  </tbody>\n",
       "</table>\n",
       "</div>"
      ],
      "text/plain": [
       "  job_posted_date company_location company_address_region company_name  \\\n",
       "2      2025-04-09         San Jose                     CA        Adobe   \n",
       "3      2025-03-22    Mountain View             California        Waymo   \n",
       "4      2025-03-28           Boston          Massachusetts          HMH   \n",
       "5      2025-04-02         San Jose                     CA        Adobe   \n",
       "6      2025-03-25        Deerfield                     IL    Walgreens   \n",
       "\n",
       "              company_website  \\\n",
       "2        http://www.adobe.com   \n",
       "3  https://waymo.com/careers/   \n",
       "4        http://www.hmhco.com   \n",
       "5        http://www.adobe.com   \n",
       "6    http://www.walgreens.com   \n",
       "\n",
       "                                 company_description  \\\n",
       "2  Adobe is the global leader in digital media an...   \n",
       "3  On the journey to be the world's most trusted ...   \n",
       "4  We are an adaptive learning company that empow...   \n",
       "5  Adobe is the global leader in digital media an...   \n",
       "6  Walgreens (www.walgreens.com) is included in t...   \n",
       "\n",
       "                                job_description_text   seniority_level  \\\n",
       "2  Our CompanyChanging the world through digital ...       Entry level   \n",
       "3  Waymo is an autonomous driving technology comp...       Entry level   \n",
       "4  Job Title: Machine Learning EngineerLocation: ...  Mid-Senior level   \n",
       "5  Our CompanyChanging the world through digital ...        Internship   \n",
       "6  Job SummaryApplies advanced data analysis tool...    Not Applicable   \n",
       "\n",
       "                                           job_title  \n",
       "2                          Machine Learning Engineer  \n",
       "3                Machine Learning Engineer, Training  \n",
       "4                          Machine Learning Engineer  \n",
       "5      2025 Intern - Machine Learning Engineer AI/ML  \n",
       "6  Data Scientist - Healthcare & Clinical Data (R...  "
      ]
     },
     "execution_count": 82,
     "metadata": {},
     "output_type": "execute_result"
    }
   ],
   "source": [
    "# renaming columns\n",
    "df = df.rename(columns={'company_address_locality' : 'company_location'})\n",
    "df.head()"
   ]
  },
  {
   "cell_type": "code",
   "execution_count": 2,
   "id": "c8477619",
   "metadata": {},
   "outputs": [
    {
     "ename": "NameError",
     "evalue": "name 'df' is not defined",
     "output_type": "error",
     "traceback": [
      "\u001b[0;31m---------------------------------------------------------------------------\u001b[0m",
      "\u001b[0;31mNameError\u001b[0m                                 Traceback (most recent call last)",
      "Cell \u001b[0;32mIn[2], line 2\u001b[0m\n\u001b[1;32m      1\u001b[0m \u001b[38;5;66;03m# changing data types\u001b[39;00m\n\u001b[0;32m----> 2\u001b[0m \u001b[43mdf\u001b[49m\u001b[38;5;241m.\u001b[39mdtypes\n\u001b[1;32m      3\u001b[0m \u001b[38;5;66;03m# df['new_column'] = df['column'].astype(float)\u001b[39;00m\n",
      "\u001b[0;31mNameError\u001b[0m: name 'df' is not defined"
     ]
    }
   ],
   "source": [
    "# changing data types\n",
    "df.dtypes\n",
    "# df['new_column'] = df['column'].astype(float)"
   ]
  },
  {
   "cell_type": "code",
   "execution_count": 5,
   "id": "ffad032c",
   "metadata": {},
   "outputs": [
    {
     "data": {
      "text/html": [
       "<div>\n",
       "<style scoped>\n",
       "    .dataframe tbody tr th:only-of-type {\n",
       "        vertical-align: middle;\n",
       "    }\n",
       "\n",
       "    .dataframe tbody tr th {\n",
       "        vertical-align: top;\n",
       "    }\n",
       "\n",
       "    .dataframe thead th {\n",
       "        text-align: right;\n",
       "    }\n",
       "</style>\n",
       "<table border=\"1\" class=\"dataframe\">\n",
       "  <thead>\n",
       "    <tr style=\"text-align: right;\">\n",
       "      <th></th>\n",
       "      <th>Unnamed: 0</th>\n",
       "      <th>job_posted_date</th>\n",
       "      <th>company_address_locality</th>\n",
       "      <th>company_address_region</th>\n",
       "      <th>company_name</th>\n",
       "      <th>company_website</th>\n",
       "      <th>company_description</th>\n",
       "      <th>job_description_text</th>\n",
       "      <th>seniority_level</th>\n",
       "      <th>job_title</th>\n",
       "    </tr>\n",
       "  </thead>\n",
       "  <tbody>\n",
       "    <tr>\n",
       "      <th>0</th>\n",
       "      <td>0</td>\n",
       "      <td>2024-10-31</td>\n",
       "      <td>Indianapolis</td>\n",
       "      <td>Indiana</td>\n",
       "      <td>Upper Hand</td>\n",
       "      <td>https://upperhand.com</td>\n",
       "      <td>Upper Hand is the leading provider of full-sui...</td>\n",
       "      <td>OverviewUpper Hand is embarking on an exciting...</td>\n",
       "      <td>Internship</td>\n",
       "      <td>Internship - Machine Learning Engineer &amp; Data ...</td>\n",
       "    </tr>\n",
       "    <tr>\n",
       "      <th>1</th>\n",
       "      <td>1</td>\n",
       "      <td>2025-03-14</td>\n",
       "      <td>San Francisco</td>\n",
       "      <td>California</td>\n",
       "      <td>Ikigai</td>\n",
       "      <td>https://www.ikigailabs.io</td>\n",
       "      <td>Built upon years of MIT research, Ikigai is a ...</td>\n",
       "      <td>Company DescriptionThe Ikigai platform unlocks...</td>\n",
       "      <td>Mid-Senior level</td>\n",
       "      <td>Machine Learning Engineer</td>\n",
       "    </tr>\n",
       "    <tr>\n",
       "      <th>2</th>\n",
       "      <td>2</td>\n",
       "      <td>2025-04-09</td>\n",
       "      <td>San Jose</td>\n",
       "      <td>CA</td>\n",
       "      <td>Adobe</td>\n",
       "      <td>http://www.adobe.com</td>\n",
       "      <td>Adobe is the global leader in digital media an...</td>\n",
       "      <td>Our CompanyChanging the world through digital ...</td>\n",
       "      <td>Entry level</td>\n",
       "      <td>Machine Learning Engineer</td>\n",
       "    </tr>\n",
       "    <tr>\n",
       "      <th>3</th>\n",
       "      <td>3</td>\n",
       "      <td>2025-03-22</td>\n",
       "      <td>Mountain View</td>\n",
       "      <td>California</td>\n",
       "      <td>Waymo</td>\n",
       "      <td>https://waymo.com/careers/</td>\n",
       "      <td>On the journey to be the world's most trusted ...</td>\n",
       "      <td>Waymo is an autonomous driving technology comp...</td>\n",
       "      <td>Entry level</td>\n",
       "      <td>Machine Learning Engineer, Training</td>\n",
       "    </tr>\n",
       "    <tr>\n",
       "      <th>4</th>\n",
       "      <td>4</td>\n",
       "      <td>2025-03-28</td>\n",
       "      <td>Boston</td>\n",
       "      <td>Massachusetts</td>\n",
       "      <td>HMH</td>\n",
       "      <td>http://www.hmhco.com</td>\n",
       "      <td>We are an adaptive learning company that empow...</td>\n",
       "      <td>Job Title: Machine Learning EngineerLocation: ...</td>\n",
       "      <td>Mid-Senior level</td>\n",
       "      <td>Machine Learning Engineer</td>\n",
       "    </tr>\n",
       "  </tbody>\n",
       "</table>\n",
       "</div>"
      ],
      "text/plain": [
       "   Unnamed: 0 job_posted_date company_address_locality company_address_region  \\\n",
       "0           0      2024-10-31             Indianapolis                Indiana   \n",
       "1           1      2025-03-14            San Francisco             California   \n",
       "2           2      2025-04-09                 San Jose                     CA   \n",
       "3           3      2025-03-22            Mountain View             California   \n",
       "4           4      2025-03-28                   Boston          Massachusetts   \n",
       "\n",
       "  company_name             company_website  \\\n",
       "0   Upper Hand       https://upperhand.com   \n",
       "1       Ikigai   https://www.ikigailabs.io   \n",
       "2        Adobe        http://www.adobe.com   \n",
       "3        Waymo  https://waymo.com/careers/   \n",
       "4          HMH        http://www.hmhco.com   \n",
       "\n",
       "                                 company_description  \\\n",
       "0  Upper Hand is the leading provider of full-sui...   \n",
       "1  Built upon years of MIT research, Ikigai is a ...   \n",
       "2  Adobe is the global leader in digital media an...   \n",
       "3  On the journey to be the world's most trusted ...   \n",
       "4  We are an adaptive learning company that empow...   \n",
       "\n",
       "                                job_description_text   seniority_level  \\\n",
       "0  OverviewUpper Hand is embarking on an exciting...        Internship   \n",
       "1  Company DescriptionThe Ikigai platform unlocks...  Mid-Senior level   \n",
       "2  Our CompanyChanging the world through digital ...       Entry level   \n",
       "3  Waymo is an autonomous driving technology comp...       Entry level   \n",
       "4  Job Title: Machine Learning EngineerLocation: ...  Mid-Senior level   \n",
       "\n",
       "                                           job_title  \n",
       "0  Internship - Machine Learning Engineer & Data ...  \n",
       "1                          Machine Learning Engineer  \n",
       "2                          Machine Learning Engineer  \n",
       "3                Machine Learning Engineer, Training  \n",
       "4                          Machine Learning Engineer  "
      ]
     },
     "execution_count": 5,
     "metadata": {},
     "output_type": "execute_result"
    }
   ],
   "source": [
    "import pandas as pd\n",
    "df = pd.read_csv('1000_ml_jobs_us.csv')\n",
    "df.head()"
   ]
  },
  {
   "cell_type": "code",
   "execution_count": 6,
   "id": "ee41ebfb",
   "metadata": {},
   "outputs": [
    {
     "data": {
      "text/plain": [
       "Index(['Unnamed: 0', 'job_posted_date', 'company_address_locality',\n",
       "       'company_address_region', 'company_name', 'company_website',\n",
       "       'company_description', 'job_description_text', 'seniority_level',\n",
       "       'job_title'],\n",
       "      dtype='object')"
      ]
     },
     "execution_count": 6,
     "metadata": {},
     "output_type": "execute_result"
    }
   ],
   "source": [
    "df.columns"
   ]
  },
  {
   "cell_type": "code",
   "execution_count": 14,
   "id": "1aee3e06",
   "metadata": {},
   "outputs": [
    {
     "data": {
      "text/html": [
       "<div>\n",
       "<style scoped>\n",
       "    .dataframe tbody tr th:only-of-type {\n",
       "        vertical-align: middle;\n",
       "    }\n",
       "\n",
       "    .dataframe tbody tr th {\n",
       "        vertical-align: top;\n",
       "    }\n",
       "\n",
       "    .dataframe thead th {\n",
       "        text-align: right;\n",
       "    }\n",
       "</style>\n",
       "<table border=\"1\" class=\"dataframe\">\n",
       "  <thead>\n",
       "    <tr style=\"text-align: right;\">\n",
       "      <th></th>\n",
       "      <th>company_name</th>\n",
       "      <th>job_title</th>\n",
       "      <th>job_posted_date</th>\n",
       "    </tr>\n",
       "  </thead>\n",
       "  <tbody>\n",
       "    <tr>\n",
       "      <th>0</th>\n",
       "      <td>222</td>\n",
       "      <td>Machine Learning Engineer</td>\n",
       "      <td>2025-04-09</td>\n",
       "    </tr>\n",
       "    <tr>\n",
       "      <th>1</th>\n",
       "      <td>AEP Hawaii</td>\n",
       "      <td>Machine Learning Engineer</td>\n",
       "      <td>2025-03-11</td>\n",
       "    </tr>\n",
       "    <tr>\n",
       "      <th>2</th>\n",
       "      <td>AI Fund</td>\n",
       "      <td>Machine Learning Engineer</td>\n",
       "      <td>2025-03-30</td>\n",
       "    </tr>\n",
       "    <tr>\n",
       "      <th>3</th>\n",
       "      <td>AI Fund</td>\n",
       "      <td>Machine Learning Engineer - Fine Tuning</td>\n",
       "      <td>2025-04-01</td>\n",
       "    </tr>\n",
       "    <tr>\n",
       "      <th>4</th>\n",
       "      <td>AIQ.com (Alpine IQ)</td>\n",
       "      <td>Software Engineer</td>\n",
       "      <td>2025-04-01</td>\n",
       "    </tr>\n",
       "    <tr>\n",
       "      <th>...</th>\n",
       "      <td>...</td>\n",
       "      <td>...</td>\n",
       "      <td>...</td>\n",
       "    </tr>\n",
       "    <tr>\n",
       "      <th>732</th>\n",
       "      <td>sync.</td>\n",
       "      <td>Machine Learning Engineer</td>\n",
       "      <td>2024-12-11</td>\n",
       "    </tr>\n",
       "    <tr>\n",
       "      <th>733</th>\n",
       "      <td>techire ai</td>\n",
       "      <td>Machine Learning Engineer</td>\n",
       "      <td>2025-03-27</td>\n",
       "    </tr>\n",
       "    <tr>\n",
       "      <th>734</th>\n",
       "      <td>thrively</td>\n",
       "      <td>AI Software Engineer</td>\n",
       "      <td>2025-04-09</td>\n",
       "    </tr>\n",
       "    <tr>\n",
       "      <th>735</th>\n",
       "      <td>twentyAI</td>\n",
       "      <td>Data Scientist</td>\n",
       "      <td>2025-04-09</td>\n",
       "    </tr>\n",
       "    <tr>\n",
       "      <th>736</th>\n",
       "      <td>webAI</td>\n",
       "      <td>AI Software Engineer</td>\n",
       "      <td>2025-04-08</td>\n",
       "    </tr>\n",
       "  </tbody>\n",
       "</table>\n",
       "<p>737 rows × 3 columns</p>\n",
       "</div>"
      ],
      "text/plain": [
       "            company_name                                job_title  \\\n",
       "0                    222                Machine Learning Engineer   \n",
       "1             AEP Hawaii                Machine Learning Engineer   \n",
       "2                AI Fund                Machine Learning Engineer   \n",
       "3                AI Fund  Machine Learning Engineer - Fine Tuning   \n",
       "4    AIQ.com (Alpine IQ)                        Software Engineer   \n",
       "..                   ...                                      ...   \n",
       "732                sync.                Machine Learning Engineer   \n",
       "733           techire ai                Machine Learning Engineer   \n",
       "734             thrively                     AI Software Engineer   \n",
       "735             twentyAI                           Data Scientist   \n",
       "736                webAI                     AI Software Engineer   \n",
       "\n",
       "    job_posted_date  \n",
       "0        2025-04-09  \n",
       "1        2025-03-11  \n",
       "2        2025-03-30  \n",
       "3        2025-04-01  \n",
       "4        2025-04-01  \n",
       "..              ...  \n",
       "732      2024-12-11  \n",
       "733      2025-03-27  \n",
       "734      2025-04-09  \n",
       "735      2025-04-09  \n",
       "736      2025-04-08  \n",
       "\n",
       "[737 rows x 3 columns]"
      ]
     },
     "execution_count": 14,
     "metadata": {},
     "output_type": "execute_result"
    }
   ],
   "source": [
    "import pandas as pd\n",
    "\n",
    "# Assuming df is your DataFrame\n",
    "grouped = df.groupby(['company_name', 'job_title'])['job_posted_date'].min().reset_index()\n",
    "grouped\n"
   ]
  },
  {
   "cell_type": "code",
   "execution_count": null,
   "id": "7a6afd2f",
   "metadata": {},
   "outputs": [
    {
     "name": "stderr",
     "output_type": "stream",
     "text": [
      "DEBUG:root:This is a debug message\n",
      "INFO:root:This is a info message\n",
      "WARNING:root:This is a warning message\n",
      "ERROR:root:This is an error message\n",
      "CRITICAL:root:This is a critical message\n"
     ]
    }
   ],
   "source": [
    "# Logging in python\n",
    "import logging\n",
    "\n",
    "# configure the basic logging settings\n",
    "logging.basicConfig(level=logging.DEBUG)\n",
    "\n",
    "# Log messages in different severity settings\n",
    "logging.debug(\"This is a debug message\") # typically of interest when diagnosing  problem\n",
    "logging.info(\"This is a info message\") # things are working as expected\n",
    "logging.warning(\"This is a warning message\") #  indication that something unexpected happened\n",
    "logging.error(\"This is an error message\") # due to a more serious problem, system is not able to perform some function\n",
    "logging.critical(\"This is a critical message\") # a very serios error, indicating that the program itself may be unable to continue running"
   ]
  },
  {
   "cell_type": "code",
   "execution_count": 25,
   "id": "c541fa26",
   "metadata": {},
   "outputs": [
    {
     "name": "stdout",
     "output_type": "stream",
     "text": [
      "Log file written to: /home/wanyua/Dev/ML/Python-Machine-Learning-Tutorial/Python_for_data_science/app.log\n"
     ]
    }
   ],
   "source": [
    "import logging\n",
    "import os\n",
    "\n",
    "# Reset handlers if already configured\n",
    "for handler in logging.root.handlers[:]:\n",
    "    logging.root.removeHandler(handler)\n",
    "\n",
    "# Configure logging\n",
    "logging.basicConfig(\n",
    "    filename='app.log',\n",
    "    filemode='w',\n",
    "    level=logging.DEBUG,\n",
    "    format='%(asctime)s - %(name)s - %(levelname)s - %(message)s',\n",
    "    datefmt='%Y-%m-%d %H:%M:%S'\n",
    ")\n",
    "\n",
    "# Log messages\n",
    "logging.debug(\"This is a debug message\")\n",
    "logging.info(\"This is an info message\")\n",
    "logging.warning(\"This is a warning message\")\n",
    "logging.error(\"This is an error message\")\n",
    "logging.critical(\"This is a critical message\")\n",
    "\n",
    "print(\"Log file written to:\", os.path.abspath(\"app.log\"))\n"
   ]
  },
  {
   "cell_type": "code",
   "execution_count": 30,
   "id": "c1ae9f1c",
   "metadata": {},
   "outputs": [
    {
     "name": "stderr",
     "output_type": "stream",
     "text": [
      "2025-05-19 22:10:58 - module1 - DEBUG - This is a debug message for module1\n",
      "2025-05-19 22:10:58 - module2 - WARNING - This is a warning message for module2\n",
      "2025-05-19 22:10:58 - module2 - ERROR - This is an error message for module2\n"
     ]
    }
   ],
   "source": [
    "import logging\n",
    "\n",
    "# create a handler\n",
    "console_handler = logging.StreamHandler()\n",
    "console_handler.setFormatter(logging.Formatter(\n",
    "    '%(asctime)s - %(name)s - %(levelname)s - %(message)s',\n",
    "    datefmt='%Y-%m-%d %H:%M:%S'\n",
    "))\n",
    "\n",
    "# create logger for module 1\n",
    "logger1 = logging.getLogger(\"module1\")\n",
    "logger1.setLevel(logging.DEBUG)\n",
    "logger1.addHandler(console_handler)\n",
    "\n",
    "# create logger for module 2\n",
    "logger2 = logging.getLogger(\"module2\")\n",
    "logger2.setLevel(logging.WARNING)\n",
    "logger2.addHandler(console_handler)\n",
    "\n",
    "# Log messages with different loggers\n",
    "logger1.debug(\"This is a debug message for module1\")\n",
    "logger2.warning(\"This is a warning message for module2\")\n",
    "logger2.error(\"This is an error message for module2\")\n"
   ]
  },
  {
   "cell_type": "code",
   "execution_count": null,
   "id": "4ab3727c",
   "metadata": {},
   "outputs": [],
   "source": []
  }
 ],
 "metadata": {
  "kernelspec": {
   "display_name": "env",
   "language": "python",
   "name": "python3"
  },
  "language_info": {
   "codemirror_mode": {
    "name": "ipython",
    "version": 3
   },
   "file_extension": ".py",
   "mimetype": "text/x-python",
   "name": "python",
   "nbconvert_exporter": "python",
   "pygments_lexer": "ipython3",
   "version": "3.8.10"
  }
 },
 "nbformat": 4,
 "nbformat_minor": 5
}
