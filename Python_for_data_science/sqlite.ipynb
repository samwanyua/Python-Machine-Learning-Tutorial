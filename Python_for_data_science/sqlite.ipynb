{
 "cells": [
  {
   "cell_type": "code",
   "execution_count": 1,
   "id": "688692e3",
   "metadata": {},
   "outputs": [],
   "source": [
    "import sqlite3"
   ]
  },
  {
   "cell_type": "code",
   "execution_count": 2,
   "id": "42cb38cf",
   "metadata": {},
   "outputs": [
    {
     "data": {
      "text/plain": [
       "<sqlite3.Connection at 0x7f9dbc32eb70>"
      ]
     },
     "execution_count": 2,
     "metadata": {},
     "output_type": "execute_result"
    }
   ],
   "source": [
    "# Connect to SQLite database\n",
    "connection = sqlite3.connect('sam.db')\n",
    "connection"
   ]
  },
  {
   "cell_type": "code",
   "execution_count": 3,
   "id": "127c44da",
   "metadata": {},
   "outputs": [],
   "source": [
    "# create cursor\n",
    "cursor = connection.cursor()\n",
    "# create a table\n",
    "cursor.execute('''\n",
    "Create Table If Not Exists employees(\n",
    "    id Integer Primary Key,\n",
    "    name Text Not Null,\n",
    "    age Integer,\n",
    "    department Text\n",
    "    \n",
    "    )\n",
    "\n",
    "''')\n",
    "\n",
    "# commit changes\n",
    "connection.commit()"
   ]
  },
  {
   "cell_type": "code",
   "execution_count": 5,
   "id": "db6588fd",
   "metadata": {},
   "outputs": [
    {
     "data": {
      "text/plain": [
       "<sqlite3.Cursor at 0x7f9dbc0feb90>"
      ]
     },
     "execution_count": 5,
     "metadata": {},
     "output_type": "execute_result"
    }
   ],
   "source": [
    "cursor.execute(''' \n",
    "    select * from employees\n",
    "    ''')"
   ]
  },
  {
   "cell_type": "code",
   "execution_count": 10,
   "id": "90bce056",
   "metadata": {},
   "outputs": [],
   "source": [
    "# insert data into the table\n",
    "cursor.execute('''\n",
    "Insert Into employees(name,age, department)\n",
    "               values('Dancan', 28, 'Devops team')\n",
    "''')\n",
    "\n",
    "connection.commit()"
   ]
  },
  {
   "cell_type": "code",
   "execution_count": 19,
   "id": "aabd53df",
   "metadata": {},
   "outputs": [
    {
     "name": "stdout",
     "output_type": "stream",
     "text": [
      "(1, 'Annestar', 34, 'Data team')\n",
      "(2, 'Brian', 23, 'Operations team')\n",
      "(3, 'Charles', 28, 'Sales team')\n"
     ]
    }
   ],
   "source": [
    "# query data\n",
    "cursor.execute('select * from employees')\n",
    "rows = cursor.fetchall()\n",
    "\n",
    "for row in rows:\n",
    "    print(row)"
   ]
  },
  {
   "cell_type": "code",
   "execution_count": 13,
   "id": "65abe8d3",
   "metadata": {},
   "outputs": [],
   "source": [
    "# update data in the table\n",
    "cursor.execute('''\n",
    "Update employees\n",
    "set age=34\n",
    "where name = 'Annestar'\n",
    "''')\n",
    "\n",
    "connection.commit()"
   ]
  },
  {
   "cell_type": "code",
   "execution_count": 18,
   "id": "304b2d27",
   "metadata": {},
   "outputs": [],
   "source": [
    "# delete data from the table\n",
    "cursor.execute('''\n",
    "Delete from employees\n",
    "where name = 'Dancan'\n",
    "''')\n",
    "\n",
    "connection.commit()"
   ]
  },
  {
   "cell_type": "code",
   "execution_count": 20,
   "id": "4aaa5003",
   "metadata": {},
   "outputs": [
    {
     "data": {
      "text/plain": [
       "<sqlite3.Cursor at 0x7f9daed0bf10>"
      ]
     },
     "execution_count": 20,
     "metadata": {},
     "output_type": "execute_result"
    }
   ],
   "source": [
    "# Sales Data\n",
    "connection = sqlite3.connect('sales_data.db')\n",
    "cursor = connection.cursor()\n",
    "\n",
    "cursor.execute('''\n",
    "CREATE TABLE IF NOT EXISTS sales(\n",
    "    id INTEGER PRIMARY KEY,\n",
    "    data TEXT NOT NULL,\n",
    "    product TEXT NOT NULL,\n",
    "    sales INTEGER,\n",
    "    region TEXT\n",
    "    )\n",
    "\n",
    "''')"
   ]
  },
  {
   "cell_type": "code",
   "execution_count": 22,
   "id": "73883048",
   "metadata": {},
   "outputs": [],
   "source": [
    "# Insert data\n",
    "sales_data = [\n",
    "    ('2023-01-01', 'Laptops', 4394729, 'North America'),\n",
    "    ('2023-01-01', 'Ipads', 2394789, 'South America'),\n",
    "    ('2023-09-01', 'Tablets', 734298, ' Asia'),\n",
    "    ('2023-01-01', 'Phones', 24895279, 'Europe'),\n",
    "    ('2023-01-08', 'Earphones', 2743008, 'Africa'),\n",
    "    ('2024-01-01', 'Monitors', 34729972, 'Central America')\n",
    "]\n",
    "\n",
    "cursor.executemany('''\n",
    "    INSERT INTO sales(data, product, sales, region)\n",
    "    values(?,?,?,?)\n",
    "    ''', sales_data)\n",
    "\n",
    "connection.commit()\n"
   ]
  },
  {
   "cell_type": "code",
   "execution_count": 24,
   "id": "89704fd0",
   "metadata": {},
   "outputs": [
    {
     "name": "stdout",
     "output_type": "stream",
     "text": [
      "(1, '2023-01-01', 'Laptops', 4394729, 'North America')\n",
      "(2, '2023-01-01', 'Ipads', 2394789, 'South America')\n",
      "(3, '2023-09-01', 'Tablets', 734298, ' Asia')\n",
      "(4, '2023-01-01', 'Phones', 24895279, 'Europe')\n",
      "(5, '2023-01-08', 'Earphones', 2743008, 'Africa')\n",
      "(6, '2024-01-01', 'Monitors', 34729972, 'Central America')\n"
     ]
    }
   ],
   "source": [
    "cursor.execute('''\n",
    "    SELECT * FROM sales\n",
    "''')\n",
    "rows = cursor.fetchall()\n",
    "for row in rows:\n",
    "    print(row)"
   ]
  },
  {
   "cell_type": "code",
   "execution_count": null,
   "id": "cb80b49e",
   "metadata": {},
   "outputs": [],
   "source": []
  }
 ],
 "metadata": {
  "kernelspec": {
   "display_name": "env",
   "language": "python",
   "name": "python3"
  },
  "language_info": {
   "codemirror_mode": {
    "name": "ipython",
    "version": 3
   },
   "file_extension": ".py",
   "mimetype": "text/x-python",
   "name": "python",
   "nbconvert_exporter": "python",
   "pygments_lexer": "ipython3",
   "version": "3.8.10"
  }
 },
 "nbformat": 4,
 "nbformat_minor": 5
}
